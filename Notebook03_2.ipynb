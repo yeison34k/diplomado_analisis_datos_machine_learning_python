{
  "nbformat": 4,
  "nbformat_minor": 0,
  "metadata": {
    "colab": {
      "name": "Notebook03-2.ipynb",
      "provenance": [],
      "collapsed_sections": [
        "-OvIOX4zj2TO"
      ],
      "include_colab_link": true
    },
    "kernelspec": {
      "name": "python3",
      "display_name": "Python 3"
    }
  },
  "cells": [
    {
      "cell_type": "markdown",
      "metadata": {
        "id": "view-in-github",
        "colab_type": "text"
      },
      "source": [
        "<a href=\"https://colab.research.google.com/github/yeison34k/diplomado_analisis_datos_machine_learning_python/blob/main/Notebook03_2.ipynb\" target=\"_parent\"><img src=\"https://colab.research.google.com/assets/colab-badge.svg\" alt=\"Open In Colab\"/></a>"
      ]
    },
    {
      "cell_type": "markdown",
      "metadata": {
        "id": "MmUU_s3VVUqe"
      },
      "source": [
        "<p><img alt=\"Colaboratory logo\" height=\"140px\" src=\"https://upload.wikimedia.org/wikipedia/commons/archive/f/fb/20161010213812%21Escudo-UdeA.svg\" align=\"left\" hspace=\"10px\" vspace=\"0px\"></p>\n",
        "\n",
        "# **Diplomado de Análisis de datos y Machine Learning en Python**\n",
        "\n",
        "El presente diplomado hace parte del centro de Big Data de la facultad de ciencias exactas y naturales (FCEN) de la Universidad de Antioquia.\n",
        "\n",
        "## **Sesión 6**\n",
        "\n",
        "## **Contenido**\n",
        "  \n",
        "- <a href=\"#num\"> NumPy</a><br>\n",
        "- <a href=\"#arr\"> Arreglos en NumPy</a><br>\n",
        "- <a href=\"#ope\"> Operaciones sobre los arreglos</a><br>\n",
        "- <a href=\"#apeA\"> Apéndice A: Iteradores útiles</a><br>\n",
        "\n",
        "\n",
        "\n",
        "\n",
        "\n",
        "\n",
        "\n",
        "\n",
        "\n"
      ]
    },
    {
      "cell_type": "markdown",
      "metadata": {
        "id": "_xWT5B3cZ5ks"
      },
      "source": [
        "\n",
        "\n",
        "La implementación estándar de Python está escrita en C. Esto significa que cada objeto de Python es simplemente una estructura de C, que contiene no solo su valor, sino también otra información. Ya hemos visto que cuando definimos una variable, esta es en realidad un puntero a una estructura compuesta de C, que contiene ciertos valores diferentes: referencia, tipo, tamaño, valor, etc."
      ]
    },
    {
      "cell_type": "markdown",
      "metadata": {
        "id": "B5RKnXOzfP5s"
      },
      "source": [
        "![variables in C](https://i.imgur.com/0RQOTQ0.png)"
      ]
    },
    {
      "cell_type": "markdown",
      "metadata": {
        "id": "8_zvefG5f0Za"
      },
      "source": [
        "![](https://i.imgur.com/F3IQqwE.png)"
      ]
    },
    {
      "cell_type": "markdown",
      "metadata": {
        "id": "S1_inYh9aNRD"
      },
      "source": [
        "Recordemos que en Python, al ser un lenguaje de tipado dinámico, podemos generar listas donde cada uno de sus elementos pueden ser de cualquier tipo"
      ]
    },
    {
      "cell_type": "code",
      "metadata": {
        "id": "f5AnsypNaN6E",
        "colab": {
          "base_uri": "https://localhost:8080/"
        },
        "outputId": "c52fbfa0-638f-4c2e-daf0-613f2c926dd1"
      },
      "source": [
        "l = [1, 2.0, \"tres\", None]\n",
        "[type(i) for i in l]"
      ],
      "execution_count": null,
      "outputs": [
        {
          "output_type": "execute_result",
          "data": {
            "text/plain": [
              "[int, float, str, NoneType]"
            ]
          },
          "metadata": {
            "tags": []
          },
          "execution_count": 3
        }
      ]
    },
    {
      "cell_type": "markdown",
      "metadata": {
        "id": "Wke-LRAzaLsy"
      },
      "source": [
        "Esta flexibilidad tiene un costo: cada elemento de la lista debe contener su propia información, es decir, cada elemento es un objeto completo de Python. En el caso especial en que todas las variables sean del mismo tipo, gran parte de esta información es redundante: puede ser mucho más eficiente almacenar datos en una lista de tipo homogéneo. Python ofrece diferentes opciones para almacenar datos de esta manera (por ejemplo a través del módulo `array`). Sin embargo, la mejor manera de generar este tipo de objetos es a través de la libreria NumPy.\n",
        "\n"
      ]
    },
    {
      "cell_type": "markdown",
      "metadata": {
        "id": "UnwBij2FYLC8"
      },
      "source": [
        "<p><a name=\"num\"></a></p>\n",
        "\n",
        "# **NumPy** (Numerical Python)\n",
        "\n",
        "En el núcleo de la mayoría de los problemas encontramos un **arreglo**. Desde el punto de vista computacional, un arreglo es un bloque contiguo de memoria donde cada elemento tiene el mismo tipo.\n",
        "\n",
        "Los diferentes lenguajes de programación utilizados en computación científica tienen alguna noción de manejo de datos basado en arreglos, ya sea integrado en el lenguaje propio o a través de paquetes proporcionados por terceros.\n",
        "\n",
        "NumPy es el paquete fundamental para la computación científica en Python. Es una libreria de Python que proporciona herramientas para la generación de arreglos y una variedad de funcionalidades para realizar operaciones sobre estos, que generalmente se realizan de una manera más eficiente que lo que se puede lograr con funcionalidades propias de Python. NumPy sirve como bloque básico para una gran cantidad de paquetes científicos y de análisis de datos.\n",
        "\n",
        "En el núcleo de NumPy, está el objeto `ndarray` (n-dimensional array). Este encapsula arreglos n-dimensionales de tipos de datos homogéneos, con muchas operaciones que se realizan en código compilado, con lo cual se mejora el rendimiento significativamente. La diferencia entre una lista de tipo dinámico y un arreglo de tipo fijo (al estilo NumPy) se ilustra en la siguiente figura:\n",
        "\n"
      ]
    },
    {
      "cell_type": "markdown",
      "metadata": {
        "id": "DubMLI8uYZsv"
      },
      "source": [
        "<p><img alt=\"Colaboratory logo\" height=\"350px\" src=\"https://i.imgur.com/8EbyB0c.png\" align=\"left\" hspace=\"10px\" vspace=\"0px\"></p>"
      ]
    },
    {
      "cell_type": "markdown",
      "metadata": {
        "id": "23kiqlTudyki"
      },
      "source": [
        "Al nivel de implementación, el arreglo contiene esencialmente un puntero único a un bloque contiguo de datos. La lista de Python, por otro lado, contiene un puntero a un bloque de punteros, cada uno de los cuales a su vez apunta a un objeto completo de Python como el entero de Python que vimos anteriormente.\n",
        "\n",
        "En resumen, estas son las diferencias más importantes entre los arreglos de NumPy y las secuencias estándar de Python:\n",
        "\n",
        "* Todos los elementos en un arreglo de NumPy deben ser del mismo tipo de dato y, por lo tanto, tendrán el mismo tamaño en memoria.\n",
        "* Los arreglos de NumPy tienen un tamaño fijo en la creación, a diferencia de las listas de Python (que pueden crecer dinámicamente). Cambiar el tamaño de un `ndarray` creará un nuevo arreglo y eliminará el original.\n",
        "* Los arreglos de NumPy facilitan operaciones avanzadas matemáticas y de otro tipo en grandes cantidades de datos. Típicamente, tales operaciones se ejecutan de manera más eficiente que usando las secuencias integradas de Python.\n",
        "\n"
      ]
    },
    {
      "cell_type": "markdown",
      "metadata": {
        "id": "epJPd5nVibfR"
      },
      "source": [
        "<p><a name=\"arr\"></a></p>\n",
        "\n",
        "# **Arreglos en Numpy**\n",
        "\n",
        "Por convención, la librería NumPy se import con el alias `np`"
      ]
    },
    {
      "cell_type": "code",
      "metadata": {
        "id": "jayLcM0ugkUT"
      },
      "source": [
        "# from numpy import *\n",
        "# from numpy import array "
      ],
      "execution_count": null,
      "outputs": []
    },
    {
      "cell_type": "code",
      "metadata": {
        "id": "uzi2rEa5jtcj"
      },
      "source": [
        "import numpy as np"
      ],
      "execution_count": null,
      "outputs": []
    },
    {
      "cell_type": "markdown",
      "metadata": {
        "id": "HaDPZCKyiiHx"
      },
      "source": [
        "Podemos construir un objeto `ndarray`, a partir de una lista de Python, mediante el constructor `array`:\n"
      ]
    },
    {
      "cell_type": "code",
      "metadata": {
        "id": "3WVZXH0Hikpx"
      },
      "source": [
        "arreglo1 = np.array([1, 2, 3])"
      ],
      "execution_count": null,
      "outputs": []
    },
    {
      "cell_type": "code",
      "metadata": {
        "id": "i02ZlSioZHiJ",
        "colab": {
          "base_uri": "https://localhost:8080/"
        },
        "outputId": "826fde31-c4c5-4aac-9b44-77134f663f37"
      },
      "source": [
        "print(arreglo1)"
      ],
      "execution_count": null,
      "outputs": [
        {
          "output_type": "stream",
          "text": [
            "[1 2 3]\n"
          ],
          "name": "stdout"
        }
      ]
    },
    {
      "cell_type": "code",
      "metadata": {
        "id": "vf6J7l6YecI_",
        "colab": {
          "base_uri": "https://localhost:8080/"
        },
        "outputId": "c93aacfb-af66-4ef0-df7e-8d8b3925c400"
      },
      "source": [
        "type(arreglo1)"
      ],
      "execution_count": null,
      "outputs": [
        {
          "output_type": "execute_result",
          "data": {
            "text/plain": [
              "numpy.ndarray"
            ]
          },
          "metadata": {
            "tags": []
          },
          "execution_count": 7
        }
      ]
    },
    {
      "cell_type": "markdown",
      "metadata": {
        "id": "eM0gLkqZiqps"
      },
      "source": [
        "El objeto `ndarray` representa efectivamente un bloque de memoria de tamaño fijo, el cual contiene una serie de atributos y métodos que definen su estructura. Veamos algunos de los atributos más importantes de este objeto:\n",
        "\n",
        "### **dtype:** \n",
        "\n",
        "El tipo de dato (data type) es el atributo más importante. Este determina el tamaño y el significado de cada elemento del arreglo. El sistema predeterminado de dtypes que proporciona NumPy (ver siguiente imagen) es más preciso y más amplio para los tipos básicos que el sistema de tipos que implementa el lenguaje Python. Podemos ver el data type como `arreglo.dtype`"
      ]
    },
    {
      "cell_type": "code",
      "metadata": {
        "id": "ELCQ7Lwmi3mh",
        "colab": {
          "base_uri": "https://localhost:8080/"
        },
        "outputId": "a97d3a2f-435f-4b52-b455-d0f9208245cd"
      },
      "source": [
        "arreglo1.dtype "
      ],
      "execution_count": null,
      "outputs": [
        {
          "output_type": "execute_result",
          "data": {
            "text/plain": [
              "dtype('int64')"
            ]
          },
          "metadata": {
            "tags": []
          },
          "execution_count": 8
        }
      ]
    },
    {
      "cell_type": "markdown",
      "metadata": {
        "id": "UJ7-gnp7iyxz"
      },
      "source": [
        "<p><img alt=\"Colaboratory logo\" height=\"400px\" src=\"https://i.imgur.com/2RpU9w1.png\" align=\"left\" hspace=\"10px\" vspace=\"0px\"></p>"
      ]
    },
    {
      "cell_type": "code",
      "metadata": {
        "id": "ecUM9kPZemaR",
        "colab": {
          "base_uri": "https://localhost:8080/"
        },
        "outputId": "b9b060d5-3daf-4afc-9938-55391a704d6e"
      },
      "source": [
        "arreglo2 = np.array([1, 2, 3], dtype= 'float')\n",
        "print(arreglo2.dtype)"
      ],
      "execution_count": null,
      "outputs": [
        {
          "output_type": "stream",
          "text": [
            "float64\n"
          ],
          "name": "stdout"
        }
      ]
    },
    {
      "cell_type": "markdown",
      "metadata": {
        "id": "zRymWwMTiz1Z"
      },
      "source": [
        "### **shape:** \n",
        "\n",
        "Atributo que devuelve una tupla de enteros que representa el rango a lo largo de cada dimensión de los arreglos n-dimensionales."
      ]
    },
    {
      "cell_type": "code",
      "metadata": {
        "id": "g6i1EdbJbSho",
        "colab": {
          "base_uri": "https://localhost:8080/"
        },
        "outputId": "4a731dea-1ce1-4f8a-aafa-ec87b1031a0f"
      },
      "source": [
        "l1 = [[1, 2], [3, 4]]\n",
        "l2 = [1, 2, 3, 4]\n",
        "arr1 = np.array(l1)\n",
        "arr2 = np.array(l2)\n",
        "print(arr1)\n",
        "print(arr2)\n",
        "print(arr1.shape)\n",
        "print(arr2.shape)\n"
      ],
      "execution_count": null,
      "outputs": [
        {
          "output_type": "stream",
          "text": [
            "[[1 2]\n",
            " [3 4]]\n",
            "[1 2 3 4]\n",
            "(2, 2)\n",
            "(4,)\n"
          ],
          "name": "stdout"
        }
      ]
    },
    {
      "cell_type": "markdown",
      "metadata": {
        "id": "yd60isKPjCuB"
      },
      "source": [
        "La forma `(4,)`, nos dice que `l` es un arreglo unidimensional, donde la dimensión tiene un rango 4. La dimensión y el número de elementos del arreglo se pueden obtener mediante los atributos `ndim` y `size`, respectivamente:"
      ]
    },
    {
      "cell_type": "code",
      "metadata": {
        "colab": {
          "base_uri": "https://localhost:8080/"
        },
        "id": "6WSsxV3_3XNt",
        "outputId": "57f2abc7-b2f6-4fb5-f411-d1cc250b82f8"
      },
      "source": [
        "4**3"
      ],
      "execution_count": null,
      "outputs": [
        {
          "output_type": "execute_result",
          "data": {
            "text/plain": [
              "64"
            ]
          },
          "metadata": {
            "tags": []
          },
          "execution_count": 19
        }
      ]
    },
    {
      "cell_type": "code",
      "metadata": {
        "id": "zdrD74A-jGhR",
        "colab": {
          "base_uri": "https://localhost:8080/"
        },
        "outputId": "4592748c-4173-4eab-c7cc-540888af8af0"
      },
      "source": [
        "arr1.ndim"
      ],
      "execution_count": null,
      "outputs": [
        {
          "output_type": "execute_result",
          "data": {
            "text/plain": [
              "2"
            ]
          },
          "metadata": {
            "tags": []
          },
          "execution_count": 17
        }
      ]
    },
    {
      "cell_type": "code",
      "metadata": {
        "id": "NdvtadvbjKOH",
        "colab": {
          "base_uri": "https://localhost:8080/"
        },
        "outputId": "a2f49453-48b1-46ac-d9fb-168395642cfc"
      },
      "source": [
        "arr2.ndim"
      ],
      "execution_count": null,
      "outputs": [
        {
          "output_type": "execute_result",
          "data": {
            "text/plain": [
              "1"
            ]
          },
          "metadata": {
            "tags": []
          },
          "execution_count": 18
        }
      ]
    },
    {
      "cell_type": "code",
      "metadata": {
        "colab": {
          "base_uri": "https://localhost:8080/"
        },
        "id": "hvt8cRkK3NC5",
        "outputId": "4666e51d-7e08-49f7-ef98-8bde7810a2df"
      },
      "source": [
        "arr3 = np.array([i for i in range(64)])\n",
        "arr3.shape = (4,4,4)\n",
        "print(arr3)"
      ],
      "execution_count": null,
      "outputs": [
        {
          "output_type": "stream",
          "text": [
            "[[[ 0  1  2  3]\n",
            "  [ 4  5  6  7]\n",
            "  [ 8  9 10 11]\n",
            "  [12 13 14 15]]\n",
            "\n",
            " [[16 17 18 19]\n",
            "  [20 21 22 23]\n",
            "  [24 25 26 27]\n",
            "  [28 29 30 31]]\n",
            "\n",
            " [[32 33 34 35]\n",
            "  [36 37 38 39]\n",
            "  [40 41 42 43]\n",
            "  [44 45 46 47]]\n",
            "\n",
            " [[48 49 50 51]\n",
            "  [52 53 54 55]\n",
            "  [56 57 58 59]\n",
            "  [60 61 62 63]]]\n"
          ],
          "name": "stdout"
        }
      ]
    },
    {
      "cell_type": "code",
      "metadata": {
        "colab": {
          "base_uri": "https://localhost:8080/"
        },
        "id": "1PSxhd4F3hXy",
        "outputId": "b53a0db5-ba7b-4956-e270-968e2205a902"
      },
      "source": [
        "arr3.ndim"
      ],
      "execution_count": null,
      "outputs": [
        {
          "output_type": "execute_result",
          "data": {
            "text/plain": [
              "3"
            ]
          },
          "metadata": {
            "tags": []
          },
          "execution_count": 21
        }
      ]
    },
    {
      "cell_type": "code",
      "metadata": {
        "id": "7pjljBLJcYrO",
        "colab": {
          "base_uri": "https://localhost:8080/"
        },
        "outputId": "848cfdba-ce38-48ae-f916-49bf78d10446"
      },
      "source": [
        "arr1.size"
      ],
      "execution_count": null,
      "outputs": [
        {
          "output_type": "execute_result",
          "data": {
            "text/plain": [
              "4"
            ]
          },
          "metadata": {
            "tags": []
          },
          "execution_count": 22
        }
      ]
    },
    {
      "cell_type": "code",
      "metadata": {
        "colab": {
          "base_uri": "https://localhost:8080/"
        },
        "id": "Gx13ogD53t_i",
        "outputId": "7592f9c8-5f95-44ad-d0ae-13eaae3254be"
      },
      "source": [
        "arr2.size"
      ],
      "execution_count": null,
      "outputs": [
        {
          "output_type": "execute_result",
          "data": {
            "text/plain": [
              "4"
            ]
          },
          "metadata": {
            "tags": []
          },
          "execution_count": 23
        }
      ]
    },
    {
      "cell_type": "code",
      "metadata": {
        "colab": {
          "base_uri": "https://localhost:8080/"
        },
        "id": "N0Dc_OzR3t6a",
        "outputId": "905d8de3-31b8-4061-d7c2-12cebfa0736c"
      },
      "source": [
        "arr3.size"
      ],
      "execution_count": null,
      "outputs": [
        {
          "output_type": "execute_result",
          "data": {
            "text/plain": [
              "64"
            ]
          },
          "metadata": {
            "tags": []
          },
          "execution_count": 24
        }
      ]
    },
    {
      "cell_type": "markdown",
      "metadata": {
        "id": "BcNv1blEjN0X"
      },
      "source": [
        "Podemos modificar la forma del arreglo modificando el atributo shape:"
      ]
    },
    {
      "cell_type": "code",
      "metadata": {
        "id": "iv2T4d-cjO2J"
      },
      "source": [
        "arr1.shape = (4,)"
      ],
      "execution_count": null,
      "outputs": []
    },
    {
      "cell_type": "code",
      "metadata": {
        "id": "qv0SmUP7c3-l",
        "colab": {
          "base_uri": "https://localhost:8080/"
        },
        "outputId": "63048653-f6d1-45f9-c071-ff7a33774c5f"
      },
      "source": [
        "print(arr1)"
      ],
      "execution_count": null,
      "outputs": [
        {
          "output_type": "stream",
          "text": [
            "[1 2 3 4]\n"
          ],
          "name": "stdout"
        }
      ]
    },
    {
      "cell_type": "markdown",
      "metadata": {
        "id": "Jn_0QNSHjlPY"
      },
      "source": [
        "Alternativamente, NumPy proporciona el método `reshape`, con el cual podemos cambiar la forma de un arreglo. Este toma como argumento el arreglo a modificar y un entero o tupla que represente la nueva forma. \n",
        "\n",
        "Esta nueva forma debe ser compatible con el número de elementos que tenga el arreglo. Cambiemos la forma de `l` para tener un vector fila:"
      ]
    },
    {
      "cell_type": "code",
      "metadata": {
        "id": "fGoTIUW0DZ_l",
        "colab": {
          "base_uri": "https://localhost:8080/"
        },
        "outputId": "c122d7cc-2660-47cf-d8e7-4f47fbb7120d"
      },
      "source": [
        "arr4 = np.array([[1,2,3],[4,5,6]])\n",
        "print(arr4)"
      ],
      "execution_count": null,
      "outputs": [
        {
          "output_type": "stream",
          "text": [
            "[[1 2 3]\n",
            " [4 5 6]]\n"
          ],
          "name": "stdout"
        }
      ]
    },
    {
      "cell_type": "markdown",
      "metadata": {
        "id": "IPeVXHXZjrTO"
      },
      "source": [
        "NumPy nos permite pasar una de las dimensiones como `-1`. De esta manera, Numpy se encargará de que el rango en esa dimensión sea compatible con el arreglo original y con el rango de la dimensión que se fijó:"
      ]
    },
    {
      "cell_type": "code",
      "metadata": {
        "id": "tAkaZSHug3Lw",
        "colab": {
          "base_uri": "https://localhost:8080/"
        },
        "outputId": "c650c654-d717-4dd5-dee3-35a5d8a40b76"
      },
      "source": [
        "arr4.shape = (-1,)\n",
        "print(arr4)"
      ],
      "execution_count": null,
      "outputs": [
        {
          "output_type": "stream",
          "text": [
            "[1 2 3 4 5 6]\n"
          ],
          "name": "stdout"
        }
      ]
    },
    {
      "cell_type": "code",
      "metadata": {
        "id": "sWZJnig8jsGW",
        "colab": {
          "base_uri": "https://localhost:8080/"
        },
        "outputId": "53af9fee-bdeb-40b4-d718-251ffdb28d94"
      },
      "source": [
        "arr4.reshape((3,2))"
      ],
      "execution_count": null,
      "outputs": [
        {
          "output_type": "execute_result",
          "data": {
            "text/plain": [
              "array([[1, 2],\n",
              "       [3, 4],\n",
              "       [5, 6]])"
            ]
          },
          "metadata": {
            "tags": []
          },
          "execution_count": 32
        }
      ]
    },
    {
      "cell_type": "markdown",
      "metadata": {
        "id": "9LRVTgs2hTYN"
      },
      "source": [
        "##**Tarea**\n",
        "\n",
        "Consultar cómo construir arreglos con números aleatorios. ¿Se puede construir un arreglo con números aleatorios que sigan una distribución normal, exponencial?"
      ]
    },
    {
      "cell_type": "markdown",
      "metadata": {
        "id": "-OvIOX4zj2TO"
      },
      "source": [
        "## **Formas alternativas de construir arreglos:** \n",
        "\n",
        "NumPy proporciona formas alternativas de crear arreglos. Las funciones más comunes son `arange`, `linspace` `zeros`, `ones`, `full` y `empty`. "
      ]
    },
    {
      "cell_type": "markdown",
      "metadata": {
        "id": "JjxW0LPCkG-G"
      },
      "source": [
        "* La función `arange()` toma un inicio, final y un paso como la función `range()` de Python, excepto que devuelve un `ndarray` y que el paso puede ser un número real."
      ]
    },
    {
      "cell_type": "code",
      "metadata": {
        "id": "vCkbV5l6kLTX",
        "colab": {
          "base_uri": "https://localhost:8080/"
        },
        "outputId": "3c6f8695-db2b-48f5-d4a9-defa2e95bf56"
      },
      "source": [
        "np.arange(6)"
      ],
      "execution_count": null,
      "outputs": [
        {
          "output_type": "execute_result",
          "data": {
            "text/plain": [
              "array([0, 1, 2, 3, 4, 5])"
            ]
          },
          "metadata": {
            "tags": []
          },
          "execution_count": 33
        }
      ]
    },
    {
      "cell_type": "code",
      "metadata": {
        "colab": {
          "base_uri": "https://localhost:8080/"
        },
        "id": "PM3fc2Bu5IXh",
        "outputId": "09d9eee8-a7cd-4ae3-c7c6-52a4682a3f7e"
      },
      "source": [
        "np.arange(2,6)"
      ],
      "execution_count": null,
      "outputs": [
        {
          "output_type": "execute_result",
          "data": {
            "text/plain": [
              "array([2, 3, 4, 5])"
            ]
          },
          "metadata": {
            "tags": []
          },
          "execution_count": 34
        }
      ]
    },
    {
      "cell_type": "code",
      "metadata": {
        "colab": {
          "base_uri": "https://localhost:8080/"
        },
        "id": "655WGZE45LeE",
        "outputId": "7c80d3ae-3595-4c3b-8c01-79a59ec78682"
      },
      "source": [
        "np.arange(-1,17,0.32)"
      ],
      "execution_count": null,
      "outputs": [
        {
          "output_type": "execute_result",
          "data": {
            "text/plain": [
              "array([-1.  , -0.68, -0.36, -0.04,  0.28,  0.6 ,  0.92,  1.24,  1.56,\n",
              "        1.88,  2.2 ,  2.52,  2.84,  3.16,  3.48,  3.8 ,  4.12,  4.44,\n",
              "        4.76,  5.08,  5.4 ,  5.72,  6.04,  6.36,  6.68,  7.  ,  7.32,\n",
              "        7.64,  7.96,  8.28,  8.6 ,  8.92,  9.24,  9.56,  9.88, 10.2 ,\n",
              "       10.52, 10.84, 11.16, 11.48, 11.8 , 12.12, 12.44, 12.76, 13.08,\n",
              "       13.4 , 13.72, 14.04, 14.36, 14.68, 15.  , 15.32, 15.64, 15.96,\n",
              "       16.28, 16.6 , 16.92])"
            ]
          },
          "metadata": {
            "tags": []
          },
          "execution_count": 35
        }
      ]
    },
    {
      "cell_type": "markdown",
      "metadata": {
        "id": "zeBulLrykGeD"
      },
      "source": [
        "- La función `linspace` crea una serie de puntos uniformemente entre un límite inferior y superior que incluye ambos extremos. Su sintáxis es de la forma:\n",
        "\n",
        "> \n",
        "    linspace(inicio, final, numero de puntos)"
      ]
    },
    {
      "cell_type": "code",
      "metadata": {
        "id": "IHfXdV-_kXjk",
        "colab": {
          "base_uri": "https://localhost:8080/"
        },
        "outputId": "22d04ddb-a397-4cd4-e399-f41678cd8574"
      },
      "source": [
        "np.linspace(0,49)"
      ],
      "execution_count": null,
      "outputs": [
        {
          "output_type": "execute_result",
          "data": {
            "text/plain": [
              "array([ 0.,  1.,  2.,  3.,  4.,  5.,  6.,  7.,  8.,  9., 10., 11., 12.,\n",
              "       13., 14., 15., 16., 17., 18., 19., 20., 21., 22., 23., 24., 25.,\n",
              "       26., 27., 28., 29., 30., 31., 32., 33., 34., 35., 36., 37., 38.,\n",
              "       39., 40., 41., 42., 43., 44., 45., 46., 47., 48., 49.])"
            ]
          },
          "metadata": {
            "tags": []
          },
          "execution_count": 38
        }
      ]
    },
    {
      "cell_type": "code",
      "metadata": {
        "id": "BAn4hcILjCnS",
        "colab": {
          "base_uri": "https://localhost:8080/"
        },
        "outputId": "510d5ea3-0258-43e7-ade8-d6ed4f4a686d"
      },
      "source": [
        "np.linspace(0,48,25)"
      ],
      "execution_count": null,
      "outputs": [
        {
          "output_type": "execute_result",
          "data": {
            "text/plain": [
              "array([ 0.,  2.,  4.,  6.,  8., 10., 12., 14., 16., 18., 20., 22., 24.,\n",
              "       26., 28., 30., 32., 34., 36., 38., 40., 42., 44., 46., 48.])"
            ]
          },
          "metadata": {
            "tags": []
          },
          "execution_count": 41
        }
      ]
    },
    {
      "cell_type": "code",
      "metadata": {
        "colab": {
          "base_uri": "https://localhost:8080/"
        },
        "id": "dEJNCPr85gBm",
        "outputId": "24307f31-2aa0-4126-88a2-6d531c2884b2"
      },
      "source": [
        "np.linspace(0,52,25, endpoint=False)"
      ],
      "execution_count": null,
      "outputs": [
        {
          "output_type": "execute_result",
          "data": {
            "text/plain": [
              "array([ 0.  ,  2.08,  4.16,  6.24,  8.32, 10.4 , 12.48, 14.56, 16.64,\n",
              "       18.72, 20.8 , 22.88, 24.96, 27.04, 29.12, 31.2 , 33.28, 35.36,\n",
              "       37.44, 39.52, 41.6 , 43.68, 45.76, 47.84, 49.92])"
            ]
          },
          "metadata": {
            "tags": []
          },
          "execution_count": 43
        }
      ]
    },
    {
      "cell_type": "code",
      "metadata": {
        "colab": {
          "base_uri": "https://localhost:8080/"
        },
        "id": "K0tcT4XI5p2Y",
        "outputId": "7ca2524b-db0c-4af7-aaaf-c7aa1cbf7d2c"
      },
      "source": [
        "np.linspace(0,52,25, endpoint=True)"
      ],
      "execution_count": null,
      "outputs": [
        {
          "output_type": "execute_result",
          "data": {
            "text/plain": [
              "array([ 0.        ,  2.16666667,  4.33333333,  6.5       ,  8.66666667,\n",
              "       10.83333333, 13.        , 15.16666667, 17.33333333, 19.5       ,\n",
              "       21.66666667, 23.83333333, 26.        , 28.16666667, 30.33333333,\n",
              "       32.5       , 34.66666667, 36.83333333, 39.        , 41.16666667,\n",
              "       43.33333333, 45.5       , 47.66666667, 49.83333333, 52.        ])"
            ]
          },
          "metadata": {
            "tags": []
          },
          "execution_count": 44
        }
      ]
    },
    {
      "cell_type": "code",
      "metadata": {
        "colab": {
          "base_uri": "https://localhost:8080/"
        },
        "id": "rs3FmBtR5sNr",
        "outputId": "b48b9c79-3967-4ffc-8f00-a359d723866c"
      },
      "source": [
        "np.linspace(0,52,25, endpoint=True, retstep= True)"
      ],
      "execution_count": null,
      "outputs": [
        {
          "output_type": "execute_result",
          "data": {
            "text/plain": [
              "(array([ 0.        ,  2.16666667,  4.33333333,  6.5       ,  8.66666667,\n",
              "        10.83333333, 13.        , 15.16666667, 17.33333333, 19.5       ,\n",
              "        21.66666667, 23.83333333, 26.        , 28.16666667, 30.33333333,\n",
              "        32.5       , 34.66666667, 36.83333333, 39.        , 41.16666667,\n",
              "        43.33333333, 45.5       , 47.66666667, 49.83333333, 52.        ]),\n",
              " 2.1666666666666665)"
            ]
          },
          "metadata": {
            "tags": []
          },
          "execution_count": 45
        }
      ]
    },
    {
      "cell_type": "markdown",
      "metadata": {
        "id": "xN7t7lV_kaO7"
      },
      "source": [
        "- Las funciones `zeros()` y `ones()` toman un entero o una tupla de enteros como argumento y devuelven un `ndarray` cuya forma coincide con la de la tupla y cuyos elementos son cero o uno:"
      ]
    },
    {
      "cell_type": "code",
      "metadata": {
        "id": "u227SC6dkcEN",
        "colab": {
          "base_uri": "https://localhost:8080/"
        },
        "outputId": "a61636af-7e4d-4586-9ae7-6b94bf4dbbca"
      },
      "source": [
        "np.zeros((2,4))"
      ],
      "execution_count": null,
      "outputs": [
        {
          "output_type": "execute_result",
          "data": {
            "text/plain": [
              "array([[0., 0., 0., 0.],\n",
              "       [0., 0., 0., 0.]])"
            ]
          },
          "metadata": {
            "tags": []
          },
          "execution_count": 46
        }
      ]
    },
    {
      "cell_type": "code",
      "metadata": {
        "id": "1W_hZKHfkePe",
        "colab": {
          "base_uri": "https://localhost:8080/"
        },
        "outputId": "2702e63e-6cd3-4946-daf6-7e6376f2bbb9"
      },
      "source": [
        "np.ones((5,4))"
      ],
      "execution_count": null,
      "outputs": [
        {
          "output_type": "execute_result",
          "data": {
            "text/plain": [
              "array([[1., 1., 1., 1.],\n",
              "       [1., 1., 1., 1.],\n",
              "       [1., 1., 1., 1.],\n",
              "       [1., 1., 1., 1.],\n",
              "       [1., 1., 1., 1.]])"
            ]
          },
          "metadata": {
            "tags": []
          },
          "execution_count": 47
        }
      ]
    },
    {
      "cell_type": "markdown",
      "metadata": {
        "id": "n6qMLb1zkjO4"
      },
      "source": [
        "- La función `full()` funciona de manera similar a `zeros()` y `ones()`, solo que podemos llenar el arreglo con cualquier valor:"
      ]
    },
    {
      "cell_type": "code",
      "metadata": {
        "id": "U23eQk_ekj3E",
        "colab": {
          "base_uri": "https://localhost:8080/"
        },
        "outputId": "3ead2ff6-af81-4f9b-ae5b-384069735446"
      },
      "source": [
        "np.full((3,3), 3.14)"
      ],
      "execution_count": null,
      "outputs": [
        {
          "output_type": "execute_result",
          "data": {
            "text/plain": [
              "array([[3.14, 3.14, 3.14],\n",
              "       [3.14, 3.14, 3.14],\n",
              "       [3.14, 3.14, 3.14]])"
            ]
          },
          "metadata": {
            "tags": []
          },
          "execution_count": 49
        }
      ]
    },
    {
      "cell_type": "markdown",
      "metadata": {
        "id": "1MJPr6X84Pme"
      },
      "source": [
        "- La función `empty()`, por otro lado, asignará memoria sin asignarle ningún valor. Esto significa que el contenido de un arreglo vacío será lo que esté en la memoria en ese momento. Esto es particularmente útil cuando creamos un arreglo cuyos valores serán modificados posteriormente."
      ]
    },
    {
      "cell_type": "code",
      "metadata": {
        "id": "QEZOaCCZ4SZh",
        "colab": {
          "base_uri": "https://localhost:8080/"
        },
        "outputId": "b441766f-b935-4723-ec1c-8c411db615a5"
      },
      "source": [
        "np.empty((3,5))"
      ],
      "execution_count": null,
      "outputs": [
        {
          "output_type": "execute_result",
          "data": {
            "text/plain": [
              "array([[4.66942664e-310, 1.03977794e-312, 1.01855798e-312,\n",
              "        9.54898106e-313, 1.20953760e-312],\n",
              "       [1.03977794e-312, 1.23075756e-312, 1.12465777e-312,\n",
              "        1.01855798e-312, 9.76118064e-313],\n",
              "       [1.16709769e-312, 1.01855798e-312, 1.08221785e-312,\n",
              "        2.22809558e-312, 2.14321575e-312]])"
            ]
          },
          "metadata": {
            "tags": []
          },
          "execution_count": 50
        }
      ]
    },
    {
      "cell_type": "markdown",
      "metadata": {
        "id": "jfaapXg_nRMo"
      },
      "source": [
        "<p><a name=\"ope\"></a></p>\n",
        "\n",
        "# **Operaciones sobre los arreglos**\n",
        "\n",
        "Ahora que hemos visto cómo definir arreglos de NumPy, podemos discutir cómo realizar operaciones sobre los arreglos. La clave para hacer estas operaciones de una forma rápida y eficiente es usar operaciones **vectorizadas**, implementadas a través de las funciones universales de NumPy (ufuncs).\n",
        "\n",
        "Recordemos que la operación de sumar dos listas de Python resulta en la concatenación de dichas listas:\n",
        "\n"
      ]
    },
    {
      "cell_type": "code",
      "metadata": {
        "id": "4LZtf2OEnh_9",
        "colab": {
          "base_uri": "https://localhost:8080/"
        },
        "outputId": "340ce56e-788e-4b6e-fa08-89c090140d6a"
      },
      "source": [
        "lista1 = [1,2,3]\n",
        "lista2 = [4,5,6]\n",
        "\n",
        "lista1 + lista2"
      ],
      "execution_count": null,
      "outputs": [
        {
          "output_type": "execute_result",
          "data": {
            "text/plain": [
              "[1, 2, 3, 4, 5, 6]"
            ]
          },
          "metadata": {
            "tags": []
          },
          "execution_count": 51
        }
      ]
    },
    {
      "cell_type": "markdown",
      "metadata": {
        "id": "H3ucSUHN7pQ8"
      },
      "source": [
        "Si quisieramos sumar elemento a elemento, debemos hacer explícito un ciclo `for` con la función `zip()` para dos variables de la siguiente manera (ver **Apéndice A**):"
      ]
    },
    {
      "cell_type": "code",
      "metadata": {
        "id": "53ldvSZ9lFmP",
        "colab": {
          "base_uri": "https://localhost:8080/"
        },
        "outputId": "e8455ef8-0be1-418e-ff28-cd455852823b"
      },
      "source": [
        "for i in range(len(lista1)):\n",
        "  print(lista1[i]+ lista2[i])"
      ],
      "execution_count": null,
      "outputs": [
        {
          "output_type": "stream",
          "text": [
            "5\n",
            "7\n",
            "9\n"
          ],
          "name": "stdout"
        }
      ]
    },
    {
      "cell_type": "code",
      "metadata": {
        "id": "CDxSTUYslAY8",
        "colab": {
          "base_uri": "https://localhost:8080/"
        },
        "outputId": "0755e425-72e9-411a-eaa2-a1a2cc345e6d"
      },
      "source": [
        "for i, j in zip(lista1, lista2):\n",
        "  print(i + j)"
      ],
      "execution_count": null,
      "outputs": [
        {
          "output_type": "stream",
          "text": [
            "5\n",
            "7\n",
            "9\n"
          ],
          "name": "stdout"
        }
      ]
    },
    {
      "cell_type": "code",
      "metadata": {
        "id": "9q3IZtF97gum",
        "colab": {
          "base_uri": "https://localhost:8080/"
        },
        "outputId": "6fca2351-ceae-4b23-e833-3853ebe41085"
      },
      "source": [
        "arra1 = np.array(lista1)\n",
        "arra2 = np.array(lista2)\n",
        "\n",
        "arra1 + arra2"
      ],
      "execution_count": null,
      "outputs": [
        {
          "output_type": "execute_result",
          "data": {
            "text/plain": [
              "array([5, 7, 9])"
            ]
          },
          "metadata": {
            "tags": []
          },
          "execution_count": 54
        }
      ]
    },
    {
      "cell_type": "markdown",
      "metadata": {
        "id": "UaS38kSWn4pl"
      },
      "source": [
        "Si realizamos esta misma operación con arreglos de Numpy, obtendremos otra salida:"
      ]
    },
    {
      "cell_type": "code",
      "metadata": {
        "id": "zoKWkWGuW7J6",
        "colab": {
          "base_uri": "https://localhost:8080/"
        },
        "outputId": "ae4f8a99-ed96-41ac-b863-51f1e7007951"
      },
      "source": [
        "np.add(arra1, arra2)"
      ],
      "execution_count": null,
      "outputs": [
        {
          "output_type": "execute_result",
          "data": {
            "text/plain": [
              "array([5, 7, 9])"
            ]
          },
          "metadata": {
            "tags": []
          },
          "execution_count": 55
        }
      ]
    },
    {
      "cell_type": "code",
      "metadata": {
        "id": "cI_eeqL1mJz6",
        "colab": {
          "base_uri": "https://localhost:8080/"
        },
        "outputId": "2f7367f3-87bd-4b39-b66f-62a764e8d3cc"
      },
      "source": [
        "np.add(lista1, lista2)"
      ],
      "execution_count": null,
      "outputs": [
        {
          "output_type": "execute_result",
          "data": {
            "text/plain": [
              "array([5, 7, 9])"
            ]
          },
          "metadata": {
            "tags": []
          },
          "execution_count": 56
        }
      ]
    },
    {
      "cell_type": "markdown",
      "metadata": {
        "id": "zKgpb0_qn-HU"
      },
      "source": [
        "Como los arreglos son de NumPy, se está realizando lo que se conoce como una operación **vectorizada**, la cual es una operación sobre los arreglos que se realiza **elemento a elemento**, mediante lo que conocemos como funciones universales (ufuncs) de Numpy. \n",
        "\n",
        "Las ufuncs de NumPy se sienten muy naturales de usar porque hacen uso de los operadores aritméticos nativos de Python. \n",
        "\n",
        "La siguiente tabla nos muestra algunas de las funciones universales disponibles en Numpy (ver [documentación](https://numpy.org/doc/stable/reference/ufuncs.html#ufunc))\n",
        "\n",
        "\n",
        "\n",
        "\n",
        "\n",
        " "
      ]
    },
    {
      "cell_type": "markdown",
      "metadata": {
        "id": "O30aQ1F3oDGJ"
      },
      "source": [
        "![picture](https://i.imgur.com/8HaZzxg.png)"
      ]
    },
    {
      "cell_type": "markdown",
      "metadata": {
        "id": "QRY6DxB2oE_b"
      },
      "source": [
        "Note que estas se muestran en dos versiones: mediante un operador y su correspondiente función universal. Por ejemplo `+` y `np.add`. Como en el ejemplo anterior, si los arreglos son de NumPy, el operador que utilicemos para realizar las operaciones representará la función universal. Si el arreglo no se define como uno de NumPy, y si queremos aplicar una función universal, debemos utilizar la forma explícita de la función universal"
      ]
    },
    {
      "cell_type": "markdown",
      "metadata": {
        "id": "y7KNncF9oRRY"
      },
      "source": [
        "En el caso de la multiplicacion en Python, la multiplicación de un número entero $n$ por una lista $l$, nos arroja una lista que contiene los elementos de $l$ $n$ veces:\n",
        "\n"
      ]
    },
    {
      "cell_type": "code",
      "metadata": {
        "id": "WUwzi26woNfP",
        "colab": {
          "base_uri": "https://localhost:8080/"
        },
        "outputId": "83b5f7e8-d840-4bb3-ce88-ad007a5db927"
      },
      "source": [
        "n = 3\n",
        "lista1 * n"
      ],
      "execution_count": null,
      "outputs": [
        {
          "output_type": "execute_result",
          "data": {
            "text/plain": [
              "[1, 2, 3, 1, 2, 3, 1, 2, 3]"
            ]
          },
          "metadata": {
            "tags": []
          },
          "execution_count": 58
        }
      ]
    },
    {
      "cell_type": "markdown",
      "metadata": {
        "id": "fcTyaQuqoXWD"
      },
      "source": [
        "Si quisieramos multiplicar el entero por cada uno de los elementos de la lista $l$ debemos incluir un ciclo for:"
      ]
    },
    {
      "cell_type": "code",
      "metadata": {
        "id": "eehb3jVroUXv",
        "colab": {
          "base_uri": "https://localhost:8080/"
        },
        "outputId": "3ad1d243-fa3b-4800-e978-2c6c71b69611"
      },
      "source": [
        "[n * elemento for elemento in lista1]"
      ],
      "execution_count": null,
      "outputs": [
        {
          "output_type": "execute_result",
          "data": {
            "text/plain": [
              "[3, 6, 9]"
            ]
          },
          "metadata": {
            "tags": []
          },
          "execution_count": 59
        }
      ]
    },
    {
      "cell_type": "markdown",
      "metadata": {
        "id": "4On1dnhAocf1"
      },
      "source": [
        "Además, la operación de multiplicación entre listas no está definida:"
      ]
    },
    {
      "cell_type": "code",
      "metadata": {
        "id": "znHi4VqIoZIX",
        "colab": {
          "base_uri": "https://localhost:8080/"
        },
        "outputId": "516f26e4-2240-4088-e03b-f91107f9bc19"
      },
      "source": [
        "try:\n",
        "  lista1 * lista2\n",
        "except Exception as e:\n",
        "  print(e)"
      ],
      "execution_count": null,
      "outputs": [
        {
          "output_type": "stream",
          "text": [
            "can't multiply sequence by non-int of type 'list'\n"
          ],
          "name": "stdout"
        }
      ]
    },
    {
      "cell_type": "markdown",
      "metadata": {
        "id": "4bpFYr2aohJI"
      },
      "source": [
        "En NumPy, ambas operaciones se hacen de forma vectorizada:"
      ]
    },
    {
      "cell_type": "code",
      "metadata": {
        "id": "Blkne33JoeWH",
        "colab": {
          "base_uri": "https://localhost:8080/"
        },
        "outputId": "13ed77a9-d2cc-4469-8aa9-6e3db8fa3ef6"
      },
      "source": [
        "n * arr1"
      ],
      "execution_count": null,
      "outputs": [
        {
          "output_type": "execute_result",
          "data": {
            "text/plain": [
              "array([ 3,  6,  9, 12])"
            ]
          },
          "metadata": {
            "tags": []
          },
          "execution_count": 61
        }
      ]
    },
    {
      "cell_type": "code",
      "metadata": {
        "id": "ErVbZnjqok0Z",
        "colab": {
          "base_uri": "https://localhost:8080/"
        },
        "outputId": "bcf73b30-36f4-4d88-b889-661936eacdba"
      },
      "source": [
        "np.multiply(n, lista1)"
      ],
      "execution_count": null,
      "outputs": [
        {
          "output_type": "execute_result",
          "data": {
            "text/plain": [
              "array([3, 6, 9])"
            ]
          },
          "metadata": {
            "tags": []
          },
          "execution_count": 63
        }
      ]
    },
    {
      "cell_type": "code",
      "metadata": {
        "colab": {
          "base_uri": "https://localhost:8080/"
        },
        "id": "9xThy55i8ImQ",
        "outputId": "6bc2e7f0-71b2-48d8-e5d8-c0d1a6ff2c3b"
      },
      "source": [
        "arra1 * arra2"
      ],
      "execution_count": null,
      "outputs": [
        {
          "output_type": "execute_result",
          "data": {
            "text/plain": [
              "array([ 4, 10, 18])"
            ]
          },
          "metadata": {
            "tags": []
          },
          "execution_count": 64
        }
      ]
    },
    {
      "cell_type": "markdown",
      "metadata": {
        "id": "-rfxd2U2oo_Y"
      },
      "source": [
        "Note que ambas operaciones se hacen elemento a elemento, caracteriztica de las operaciones vectorizadas implementadas a través de ufuncs. Note además, que en el caso de la multiplicación de arreglos, la salida no corresponde a lo que conocemos como producto punto. Para realizar esta operación, tanto en arreglos unidimensionales como n-dimensionales, podemos utilizar la función universal `np.dot` o su operador asociado `@`:"
      ]
    },
    {
      "cell_type": "markdown",
      "metadata": {
        "id": "_LLamD3a8Y_4"
      },
      "source": [
        "prodocto interno de el espacio $\\mathcal{R^n}$\n",
        "\n",
        "$$\\vec{a}\\cdot\\vec{b} = a_1b_1+ a_2b_2+ ... + a_nb_n$$"
      ]
    },
    {
      "cell_type": "code",
      "metadata": {
        "id": "U1_Rn5l_om-e",
        "colab": {
          "base_uri": "https://localhost:8080/"
        },
        "outputId": "775240e9-d1d9-4381-d5ed-02e10c3a07ec"
      },
      "source": [
        "arra1 @ arra2"
      ],
      "execution_count": null,
      "outputs": [
        {
          "output_type": "execute_result",
          "data": {
            "text/plain": [
              "32"
            ]
          },
          "metadata": {
            "tags": []
          },
          "execution_count": 65
        }
      ]
    },
    {
      "cell_type": "code",
      "metadata": {
        "id": "ph2YxZD0jyPX",
        "colab": {
          "base_uri": "https://localhost:8080/"
        },
        "outputId": "6bc0d755-5251-4674-a084-85e7bfe6b09d"
      },
      "source": [
        "np.dot(lista1, lista2)"
      ],
      "execution_count": null,
      "outputs": [
        {
          "output_type": "execute_result",
          "data": {
            "text/plain": [
              "32"
            ]
          },
          "metadata": {
            "tags": []
          },
          "execution_count": 66
        }
      ]
    },
    {
      "cell_type": "markdown",
      "metadata": {
        "id": "blW_wxEMo2n_"
      },
      "source": [
        "Es importante mencionar que el uso de operaciones vectorizadas no solo significa la utilización de funciones universales para la realización de las operaciones elemento a elemento.\n",
        "\n",
        "En el contexto de lenguajes de alto nivel como Python, el término **vectorización** representa el uso de código optimizado y precompilado escrito en lenguajes de bajo nivel (por ejemplo C) para realizar operaciones matemáticas en una secuencia de datos. Esto se realiza en lugar de una iteración explicita escrita en código nativo, como ya vimos en el ejemplo de la multiplicacion, que hace que las operaciones sean más eficientes. \n",
        "\n",
        "**Ejercicio**\n",
        "\n",
        "Veamos un ejemplo con el cual se ilustra la eficiencia computacional que se alcanza con las operaciones vectorizadas de NumPy: Construyamos una función que calcule el recíproco de una lista"
      ]
    },
    {
      "cell_type": "code",
      "metadata": {
        "id": "Zn-mpy3uovu2",
        "colab": {
          "base_uri": "https://localhost:8080/"
        },
        "outputId": "71c1464e-baab-4773-8e03-020e59ef4aaf"
      },
      "source": [
        "def lista_reci(l):\n",
        "\n",
        "\n",
        "  salida = []\n",
        "  for elemento in l:\n",
        "    salida.append(1/ elemento)\n",
        "\n",
        "  return salida\n",
        "\n",
        "lista_reci([1,2,3])"
      ],
      "execution_count": null,
      "outputs": [
        {
          "output_type": "execute_result",
          "data": {
            "text/plain": [
              "[1.0, 0.5, 0.3333333333333333]"
            ]
          },
          "metadata": {
            "tags": []
          },
          "execution_count": 67
        }
      ]
    },
    {
      "cell_type": "code",
      "metadata": {
        "id": "iN6Wod1Ml-2u"
      },
      "source": [
        "a = list(range(1,1000000))"
      ],
      "execution_count": null,
      "outputs": []
    },
    {
      "cell_type": "code",
      "metadata": {
        "id": "UHJMir62qkG4",
        "colab": {
          "base_uri": "https://localhost:8080/"
        },
        "outputId": "59a2f78d-2b0f-49c7-a2e3-3516c174c01a"
      },
      "source": [
        "%timeit lista_reci(a)"
      ],
      "execution_count": null,
      "outputs": [
        {
          "output_type": "stream",
          "text": [
            "10 loops, best of 5: 125 ms per loop\n"
          ],
          "name": "stdout"
        }
      ]
    },
    {
      "cell_type": "markdown",
      "metadata": {
        "id": "msPOlCbpqyi5"
      },
      "source": [
        "La operación equivalente en NumPy, utilizando ufuncs, será:"
      ]
    },
    {
      "cell_type": "code",
      "metadata": {
        "id": "9TDHiCQEqonx"
      },
      "source": [
        "r = np.arange(1,1000000)"
      ],
      "execution_count": null,
      "outputs": []
    },
    {
      "cell_type": "code",
      "metadata": {
        "id": "mDfJZbk3r9o7",
        "colab": {
          "base_uri": "https://localhost:8080/"
        },
        "outputId": "73bbd2e2-d617-4925-fd52-cbad0e00789c"
      },
      "source": [
        "%timeit 1/r"
      ],
      "execution_count": null,
      "outputs": [
        {
          "output_type": "stream",
          "text": [
            "100 loops, best of 5: 2.33 ms per loop\n"
          ],
          "name": "stdout"
        }
      ]
    },
    {
      "cell_type": "markdown",
      "metadata": {
        "id": "XL-vRpQ8rC3Z"
      },
      "source": [
        "Note que hay tres ordenes de magnitud de diferencia en el tiempo de computo en ambas versiones. \n",
        "\n",
        "Resulta que el cuello de botella aquí no son las operaciones en sí mismas, sino la verificación de tipos y demás que Python debe hacer en cada ciclo. Cada vez que se calcula el recíproco, Python primero examina el tipo de objeto y realiza una búsqueda dinámica de la función correcta que se utilizará para ese tipo. Si estuviéramos trabajando en código compilado, esta especificación de tipo se conocería antes de que se ejecute el código y el resultado podría calcularse de manera mucho más eficiente.\n",
        "\n",
        "Los cálculos que usan vectorización a través de ufuncs son casi siempre más eficientes que su contraparte implementada a través de ciclos, especialmente a medida que los arreglos crecen en tamaño. Cada vez que se vea un ciclo de este tipo en Python, debe considerarse si este puede reemplazarse con una expresión vectorizada."
      ]
    },
    {
      "cell_type": "markdown",
      "metadata": {
        "id": "UELRD3TY0jAd"
      },
      "source": [
        "**Ejercicio:**  La serie de Leibniz  $$\\frac{\\pi}{4}=1-\\frac{1}{3}+\\frac{1}{5}-\\frac{1}{7} -\\frac{1}{9}+ \\cdot \\cdot \\cdot=\\sum_{n=0}^{\\infty} \\frac{(-1)^n}{2n+1}$$ La serie de Leibniz permite obtener un valor aproximado para el número $\\pi$. Escriba un programa en el que dado el número de términos de la sumatoria, se calcule y muestre el valor aproximado de $\\pi$. \n",
        "\n",
        " $$\\pi=4\\sum_{n=0}^{\\infty} \\frac{(-1)^n}{2n+1}$$"
      ]
    },
    {
      "cell_type": "markdown",
      "metadata": {
        "id": "kfYllNf-s8lK"
      },
      "source": [
        "$$\\sum_{i = 1}^{n} i$$"
      ]
    },
    {
      "cell_type": "code",
      "metadata": {
        "id": "0ao1hId_vAUp"
      },
      "source": [
        "def suma_gauss(n):\n",
        "  return sum(i for i in range(1,n+1))"
      ],
      "execution_count": null,
      "outputs": []
    },
    {
      "cell_type": "code",
      "metadata": {
        "id": "lUuGrSOso-by",
        "colab": {
          "base_uri": "https://localhost:8080/"
        },
        "outputId": "902689d3-77f2-4e9e-ebff-94c23371bbe4"
      },
      "source": [
        "suma_gauss(100)"
      ],
      "execution_count": null,
      "outputs": [
        {
          "output_type": "execute_result",
          "data": {
            "text/plain": [
              "5050"
            ]
          },
          "metadata": {
            "tags": []
          },
          "execution_count": 84
        }
      ]
    },
    {
      "cell_type": "code",
      "metadata": {
        "id": "aDzg6rF2paFd",
        "colab": {
          "base_uri": "https://localhost:8080/"
        },
        "outputId": "96c56345-de03-4f0e-c26c-cc299e87a9b9"
      },
      "source": [
        "def suma1(n=1000):\n",
        "    suma = 0\n",
        "    for i in range(n+1):\n",
        "        suma = suma + ((-1)**i/(2*i + 1))\n",
        "    \n",
        "    suma *=4\n",
        "    return suma\n",
        "    \n",
        "suma_leibniz()"
      ],
      "execution_count": null,
      "outputs": [
        {
          "output_type": "stream",
          "text": [
            "3.1425916543395442\n"
          ],
          "name": "stdout"
        }
      ]
    },
    {
      "cell_type": "code",
      "metadata": {
        "id": "1XUsYj5Lq84P",
        "colab": {
          "base_uri": "https://localhost:8080/"
        },
        "outputId": "92881a8a-37d3-4849-b03f-4fd2336db563"
      },
      "source": [
        "def suma2(n=1000):\n",
        "  return 4*sum(((-1)**i)/(2*i + 1) for i in range(n+1))\n",
        "\n",
        "suma2()"
      ],
      "execution_count": null,
      "outputs": [
        {
          "output_type": "execute_result",
          "data": {
            "text/plain": [
              "3.1425916543395442"
            ]
          },
          "metadata": {
            "tags": []
          },
          "execution_count": 90
        }
      ]
    },
    {
      "cell_type": "code",
      "metadata": {
        "id": "-VOFUOucrAoQ",
        "colab": {
          "base_uri": "https://localhost:8080/"
        },
        "outputId": "68aa7cb8-fa2c-495e-cded-cb1263f3f8e1"
      },
      "source": [
        "def suma3(m=1000):\n",
        "  n = np.arange(m+1)\n",
        "  return 4*np.sum(((-1)**n)/(2*n + 1) )\n",
        "\n",
        "suma3()"
      ],
      "execution_count": null,
      "outputs": [
        {
          "output_type": "execute_result",
          "data": {
            "text/plain": [
              "3.142591654339542"
            ]
          },
          "metadata": {
            "tags": []
          },
          "execution_count": 91
        }
      ]
    },
    {
      "cell_type": "code",
      "metadata": {
        "id": "1xup3gtb0tB-",
        "colab": {
          "base_uri": "https://localhost:8080/"
        },
        "outputId": "653e0808-20f3-41c8-f8e5-df4920821f92"
      },
      "source": [
        "%timeit suma1(100000)"
      ],
      "execution_count": null,
      "outputs": [
        {
          "output_type": "stream",
          "text": [
            "10 loops, best of 5: 38.8 ms per loop\n"
          ],
          "name": "stdout"
        }
      ]
    },
    {
      "cell_type": "code",
      "metadata": {
        "colab": {
          "base_uri": "https://localhost:8080/"
        },
        "id": "AM6rd5BQCVJe",
        "outputId": "c4aae7a1-dbe7-4256-97c6-1ff58f224675"
      },
      "source": [
        "%timeit suma2(100000)"
      ],
      "execution_count": null,
      "outputs": [
        {
          "output_type": "stream",
          "text": [
            "10 loops, best of 5: 39.8 ms per loop\n"
          ],
          "name": "stdout"
        }
      ]
    },
    {
      "cell_type": "code",
      "metadata": {
        "colab": {
          "base_uri": "https://localhost:8080/"
        },
        "id": "mlhV4B4iCVEg",
        "outputId": "31547e5f-baeb-45f6-f1ed-b1ff4a5038f9"
      },
      "source": [
        "%timeit suma3(100000)"
      ],
      "execution_count": null,
      "outputs": [
        {
          "output_type": "stream",
          "text": [
            "100 loops, best of 5: 6.83 ms per loop\n"
          ],
          "name": "stdout"
        }
      ]
    },
    {
      "cell_type": "markdown",
      "metadata": {
        "id": "0EETj9DjMES9"
      },
      "source": [
        "<p><a name=\"apeA\"></a></p>\n",
        "\n",
        "# **Apéndice A: Iteradores útiles**\n",
        "\n",
        "A menudo vamos a necesitar iterar los diferentes objetos de diversas formas, por lo que vamos a requerir de iteradores que nos permitan tener más libertad a la hora de definir las iteracions. Veamos algunos de estos iteradores disponibles en Python.\n",
        "\n",
        "Por ejemplo, si quisieramos iterar sobre una lista de manera que la variable de iteración corra de forma ordenada sobre los elementos, es decir, no sobre los elementos de acuerdo a su posición en la lista sino de acuerdo a su valor numérico, podemos utilizar el método `sorted` sobre la lista:"
      ]
    },
    {
      "cell_type": "code",
      "metadata": {
        "id": "vr92oF7uxe91"
      },
      "source": [
        "l1 = [1,2,3,4]\n",
        "l2 = [5,6,7,8]"
      ],
      "execution_count": null,
      "outputs": []
    },
    {
      "cell_type": "code",
      "metadata": {
        "id": "_iXf4g3FyZD_"
      },
      "source": [
        "print(list(zip(l1,l2)))"
      ],
      "execution_count": null,
      "outputs": []
    },
    {
      "cell_type": "code",
      "metadata": {
        "id": "-E9Puze9x8TN"
      },
      "source": [
        "for i, j in zip(l1, l2):\n",
        "  print(i ,j)"
      ],
      "execution_count": null,
      "outputs": []
    },
    {
      "cell_type": "code",
      "metadata": {
        "id": "h48Az-tuxuEo"
      },
      "source": [
        "for i in range(1, 5):\n",
        "  for j in range(5, 9):\n",
        "    print( i+ j)"
      ],
      "execution_count": null,
      "outputs": []
    },
    {
      "cell_type": "code",
      "metadata": {
        "id": "QY2LlZ9s0vzq"
      },
      "source": [
        "L = [5, 2, 7, 1]\n",
        "\n",
        "for i in sorted(L):\n",
        "  print(i)"
      ],
      "execution_count": null,
      "outputs": []
    },
    {
      "cell_type": "markdown",
      "metadata": {
        "id": "MH9hJrfBMPZ2"
      },
      "source": [
        "Ahora, supongamos que necesitamos iterar sobre los elementos de una lista y además tener registro del índice del elemento. Podríamos escribir algo como:\n"
      ]
    },
    {
      "cell_type": "code",
      "metadata": {
        "id": "W0VCzhWAMRBI"
      },
      "source": [
        "L = range(4,8)\n",
        "\n",
        "for i in range(len(L)):\n",
        "  print(f\"indice: {i} valor: {L[i]}\")"
      ],
      "execution_count": null,
      "outputs": []
    },
    {
      "cell_type": "markdown",
      "metadata": {
        "id": "49SF7S5RMT9z"
      },
      "source": [
        "Podemos realizar esta iteración utilizando el iterador `enumerate`, que produce un generador de tuplas con los índices y valores de la lista:"
      ]
    },
    {
      "cell_type": "code",
      "metadata": {
        "id": "NNyGsvrcMVjD"
      },
      "source": [
        "list(enumerate(L))"
      ],
      "execution_count": null,
      "outputs": []
    },
    {
      "cell_type": "code",
      "metadata": {
        "id": "SoM3qr8GMXUt"
      },
      "source": [
        "for i, valor in enumerate(L):\n",
        "  print(f\"indice: {i} valor: {valor}\")"
      ],
      "execution_count": null,
      "outputs": []
    },
    {
      "cell_type": "markdown",
      "metadata": {
        "id": "AoECMCfzMbXS"
      },
      "source": [
        "En otras ocaciones, vamos a querer iterar sobre varias listas simultáneamente. Una forma directa de hacerlo sería iterando sobre el índice de las listas \n"
      ]
    },
    {
      "cell_type": "code",
      "metadata": {
        "id": "thL4up0vMdeu"
      },
      "source": [
        "l = range(2,4)\n",
        "r = range(6,8)\n",
        "\n",
        "for i in range(len(l)):\n",
        "  print(f\"l_val: {l[i]}, r_val: {r[i]}\")"
      ],
      "execution_count": null,
      "outputs": []
    },
    {
      "cell_type": "markdown",
      "metadata": {
        "id": "eWF2PRhoMhmp"
      },
      "source": [
        "Si, por ejemplo, cambiaramos la longitud de `l`, obtendríamos un error"
      ]
    },
    {
      "cell_type": "code",
      "metadata": {
        "id": "s6yh2USPMjyH"
      },
      "source": [
        "l = range(2,5)\n",
        "r = range(6,8)\n",
        "\n",
        "for i in range(len(l)):\n",
        "  print(f\"l_val: {l[i]}, r_val: {r[i]}\")"
      ],
      "execution_count": null,
      "outputs": []
    },
    {
      "cell_type": "markdown",
      "metadata": {
        "id": "7Xh60ILJMlwo"
      },
      "source": [
        "esta iteración se puede llevar a cabo mediante el iterador `zip`, que permite iterar sobre varios objetos iterables simultáneamente:"
      ]
    },
    {
      "cell_type": "code",
      "metadata": {
        "id": "M9WudlDDxMNC"
      },
      "source": [
        "type(range(10))"
      ],
      "execution_count": null,
      "outputs": []
    },
    {
      "cell_type": "code",
      "metadata": {
        "id": "0eG2LGenMnLX"
      },
      "source": [
        "list(zip(l, r))"
      ],
      "execution_count": null,
      "outputs": []
    },
    {
      "cell_type": "code",
      "metadata": {
        "id": "h5rPei4WMok3"
      },
      "source": [
        "for lval, rval in zip(l, r):\n",
        "  print(f\"l_val: {lval}, r_val: {rval}\")"
      ],
      "execution_count": null,
      "outputs": []
    },
    {
      "cell_type": "markdown",
      "metadata": {
        "id": "BqRyQf19MqK8"
      },
      "source": [
        "`zip` produce un generador de tuplas obtenidas a partir de los objetos iterables que pasemos como argumento. Tenga en cuenta que el iterador admite diferentes objetos para la iteración "
      ]
    },
    {
      "cell_type": "code",
      "metadata": {
        "id": "AgIaH1DRMrpv"
      },
      "source": [
        "for i,j in zip(range(3), \"abc\"):\n",
        "  print(i,j)"
      ],
      "execution_count": null,
      "outputs": []
    },
    {
      "cell_type": "markdown",
      "metadata": {
        "id": "T0HzaHY3Mtdh"
      },
      "source": [
        "así como objetos de tamaños diferentes"
      ]
    },
    {
      "cell_type": "code",
      "metadata": {
        "id": "Zc8HlQG0MvaK"
      },
      "source": [
        "for i,j,k in zip((1,2,3), \"abc\", [4,5,6,7]):\n",
        "  print(i,j,k)"
      ],
      "execution_count": null,
      "outputs": []
    },
    {
      "cell_type": "markdown",
      "metadata": {
        "id": "Zx9IWN5zMw7N"
      },
      "source": [
        "Note que las tuplas se producen con una longitud tal que coincida con el número de elementos del objeto de menor longitud."
      ]
    }
  ]
}