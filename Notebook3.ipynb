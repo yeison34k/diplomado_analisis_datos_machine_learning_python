{
  "nbformat": 4,
  "nbformat_minor": 0,
  "metadata": {
    "colab": {
      "name": "Notebook3.ipynb",
      "provenance": [],
      "collapsed_sections": [],
      "include_colab_link": true
    },
    "kernelspec": {
      "name": "python3",
      "display_name": "Python 3"
    }
  },
  "cells": [
    {
      "cell_type": "markdown",
      "metadata": {
        "id": "view-in-github",
        "colab_type": "text"
      },
      "source": [
        "<a href=\"https://colab.research.google.com/github/yeison34k/diplomado_analisis_datos_machine_learning_python/blob/main/Notebook3.ipynb\" target=\"_parent\"><img src=\"https://colab.research.google.com/assets/colab-badge.svg\" alt=\"Open In Colab\"/></a>"
      ]
    },
    {
      "cell_type": "markdown",
      "metadata": {
        "id": "kUkIpVtwGNZX"
      },
      "source": [
        "<p><img alt=\"Colaboratory logo\" height=\"140px\" src=\"https://upload.wikimedia.org/wikipedia/commons/archive/f/fb/20161010213812%21Escudo-UdeA.svg\" align=\"left\" hspace=\"10px\" vspace=\"0px\"></p>\n",
        "\n",
        "# **Diplomado de Análisis de datos y Machine Learning en Python**\n",
        "\n",
        "\n",
        "El presente diplomado hace parte del centro de Big Data de la facultad de ciencias exactas y naturales (FCEN) de la Universidad de Antioquia.\n",
        "\n",
        "## **Sesión 3**\n",
        "\n",
        "## **Contenido**\n",
        "\n",
        "- <a href=\"#io\"> Entrada y salida</a><br>   \n",
        "- <a href=\"#ecf\"> Estructuras de control de flujo</a><br>\n",
        "  - <a href=\"#sci\"> Sentencias condicionales `if`, `elif` y `else`</a><br>\n",
        "- <a href=\"#cic\"> Ciclos, iteraciones e interrupciones de flujo</a><br>\n",
        "  - <a href=\"#whi\"> Ciclo `while`</a><br>\n",
        "  - <a href=\"#for\"> Ciclo `for`</a><br>\n",
        "  - <a href=\"#scf\"> Sentencias de control de flujo `break` y `continue`</a><br>\n",
        "\n",
        "\n"
      ]
    },
    {
      "cell_type": "markdown",
      "metadata": {
        "id": "van7zDVKNUi8"
      },
      "source": [
        "<p><a name=\"io\"></a></p>\n",
        "\n",
        "# **Entrada y salida**\n",
        "\n",
        "\n",
        "Para tomar datos por parte de un usuario externo hacemos uso de la función propia de Python `input`, que opcionalmente toma un string como argumento"
      ]
    },
    {
      "cell_type": "code",
      "metadata": {
        "id": "B78KUY4oNVdW",
        "colab": {
          "base_uri": "https://localhost:8080/",
          "height": 52
        },
        "outputId": "803de482-1ed3-472e-f7e1-4a634e51bf29"
      },
      "source": [
        "input()"
      ],
      "execution_count": null,
      "outputs": [
        {
          "output_type": "stream",
          "text": [
            "Hola Mundo\n"
          ],
          "name": "stdout"
        },
        {
          "output_type": "execute_result",
          "data": {
            "application/vnd.google.colaboratory.intrinsic+json": {
              "type": "string"
            },
            "text/plain": [
              "'Hola Mundo'"
            ]
          },
          "metadata": {
            "tags": []
          },
          "execution_count": 1
        }
      ]
    },
    {
      "cell_type": "code",
      "metadata": {
        "colab": {
          "base_uri": "https://localhost:8080/"
        },
        "id": "sAUYtGtmKWW3",
        "outputId": "0f8a63a6-5059-4718-a5eb-53152d01bc74"
      },
      "source": [
        "n = input('Ingrese un número entero ')"
      ],
      "execution_count": null,
      "outputs": [
        {
          "output_type": "stream",
          "text": [
            "Ingrese un número entero17\n"
          ],
          "name": "stdout"
        }
      ]
    },
    {
      "cell_type": "code",
      "metadata": {
        "colab": {
          "base_uri": "https://localhost:8080/"
        },
        "id": "vv5c0iR5Kf5q",
        "outputId": "9ae15fa7-8a9a-4ef3-8828-aefb9870d11f"
      },
      "source": [
        "print(n)"
      ],
      "execution_count": null,
      "outputs": [
        {
          "output_type": "stream",
          "text": [
            "17\n"
          ],
          "name": "stdout"
        }
      ]
    },
    {
      "cell_type": "markdown",
      "metadata": {
        "id": "AF8kLVJv2S1T"
      },
      "source": [
        "Note que esta función siempre devuelve una variable de tipo `str`"
      ]
    },
    {
      "cell_type": "code",
      "metadata": {
        "id": "dwsyJtyQ2ZoG",
        "colab": {
          "base_uri": "https://localhost:8080/"
        },
        "outputId": "7143b541-d0cc-4a96-92d6-644201476722"
      },
      "source": [
        "type(n)"
      ],
      "execution_count": null,
      "outputs": [
        {
          "output_type": "execute_result",
          "data": {
            "text/plain": [
              "str"
            ]
          },
          "metadata": {
            "tags": []
          },
          "execution_count": 5
        }
      ]
    },
    {
      "cell_type": "markdown",
      "metadata": {
        "id": "F7JPzzxb2eO8"
      },
      "source": [
        "Para transformar la variable al tipo indicado podemos utilizar las funciones de transformación que ya vimos. Por ejemplo, en este caso, queremos que la variable sea de tipo `int`, por lo que podemos escribir:"
      ]
    },
    {
      "cell_type": "code",
      "metadata": {
        "id": "eE3fSCR020vw",
        "colab": {
          "base_uri": "https://localhost:8080/"
        },
        "outputId": "678bbec6-de0f-44a5-cd40-8c3bd3c922a7"
      },
      "source": [
        "n = int(input('Ingrese un número entero '))\n",
        "type(n)\n"
      ],
      "execution_count": null,
      "outputs": [
        {
          "output_type": "stream",
          "text": [
            "Ingrese un número entero 17\n"
          ],
          "name": "stdout"
        },
        {
          "output_type": "execute_result",
          "data": {
            "text/plain": [
              "int"
            ]
          },
          "metadata": {
            "tags": []
          },
          "execution_count": 7
        }
      ]
    },
    {
      "cell_type": "markdown",
      "metadata": {
        "id": "78Al5hXIOPYT"
      },
      "source": [
        "\n",
        "\n",
        "Para mostrar algo en pantalla podemos utilizar la función propia de Python `print`, que toma como argumento la(s) variable(s) que queramos mostrar. Podemos separar cada variable por una coma, como se muestra a continuación:"
      ]
    },
    {
      "cell_type": "code",
      "metadata": {
        "id": "WC0HE6oxOY2D",
        "colab": {
          "base_uri": "https://localhost:8080/"
        },
        "outputId": "b805d194-e757-4f84-983f-986814cc6303"
      },
      "source": [
        "print(\"El número entero es \", n, \" y su cuadrado es \", n**2)"
      ],
      "execution_count": null,
      "outputs": [
        {
          "output_type": "stream",
          "text": [
            "El número entero es  17  y su cuadrado es  289\n"
          ],
          "name": "stdout"
        }
      ]
    },
    {
      "cell_type": "markdown",
      "metadata": {
        "id": "OHFemolf3k-b"
      },
      "source": [
        "Antes de Python 3.6, desde versiones como 2.7, teníamos dos formas de incrustar expresiones de Python dentro de literales de cadena para *formatear*: `formateo con %` y `str.format()`. \n",
        "\n",
        "\n",
        "**Formateo con %**\n",
        "\n",
        "Los objetos de tipo cadena tienen una operación integrada que utiliza el operador `%`, que puede usarse para formatear cadenas. Veamos un ejemplo:"
      ]
    },
    {
      "cell_type": "code",
      "metadata": {
        "id": "wGrur9803nzI",
        "colab": {
          "base_uri": "https://localhost:8080/"
        },
        "outputId": "5cb3fd8e-1df9-45ca-dbe7-d65c021455b6"
      },
      "source": [
        "nombre = \"Tomas\"\n",
        "\n",
        "print(\"Mi nombre es %s\" %nombre)"
      ],
      "execution_count": null,
      "outputs": [
        {
          "output_type": "stream",
          "text": [
            "Mi nombre es Tomas\n"
          ],
          "name": "stdout"
        }
      ]
    },
    {
      "cell_type": "markdown",
      "metadata": {
        "id": "RAU0d4wi3-cF"
      },
      "source": [
        "Note que se utiliza el operador `%` seguido de una `s`, para indicar que en esa posición queremos tener la variable nombre (que se referencia fuera de la cadena con el mismo operador `%`) seguido de una `s`, que hace referencia al formato en el que se quiere mostrar la variable, en este caso, un *string* (utilizamos `d` para los enteros y `f` para los números de punto flotante)."
      ]
    },
    {
      "cell_type": "code",
      "metadata": {
        "id": "iY-xHxO94DRi",
        "colab": {
          "base_uri": "https://localhost:8080/"
        },
        "outputId": "34bda5fa-16d4-44e7-d2ba-e0564972e218"
      },
      "source": [
        "edad = 27\n",
        "\n",
        "print(\"Tengo %d años\" %edad)"
      ],
      "execution_count": null,
      "outputs": [
        {
          "output_type": "stream",
          "text": [
            "Tengo 27 años\n"
          ],
          "name": "stdout"
        }
      ]
    },
    {
      "cell_type": "markdown",
      "metadata": {
        "id": "jIqVfB8N4Fpb"
      },
      "source": [
        "Para referenciar múltiples variables, se utiliza una tupla (que ya estudiaremos) para referenciar las dos variables:"
      ]
    },
    {
      "cell_type": "code",
      "metadata": {
        "id": "757_AzCd4GQK",
        "colab": {
          "base_uri": "https://localhost:8080/"
        },
        "outputId": "6901030e-c6dc-4ff9-94bf-e4629d1195a1"
      },
      "source": [
        "print(\"Me llamo %s y tengo %d años\" %(nombre,edad))"
      ],
      "execution_count": null,
      "outputs": [
        {
          "output_type": "stream",
          "text": [
            "Me llamo Tomas y tengo 27 años\n"
          ],
          "name": "stdout"
        }
      ]
    },
    {
      "cell_type": "markdown",
      "metadata": {
        "id": "zIaF5VN04JyO"
      },
      "source": [
        "También podemos elegir un nivel de precisión particular de la siguiente manera:"
      ]
    },
    {
      "cell_type": "code",
      "metadata": {
        "id": "nMmJW17J4Kmc",
        "colab": {
          "base_uri": "https://localhost:8080/"
        },
        "outputId": "1346d3d3-aa8e-42ca-d610-45a4d1802384"
      },
      "source": [
        "pi = 3.14159\n",
        "\n",
        "print(\"Imprimiendo en pantalla pi con dos cifras en precisión: %.2f\" %pi)\n",
        "print(\"Imprimiendo en pantalla pi con cuatro cifras en precisión: %.4f\" %pi)"
      ],
      "execution_count": null,
      "outputs": [
        {
          "output_type": "stream",
          "text": [
            "Imprimiendo en pantalla pi con dos cifras en precisión: 3.14\n",
            "Imprimiendo en pantalla pi con cuatro cifras en precisión: 3.1416\n"
          ],
          "name": "stdout"
        }
      ]
    },
    {
      "cell_type": "markdown",
      "metadata": {
        "id": "UdM4uoie4RlK"
      },
      "source": [
        "Estos ejemplos son lo suficientemente legibles. Sin embargo, una vez que comencemos a usar un número mayor de variables y cadenas más largas, el código ya no será tan fácil de leer. Además, encontraremos problemas cuando queramos referenciar estructuras de datos más complejos (por ejemplo los diccionarios). \n",
        "\n",
        "**str.format()**\n",
        " \n",
        "Esta es una forma de realizar formateo de cadenas introducido a partir de Python 2.6, la cual es una mejora del formateo con `%`. Con `str.format()`, las referencias se realizan con llaves de la siguiente manera:"
      ]
    },
    {
      "cell_type": "code",
      "metadata": {
        "id": "SaMxygoU4Ujw"
      },
      "source": [
        "nombre = \"Julian\"\n",
        "edad = 22"
      ],
      "execution_count": null,
      "outputs": []
    },
    {
      "cell_type": "markdown",
      "metadata": {
        "id": "_xYlXSqy4fgt"
      },
      "source": [
        "Note que en este caso las variables se muestran de acuerdo al orden en el que aparecen en `.format()`. Podemos referenciar la variable utilizando el índice (posición en la que aparecen las variables en `.format()`) de las variables:"
      ]
    },
    {
      "cell_type": "code",
      "metadata": {
        "id": "Ui_pqGnZ4gXi",
        "colab": {
          "base_uri": "https://localhost:8080/"
        },
        "outputId": "7b79a8ac-0436-4b0c-e6ea-11f92cf786fd"
      },
      "source": [
        "print(\"Me llamo {} y tengo {} años\".format(nombre, edad))"
      ],
      "execution_count": null,
      "outputs": [
        {
          "output_type": "stream",
          "text": [
            "Me llamo Julian y tengo 22 años\n"
          ],
          "name": "stdout"
        }
      ]
    },
    {
      "cell_type": "code",
      "metadata": {
        "id": "91puqFIw4lWy",
        "colab": {
          "base_uri": "https://localhost:8080/"
        },
        "outputId": "0a492f46-aaa5-4c19-c6a0-c8d7f5478ef3"
      },
      "source": [
        "print(\"Me llamo {1} y tengo {0} años\".format(edad, nombre))"
      ],
      "execution_count": null,
      "outputs": [
        {
          "output_type": "stream",
          "text": [
            "Me llamo Julian y tengo 22 años\n"
          ],
          "name": "stdout"
        }
      ]
    },
    {
      "cell_type": "code",
      "metadata": {
        "colab": {
          "base_uri": "https://localhost:8080/"
        },
        "id": "pBB6TIVQNMCy",
        "outputId": "d5be79c9-7d01-48ba-b96e-f2089488a76d"
      },
      "source": [
        "l = [i for i in range(10) if  i % 2 == 0 ]\n",
        "print(\"Los números pres de forma decreciente son {4} {3} {2} {1} {0}\".format(l[0], l[1], l[2], l[3], l[4]))"
      ],
      "execution_count": null,
      "outputs": [
        {
          "output_type": "stream",
          "text": [
            "Los números pres de forma decreciente son 8 6 4 2 0\n"
          ],
          "name": "stdout"
        }
      ]
    },
    {
      "cell_type": "markdown",
      "metadata": {
        "id": "kzs3MTFG4k3B"
      },
      "source": [
        "Y la precisión se elige de la siguiente manera:"
      ]
    },
    {
      "cell_type": "code",
      "metadata": {
        "colab": {
          "base_uri": "https://localhost:8080/"
        },
        "id": "H7mJgiN9NEHY",
        "outputId": "04315168-ebb1-491c-f1a3-a7c2c9d66300"
      },
      "source": [
        "print(\"Imprimiendo en pantalla pi con dos cifras en precisión: {:.2f}\".format(pi))\n",
        "print(\"Imprimiendo en pantalla pi con cuatro cifras en precisión: {:.4f}\".format(pi) )"
      ],
      "execution_count": null,
      "outputs": [
        {
          "output_type": "stream",
          "text": [
            "Imprimiendo en pantalla pi con dos cifras en precisión: 3.14\n",
            "Imprimiendo en pantalla pi con cuatro cifras en precisión: 3.1416\n"
          ],
          "name": "stdout"
        }
      ]
    },
    {
      "cell_type": "markdown",
      "metadata": {
        "id": "f882bfxb4nod"
      },
      "source": [
        "`str.format()` es definitivamente una mejora en comparación con el formateo con `%` para operaciones más complejas. Sin embargo, vamos a encontrar el mismo problema que en el caso anterior: cuando utilicemos más variables y cadenas más largas el código no será tan fácil de leer. \n",
        "\n",
        "Pensemos que en ambos casos, para mostrar las variables dentro de la cadena, debemos utilizar la referencia dentro de la cadena y luego referenciar la variable fuera de la cadena, algo que puede hacerse con una única referencia utilizando las cadenas *f*."
      ]
    },
    {
      "cell_type": "markdown",
      "metadata": {
        "id": "7iI8QJIoRtVd"
      },
      "source": [
        "**NORMAS BÁSICAS Python** : [enlace](https://https://www.python.org/dev/peps/pep-0008/)"
      ]
    },
    {
      "cell_type": "markdown",
      "metadata": {
        "id": "ffr_3FaQJxRn"
      },
      "source": [
        "\n",
        "\n",
        "**Cadenas *f***\n",
        "\n",
        "Las cadenas *f* (o *f-strings* en inglés) son literales de cadena que tienen una `f` al principio y llaves que contienen expresiones que serán reemplazadas por sus valores. La sintáxis es la siguiente\n",
        "\n",
        ">\n",
        "    f\".. {var} ..\"\n",
        "\n",
        "Donde `var` es la variable que queremos referenciar. De esta forma, podemos referenciar las variables dentro de la cadena directamente"
      ]
    },
    {
      "cell_type": "code",
      "metadata": {
        "id": "CztCL08H4xhq",
        "colab": {
          "base_uri": "https://localhost:8080/"
        },
        "outputId": "c5ef5117-1147-4b23-e689-9640d77f14f1"
      },
      "source": [
        "print(f'Mi nombre es {nombre} y tengo {edad} años')"
      ],
      "execution_count": null,
      "outputs": [
        {
          "output_type": "stream",
          "text": [
            "Mi nombre es Julian y tengo 22 años\n"
          ],
          "name": "stdout"
        }
      ]
    },
    {
      "cell_type": "markdown",
      "metadata": {
        "id": "_-uUltUC40vH"
      },
      "source": [
        "La precisión se indica de la siguiente manera:"
      ]
    },
    {
      "cell_type": "code",
      "metadata": {
        "id": "nSS2gSMg414f",
        "colab": {
          "base_uri": "https://localhost:8080/"
        },
        "outputId": "4a5ecbda-fce2-4a6b-fdac-42d1108c4754"
      },
      "source": [
        "print(f\"Imprimiendo en pantalla pi con dos cifras en precisión: {pi:.2f}\")\n",
        "print(f\"Imprimiendo en pantalla pi con cuatro cifras en precisión: {pi:.4f}\")"
      ],
      "execution_count": null,
      "outputs": [
        {
          "output_type": "stream",
          "text": [
            "Imprimiendo en pantalla pi con dos cifras en precisión: 3.14\n",
            "Imprimiendo en pantalla pi con cuatro cifras en precisión: 3.1416\n"
          ],
          "name": "stdout"
        }
      ]
    },
    {
      "cell_type": "markdown",
      "metadata": {
        "id": "3zTowV_C460h"
      },
      "source": [
        "Podemos realizar cualquier tipo de operación válida sobre las variables. Por ejemplo:"
      ]
    },
    {
      "cell_type": "code",
      "metadata": {
        "id": "zF-WakhTGJo6",
        "colab": {
          "base_uri": "https://localhost:8080/"
        },
        "outputId": "e5f2797f-22f0-4da2-fcb1-62050ea93450"
      },
      "source": [
        "print(f'Dentro de 5 años {nombre} tendrá {edad + 5} años')"
      ],
      "execution_count": null,
      "outputs": [
        {
          "output_type": "stream",
          "text": [
            "Dentro de 5 años Julian tendrá 27 años\n"
          ],
          "name": "stdout"
        }
      ]
    },
    {
      "cell_type": "code",
      "metadata": {
        "id": "YSALgwhO2hA5",
        "colab": {
          "base_uri": "https://localhost:8080/"
        },
        "outputId": "b2025ef4-2b90-4631-a5d2-5cee3d467b1f"
      },
      "source": [
        "print(f\"{nombre} en mayúsculas es {nombre.upper()}\")"
      ],
      "execution_count": null,
      "outputs": [
        {
          "output_type": "stream",
          "text": [
            "Julian en mayúsculas es JULIAN\n"
          ],
          "name": "stdout"
        }
      ]
    },
    {
      "cell_type": "markdown",
      "metadata": {
        "id": "Z9lOjs-WKhBK"
      },
      "source": [
        "Este será el tipo de formateo de cadenas que utilizaremos de ahora en adelante debido a su facilida de uso y eficiencia."
      ]
    },
    {
      "cell_type": "markdown",
      "metadata": {
        "id": "2Jm7IByaRh7v"
      },
      "source": [
        "**Ejercicio 1:** Cree un programa que le pida al usuario que ingrese su nombre, edad y año actual. Imprima un mensaje en pantalla en el que le diga el año en que cumplirá 100 años."
      ]
    },
    {
      "cell_type": "code",
      "metadata": {
        "id": "wvlzij38VFKo",
        "colab": {
          "base_uri": "https://localhost:8080/"
        },
        "outputId": "87be75a0-3fb2-4443-8055-5feac17f9bd9"
      },
      "source": [
        "name = input(\"Ingrese su nombre: \")\n",
        "age = int (input(\"Ingrese su edad: \"))\n",
        "year = int (input(\"Ingrese el año actual: \"))\n",
        "\n",
        "year += (100 - age)\n",
        "\n",
        "print(f\"El año en el que cumplirá 100 años es {year}\")"
      ],
      "execution_count": null,
      "outputs": [
        {
          "output_type": "stream",
          "text": [
            "Ingrese su nombre: sultanito\n",
            "Ingrese su edad: 99\n",
            "Ingrese el año actual: 2021\n",
            "El año en el que cumplirá 100 años es 2022\n"
          ],
          "name": "stdout"
        }
      ]
    },
    {
      "cell_type": "markdown",
      "metadata": {
        "id": "h99Vci4PQBNY"
      },
      "source": [
        "<p><a name=\"ecf\"></a></p>\n",
        "\n",
        "# **Estructuras de control de flujo**\n",
        "\n",
        "Sin las estructuras de control de flujo, un programa es simplemente una lista de sentencias que se ejecutan secuencialmente. Controlando el flujo del programa, podemos ejecutar ciertos bloques de código condicionalmente y/o repetidamente. Veremos las diferentes sentencias condicionales, ciclos e interrupciones de flujo.\n",
        "\n",
        "<p><a name=\"sci\"></a></p>\n",
        "\n",
        "## **Sentencias condicionales** `if`, `elif` y `else`\n",
        "\n",
        "Una sentencia `if` consiste en una expresión booleana seguida de una o más sentencias indentadas:\n",
        "> \n",
        "    if expresion:\n",
        "      sentencia(s)\n",
        "\n",
        "Si la expresión booleana se evalúa como `True`, se ejecuta el bloque de sentencias dentro de la sentencia `if`. Recordemos que en Python, las declaraciones en un bloque están indentadas uniformemente después del símbolo dos puntos `:`"
      ]
    },
    {
      "cell_type": "code",
      "metadata": {
        "id": "7fjMna_NQNVI",
        "colab": {
          "base_uri": "https://localhost:8080/"
        },
        "outputId": "f7f05254-f620-4d9d-a3b5-078c27b94c92"
      },
      "source": [
        "sentencia = 4 > 3\n",
        "\n",
        "if sentencia:\n",
        "  print('La sentencia tiene un valor verdadero')"
      ],
      "execution_count": null,
      "outputs": [
        {
          "output_type": "stream",
          "text": [
            "La sentencia tiene un valor verdadero\n"
          ],
          "name": "stdout"
        }
      ]
    },
    {
      "cell_type": "markdown",
      "metadata": {
        "id": "OsnAsLwC5sLA"
      },
      "source": [
        "En este caso como la expresión booleana `exp` es `True`, entonces se ejecuta la sentencia luego del `if`. Una vez ejecutada la sentencia del bloque de código se ejecuta la siguiente línea en el flujo del código. Ahora, en el caso que la expresión a evaluar sea `False`, no se ejecutará el bloque de código que sigue al `if`, como se muestra a continuación"
      ]
    },
    {
      "cell_type": "code",
      "metadata": {
        "id": "31rke9b_5wBh"
      },
      "source": [
        "sentencia = 2.7 > 3\n",
        "\n",
        "if sentencia:\n",
        "  print('La sentencia tiene un valor verdadero')"
      ],
      "execution_count": null,
      "outputs": []
    },
    {
      "cell_type": "markdown",
      "metadata": {
        "id": "smYzO6QaQTEp"
      },
      "source": [
        "La sentencia `else` se puede combinar con una sentencia `if` para tener más control del flujo del programa. Una instrucción `else` contiene un bloque de código que se ejecuta si la expresión condicional en la instrucción `if` toma el valor `False`. La sintáxis es la siguiente:\n",
        "\n",
        "> \n",
        "    if expresion:\n",
        "      sentencia1(s)\n",
        "    else:\n",
        "      sentencia2(s)\n",
        "\n",
        "Veamos un ejemplo:\n"
      ]
    },
    {
      "cell_type": "code",
      "metadata": {
        "id": "IAMa-jNiQWEz",
        "colab": {
          "base_uri": "https://localhost:8080/"
        },
        "outputId": "b55643ea-167d-466b-d16b-a8d2c5d1a43f"
      },
      "source": [
        "sentencia = 4 > 3\n",
        "\n",
        "if sentencia:\n",
        "  print('La sentencia tiene un valor verdadero')\n",
        "\n",
        "else:\n",
        "  print('La sentencia tiene un valor falso')"
      ],
      "execution_count": null,
      "outputs": [
        {
          "output_type": "stream",
          "text": [
            "La sentencia tiene un valor verdadero\n"
          ],
          "name": "stdout"
        }
      ]
    },
    {
      "cell_type": "code",
      "metadata": {
        "id": "eQyu3vGb6Aa0",
        "colab": {
          "base_uri": "https://localhost:8080/"
        },
        "outputId": "c95dc82a-c8c7-46ff-f8ca-acb53beaa7b2"
      },
      "source": [
        "sentencia = 2 > 3\n",
        "\n",
        "if sentencia:\n",
        "  print('La sentencia tiene un valor verdadero')\n",
        "\n",
        "else:\n",
        "  print('La sentencia tiene un valor falso')"
      ],
      "execution_count": null,
      "outputs": [
        {
          "output_type": "stream",
          "text": [
            "La sentencia tiene un valor falso\n"
          ],
          "name": "stdout"
        }
      ]
    },
    {
      "cell_type": "markdown",
      "metadata": {
        "id": "-UR2WpNfQZ3A"
      },
      "source": [
        "De esta manera podemos ejecutar una instrucción para los dos posibles valores que tome la expresión booleana. Note que como expresión podemos evaluar cualquier tipo de operación de comparación que nos devuelva un valor booleano.\n",
        "\n",
        "\n",
        "\n"
      ]
    },
    {
      "cell_type": "markdown",
      "metadata": {
        "id": "BG50_7JAU4kU"
      },
      "source": [
        "**Ejercicio 2:**  Pida al usuario un número entero. Dependiendo de si el número es par o impar, imprima un mensaje apropiado para el usuario en pantalla."
      ]
    },
    {
      "cell_type": "code",
      "metadata": {
        "id": "g1-mKdptU3Pw",
        "colab": {
          "base_uri": "https://localhost:8080/"
        },
        "outputId": "3e612a9e-15c6-4075-acd4-50e2d24299ab"
      },
      "source": [
        "num = int(input(\"Ingrese un número entero \"))\n",
        "if num % 2 == 0:\n",
        "  print(f'{num} es un número par')\n",
        "else:\n",
        "  print(f'{num} es un número impar')"
      ],
      "execution_count": null,
      "outputs": [
        {
          "output_type": "stream",
          "text": [
            "Ingrese un número entero 2\n",
            "2 es un número par\n"
          ],
          "name": "stdout"
        }
      ]
    },
    {
      "cell_type": "markdown",
      "metadata": {
        "id": "K1xVQVQppKKn"
      },
      "source": [
        "**Ejercicio 3:** Un año es bisiesto si es múltiplo de 4, exceptuando los múltiplos de 100, que sólo son bisiestos cuando son múltiplos además de 400, por ejemplo el año 1900 no fue bisiesto, pero el año 2000 si lo será. Escribir un programa que, dado un año por parte de un usuario, muestre un mensaje en pantalla apropiado de acuerdo a si dicho año es o no bisiesto."
      ]
    },
    {
      "cell_type": "code",
      "metadata": {
        "id": "FjZTUqS6-h4M",
        "colab": {
          "base_uri": "https://localhost:8080/"
        },
        "outputId": "6870d02c-8bd1-40b8-ae55-d5c0616d202a"
      },
      "source": [
        "A = int(input('Ingrese un año '))\n",
        "if A % 4 == 0 and (A % 100 != 0 or A % 400 == 0):\n",
        " print('BISIESTO ')\n",
        "else:\n",
        " print('NO BISIESTO ')"
      ],
      "execution_count": null,
      "outputs": [
        {
          "output_type": "stream",
          "text": [
            "Ingrese un año 2000\n",
            "BISIESTO \n"
          ],
          "name": "stdout"
        }
      ]
    },
    {
      "cell_type": "markdown",
      "metadata": {
        "id": "dlQvvrChU2nk"
      },
      "source": [
        "La sentencia `elif` (else if) permite verificar múltiples expresiones y ejecutar un bloque de código tan pronto como una de las condiciones se evalúe como `True`. Al igual que `else`, la sentencia `elif` es opcional. Sin embargo, a diferencia de `else`, para el cual puede haber como máximo una declaración, puede haber un número arbitrario de sentencias `elif` después de un `if`. Veamos los posibles casos cuando se evaluan dos condiciones:"
      ]
    },
    {
      "cell_type": "code",
      "metadata": {
        "id": "8NHf3Gb5QWvX",
        "colab": {
          "base_uri": "https://localhost:8080/"
        },
        "outputId": "8b04fd76-ed19-45f2-a128-8e45f898993d"
      },
      "source": [
        "sentencia1 = 4 > 3\n",
        "sentencia2 = 5 > 4\n",
        "\n",
        "if sentencia1:\n",
        "  print('La sentencia1 tiene un valor verdadero')\n",
        "\n",
        "elif sentencia2:\n",
        "  print(\"La sentencia1 tiene un valor falso pero la sentencia2 tiene un valor verdadero\")\n",
        "\n",
        "else:\n",
        "  print('Ambas sentencias tienen valor falso')"
      ],
      "execution_count": null,
      "outputs": [
        {
          "output_type": "stream",
          "text": [
            "La sentencia1 tiene un valor verdadero\n"
          ],
          "name": "stdout"
        }
      ]
    },
    {
      "cell_type": "code",
      "metadata": {
        "id": "J1fi0oWN6n0d",
        "colab": {
          "base_uri": "https://localhost:8080/"
        },
        "outputId": "18c00f16-7998-4d9b-fe5a-c1b0322dc887"
      },
      "source": [
        "sentencia1 = 4 > 3\n",
        "sentencia2 = 4 > 4\n",
        "\n",
        "if sentencia1:\n",
        "  print('La sentencia1 tiene un valor verdadero')\n",
        "\n",
        "elif sentencia2:\n",
        "  print(\"La sentencia1 tiene un valor falso pero la sentencia2 tiene un valor verdadero\")\n",
        "\n",
        "else:\n",
        "  print('Ambas sentencias tienen valor falso')"
      ],
      "execution_count": null,
      "outputs": [
        {
          "output_type": "stream",
          "text": [
            "La sentencia1 tiene un valor verdadero\n"
          ],
          "name": "stdout"
        }
      ]
    },
    {
      "cell_type": "code",
      "metadata": {
        "id": "_oC7AI1R6s-E",
        "colab": {
          "base_uri": "https://localhost:8080/"
        },
        "outputId": "a36533fb-beed-439d-dfbc-5e14963702a3"
      },
      "source": [
        "sentencia1 = 2 > 3\n",
        "sentencia2 = 5 > 4\n",
        "\n",
        "if sentencia1:\n",
        "  print('La sentencia1 tiene un valor verdadero')\n",
        "\n",
        "elif sentencia2:\n",
        "  print(\"La sentencia1 tiene un valor falso pero la sentencia2 tiene un valor verdadero\")\n",
        "\n",
        "else:\n",
        "  print('Ambas sentencias tienen valor falso')"
      ],
      "execution_count": null,
      "outputs": [
        {
          "output_type": "stream",
          "text": [
            "La sentencia1 tiene un valor falso pero la sentencia2 tiene un valor verdadero\n"
          ],
          "name": "stdout"
        }
      ]
    },
    {
      "cell_type": "code",
      "metadata": {
        "id": "ul5ijGB86wDR",
        "colab": {
          "base_uri": "https://localhost:8080/"
        },
        "outputId": "9cc3f59b-3aa9-4579-fed7-80e8aba477a5"
      },
      "source": [
        "sentencia1 = 0 > 3\n",
        "sentencia2 = 1 > 4\n",
        "\n",
        "if sentencia1:\n",
        "  print('La sentencia1 tiene un valor verdadero')\n",
        "\n",
        "elif sentencia2:\n",
        "  print(\"La sentencia1 tiene un valor falso pero la sentencia2 tiene un valor verdadero\")\n",
        "\n",
        "else:\n",
        "  print('Ambas sentencias tienen valor falso')"
      ],
      "execution_count": null,
      "outputs": [
        {
          "output_type": "stream",
          "text": [
            "Ambas sentencias tienen valor falso\n"
          ],
          "name": "stdout"
        }
      ]
    },
    {
      "cell_type": "markdown",
      "metadata": {
        "id": "OJb_HgDa63U9"
      },
      "source": [
        "Note que en el caso donde ambas expresiones son `True`, se ejecuta solo la sentencia que primero se evalúe como `True`"
      ]
    },
    {
      "cell_type": "markdown",
      "metadata": {
        "id": "OU_d67LJQqaO"
      },
      "source": [
        " **Ejercicio 4:** Acepte tres números del usuario. Imprima en pantalla el mayor de los tres con dos cifras significativas"
      ]
    },
    {
      "cell_type": "code",
      "metadata": {
        "id": "Q2uI6xHNQjIV"
      },
      "source": [
        ""
      ],
      "execution_count": null,
      "outputs": []
    },
    {
      "cell_type": "markdown",
      "metadata": {
        "id": "rvgC45t1VVcf"
      },
      "source": [
        "Finalmente, podemos utilizar estas sentencias para definir una variable con dos posibles valores. Por ejemplo, si quisieramos asignar a una variable dos posibles valores, digamos 1 y 0, de acuerdo a alguna condición, podemos utilizar las sentencias `if` y `else` de la siguiente manera"
      ]
    },
    {
      "cell_type": "code",
      "metadata": {
        "id": "wAej54bXVXK4",
        "colab": {
          "base_uri": "https://localhost:8080/"
        },
        "outputId": "66555a45-3e22-4635-ff65-285cef2546cb"
      },
      "source": [
        "condi = True\n",
        "\n",
        "var = 4313 if condi else 0\n",
        "print(var)"
      ],
      "execution_count": null,
      "outputs": [
        {
          "output_type": "stream",
          "text": [
            "4313\n"
          ],
          "name": "stdout"
        }
      ]
    },
    {
      "cell_type": "markdown",
      "metadata": {
        "id": "g4NetrJP7ysy"
      },
      "source": [
        "En este caso, como la condición que seguía al `if` devuelve `True`, se asigna el primer valor. En el caso contrario, se asignaría el valor que sigue al `else`:"
      ]
    },
    {
      "cell_type": "code",
      "metadata": {
        "id": "KKBMOtXM7w6e",
        "colab": {
          "base_uri": "https://localhost:8080/"
        },
        "outputId": "53235a9f-8496-44a5-b709-f6860fc856a6"
      },
      "source": [
        "condi = False\n",
        "\n",
        "var = 4313 if condi else 0\n",
        "print(var)"
      ],
      "execution_count": null,
      "outputs": [
        {
          "output_type": "stream",
          "text": [
            "0\n"
          ],
          "name": "stdout"
        }
      ]
    },
    {
      "cell_type": "markdown",
      "metadata": {
        "id": "zQzNg0cURRAW"
      },
      "source": [
        "<p><a name=\"cic\"></a></p>\n",
        "\n",
        "# **Ciclos, iteraciones e interrupciones de flujo**\n",
        "\n",
        "En general, las instrucciones se ejecutan secuencialmente. Puede haber una situación en la que se necesite ejecutar un bloque de código varias veces. Una sentencia de ciclo o bucle nos permite ejecutar una o un grupo de sentencias repetidas veces"
      ]
    },
    {
      "cell_type": "markdown",
      "metadata": {
        "id": "g8TUS45vSLMY"
      },
      "source": [
        "<p><a name=\"whi\"></a></p>\n",
        "\n",
        "### **Ciclo `while`**\n",
        "\n",
        "Una sentencia de ciclo `while` ejecuta repetidamente una sentencia siempre que una condición dada sea `True`. La sintáxis es la siguiente:\n",
        "\n",
        "> \n",
        "    while condicion:\n",
        "\n",
        "      sentencia(s)\n",
        "\n",
        "El ciclo itera mientras la condición sea `True`. Un punto clave del ciclo while es que el ciclo podría no ejecutarse nunca. Cuando se prueba la condición y el resultado es `False`, se omitirá el cuerpo del ciclo y se ejecutará la primera instrucción después del ciclo while\n"
      ]
    },
    {
      "cell_type": "code",
      "metadata": {
        "id": "71LuiEqWQvcU",
        "colab": {
          "base_uri": "https://localhost:8080/"
        },
        "outputId": "d05c3e86-4364-4ac4-dbc7-a237f9e01eb7"
      },
      "source": [
        "contador = 0\n",
        "\n",
        "while contador < 10:\n",
        "  print(f'El contador es {contador}')\n",
        "  contador += 1\n",
        "\n",
        "print(\"Adios\")"
      ],
      "execution_count": null,
      "outputs": [
        {
          "output_type": "stream",
          "text": [
            "El contador es 0\n",
            "El contador es 1\n",
            "El contador es 2\n",
            "El contador es 3\n",
            "El contador es 4\n",
            "El contador es 5\n",
            "El contador es 6\n",
            "El contador es 7\n",
            "El contador es 8\n",
            "El contador es 9\n",
            "Adios\n"
          ],
          "name": "stdout"
        }
      ]
    },
    {
      "cell_type": "markdown",
      "metadata": {
        "id": "BSg839BQ8P1F"
      },
      "source": [
        "Note que en este caso no se tiene una variable de iteración, sino que la iteración se realiza siempre que la condición evaluada (que la variable `contador` sea menor a 5) sea `True`. Una vez la condición se evalue como `False` se pasa a la siguiente línea de código (`print(\"Adiós\")`) en el flujo del programa. \n",
        "\n",
        "Debido a esta naturaleza del ciclo `while`, debe tener cuidado con la condición que evalue, dado que si la condición siempre es `True` se entrará en un ciclo infinito."
      ]
    },
    {
      "cell_type": "markdown",
      "metadata": {
        "id": "W8pA-RwiSaN1"
      },
      "source": [
        "<p><a name=\"for\"></a></p>\n",
        "\n",
        "### **Ciclo `for`**\n",
        "\n",
        "La sentencia `for` en Python tiene la capacidad de iterar sobre los elementos de cualquier secuencia\n",
        "\n",
        "> \n",
        "    for var_iter in secuencia:\n",
        "\n",
        "        sentencia(s)\n",
        "\n",
        "Observe la simplicidad del ciclo for: especificamos la variable de iteración que queremos usar `var_iter`, la secuencia que queremos recorrer y usamos el operador `in` para vincularlos de manera intuitiva y legible. Más precisamente, el objeto a la derecha de `in` puede ser cualquier objeto iterable de Python. \n",
        "\n",
        "Ahora, se entiende por secuencia cualquier objeto de Python que pueda ser iterable. Estos objetos iterables tienen algo en común: todos ellos contienen el método especial `__iter__` (Recuerde que puede examinar los métodos de un objeto mediante la función propia de Python `dir`).\n",
        "\n",
        "Por ejemplo, uno de los iteradores más utilizados en Python es el objeto `range`, que genera una secuencia de números en un rango especificado:\n",
        "\n",
        "\n",
        "Por ejemplo, uno de los objetos iterables más utilizados en Python es el proporcionado por la función propia de Python `range`, que genera una secuencia de números en un rango específico.\n",
        "\n"
      ]
    },
    {
      "cell_type": "code",
      "metadata": {
        "id": "gm_JdPUsWAcj",
        "colab": {
          "base_uri": "https://localhost:8080/"
        },
        "outputId": "882bdd3c-391e-45da-e72a-fca112a3290b"
      },
      "source": [
        "l = [10, 15 , 20, 25]\n",
        "for elem in l:\n",
        "  print(elem + 3)"
      ],
      "execution_count": null,
      "outputs": [
        {
          "output_type": "stream",
          "text": [
            "13\n",
            "18\n",
            "23\n",
            "28\n"
          ],
          "name": "stdout"
        }
      ]
    },
    {
      "cell_type": "code",
      "metadata": {
        "id": "nLrwyOm2F8Tk",
        "colab": {
          "base_uri": "https://localhost:8080/"
        },
        "outputId": "f901ea90-7a9f-4c65-fbee-dcba2be8f3f4"
      },
      "source": [
        "for j in range(10, 30, 5):\n",
        "  print(j + 3)"
      ],
      "execution_count": null,
      "outputs": [
        {
          "output_type": "stream",
          "text": [
            "13\n",
            "18\n",
            "23\n",
            "28\n"
          ],
          "name": "stdout"
        }
      ]
    },
    {
      "cell_type": "code",
      "metadata": {
        "colab": {
          "base_uri": "https://localhost:8080/"
        },
        "id": "ba19dDifaT_n",
        "outputId": "7b878457-80a0-4bb5-cd20-2dca1ef89a44"
      },
      "source": [
        "for i in range(3):\n",
        "  print(i)"
      ],
      "execution_count": null,
      "outputs": [
        {
          "output_type": "stream",
          "text": [
            "0\n",
            "1\n",
            "2\n"
          ],
          "name": "stdout"
        }
      ]
    },
    {
      "cell_type": "markdown",
      "metadata": {
        "id": "zzd4Yc2W84aV"
      },
      "source": [
        "En este caso la secuencia es (0, 1, 2). Note que la variable de iteración, en este caso `i`, toma cada uno de estos valores en cada iteración. \n",
        "\n",
        "Tenga en cuenta que la secuencia comienza en cero de forma predeterminada y que, por convención, el valor final del `range` no se incluye en la secuencia. La función `range` admite más parámetros para una secuencia más compleja. La sintáxis es la siguiente:\n",
        "\n",
        ">\n",
        "\n",
        "    range(inicio, final, paso)\n",
        "\n",
        "En el primer ejemplo, como hemos pasamos solo un argumento a la función `range`, este se tomará por defecto como el final del rango (que no se incluye), y se generará la secuencia con paso 1. Si pasamos solo dos argumentos, estos se tomarán como el inicio y el final del rango:\n"
      ]
    },
    {
      "cell_type": "markdown",
      "metadata": {
        "id": "96Rb6_Pu9FwF"
      },
      "source": [
        "Ahora, pasando los tres argumentos podemos generar secuencias más complejas:"
      ]
    },
    {
      "cell_type": "code",
      "metadata": {
        "id": "T2BF7fr9SXcl",
        "colab": {
          "base_uri": "https://localhost:8080/"
        },
        "outputId": "94d92ee1-ff8a-4ba1-f7ae-6e073f00041c"
      },
      "source": [
        "for i in range(1,11):\n",
        "  if i % 2 == 0:\n",
        "    print(i)\n"
      ],
      "execution_count": null,
      "outputs": [
        {
          "output_type": "stream",
          "text": [
            "2\n",
            "4\n",
            "6\n",
            "8\n",
            "10\n"
          ],
          "name": "stdout"
        }
      ]
    },
    {
      "cell_type": "code",
      "metadata": {
        "id": "dPIekCWl9KNr",
        "colab": {
          "base_uri": "https://localhost:8080/"
        },
        "outputId": "1ae2ad9d-0923-4d99-fbc4-e9ae3262963e"
      },
      "source": [
        "for i in range(2,11,2):\n",
        "  print(i)"
      ],
      "execution_count": null,
      "outputs": [
        {
          "output_type": "stream",
          "text": [
            "2\n",
            "4\n",
            "6\n",
            "8\n",
            "10\n"
          ],
          "name": "stdout"
        }
      ]
    },
    {
      "cell_type": "code",
      "metadata": {
        "colab": {
          "base_uri": "https://localhost:8080/"
        },
        "id": "7TSQmphwa96T",
        "outputId": "eede25dc-b206-43d0-c163-4405457c44f5"
      },
      "source": [
        "for i in range(1,11,2):\n",
        "  print(i)"
      ],
      "execution_count": null,
      "outputs": [
        {
          "output_type": "stream",
          "text": [
            "1\n",
            "3\n",
            "5\n",
            "7\n",
            "9\n"
          ],
          "name": "stdout"
        }
      ]
    },
    {
      "cell_type": "code",
      "metadata": {
        "colab": {
          "base_uri": "https://localhost:8080/"
        },
        "id": "rxzdVf3EbEbi",
        "outputId": "70236c09-fa71-4951-bae3-cbde10d55764"
      },
      "source": [
        "list(range(10))"
      ],
      "execution_count": null,
      "outputs": [
        {
          "output_type": "execute_result",
          "data": {
            "text/plain": [
              "[0, 1, 2, 3, 4, 5, 6, 7, 8, 9]"
            ]
          },
          "metadata": {
            "tags": []
          },
          "execution_count": 84
        }
      ]
    },
    {
      "cell_type": "markdown",
      "metadata": {
        "id": "qPEWUTke9RNk"
      },
      "source": [
        "El caracter `_` en Python se utiliza cuando se debe declarar una variable pero esta no se usará en ningún proceso posterior (como en el ejemplo anterior), de manera que no se desperdicie espacio de memoria.\n",
        "\n",
        "Las listas y las cadenas de caracteres también son objetos iterables:"
      ]
    },
    {
      "cell_type": "code",
      "metadata": {
        "id": "535TdkOnFSTH",
        "colab": {
          "base_uri": "https://localhost:8080/"
        },
        "outputId": "44364086-bd85-49a9-dcd7-f3fc1d636fff"
      },
      "source": [
        "for _ in range(5):\n",
        "  print('Hola')"
      ],
      "execution_count": null,
      "outputs": [
        {
          "output_type": "stream",
          "text": [
            "Hola\n",
            "Hola\n",
            "Hola\n",
            "Hola\n",
            "Hola\n"
          ],
          "name": "stdout"
        }
      ]
    },
    {
      "cell_type": "code",
      "metadata": {
        "id": "b_JFcK9mFEsn",
        "colab": {
          "base_uri": "https://localhost:8080/"
        },
        "outputId": "cc14db7e-443d-4a07-bbfb-5df78b7caa51"
      },
      "source": [
        "texto = 'Hola mundo'\n",
        "\n",
        "for caracter in texto:\n",
        "  print(caracter)"
      ],
      "execution_count": null,
      "outputs": [
        {
          "output_type": "stream",
          "text": [
            "H\n",
            "o\n",
            "l\n",
            "a\n",
            " \n",
            "m\n",
            "u\n",
            "n\n",
            "d\n",
            "o\n"
          ],
          "name": "stdout"
        }
      ]
    },
    {
      "cell_type": "markdown",
      "metadata": {
        "id": "RdSg6O7cUD_8"
      },
      "source": [
        "<p><a name=\"scf\"></a></p>\n",
        "\n",
        "## **Sentencias de control de flujo `break` y `continue`**\n",
        "\n",
        "Existen algunas sentencias útiles que se pueden usar dentro de los ciclos para ajustar como estos se ejecutan:\n",
        "\n",
        "**`break`**:\n",
        "\n",
        "La sentencia de control `break` termina el ciclo y transfiere la ejecución a la línea de código que sigue inmediatamente a este. La siguiente figura ilustra este proceso:\n",
        "\n",
        "<p><img alt=\"Colaboratory logo\" height=\"450px\" src=\"https://i.imgur.com/CoZLUcX.png\" align=\"left\" hspace=\"0px\" vspace=\"0px\"></p>\n",
        "\n"
      ]
    },
    {
      "cell_type": "markdown",
      "metadata": {
        "id": "ordNbhyG9mKA"
      },
      "source": [
        "Veamos esto en un ejemplo concreto: las variables de tipo cadena, también pueden ser utilizadas como secuencias para una iteración:"
      ]
    },
    {
      "cell_type": "code",
      "metadata": {
        "id": "az4VyIJvIQTB",
        "colab": {
          "base_uri": "https://localhost:8080/"
        },
        "outputId": "2552bd23-22ff-46ad-ed21-c1b6e5d5f2a1"
      },
      "source": [
        "vocales = 'aeiou'\n",
        "\n",
        "for vocal in vocales:\n",
        "  if vocal == \"o\":\n",
        "    break\n",
        "  print(vocal)\n",
        "\n",
        "print('Adios')"
      ],
      "execution_count": null,
      "outputs": [
        {
          "output_type": "stream",
          "text": [
            "a\n",
            "e\n",
            "i\n",
            "Adios\n"
          ],
          "name": "stdout"
        }
      ]
    },
    {
      "cell_type": "markdown",
      "metadata": {
        "id": "4aCuzLmqV-B9"
      },
      "source": [
        "Note que el ciclo se termina una vez se ejecute la sentencia `break` y se pasa a la siguiente línea en el flujo del programa. También podemos utilizar esta sentencia de control dentro de un ciclo `while`. En este caso terminaremos el ciclo una vez la variable `contador` sea igual a tres:"
      ]
    },
    {
      "cell_type": "code",
      "metadata": {
        "id": "_p0_AWuUV6Dp",
        "colab": {
          "base_uri": "https://localhost:8080/"
        },
        "outputId": "e421adbe-48a8-4518-cbbe-8505c314d9b3"
      },
      "source": [
        "contador = 0\n",
        "\n",
        "while contador < 10:\n",
        "  if contador == 3:\n",
        "    break\n",
        "  print(f'El contador es {contador}')\n",
        "  contador += 1\n",
        "\n",
        "print('Adios')"
      ],
      "execution_count": null,
      "outputs": [
        {
          "output_type": "stream",
          "text": [
            "El contador es 0\n",
            "El contador es 1\n",
            "El contador es 2\n",
            "Adios\n"
          ],
          "name": "stdout"
        }
      ]
    },
    {
      "cell_type": "markdown",
      "metadata": {
        "id": "6Bv5ORy7WIdj"
      },
      "source": [
        "**`continue`:**\n",
        "\n",
        "La sentencia de control `continue` no termina por completo el ciclo sino que omite las sentencias restantes de la iteración actual y pasa a la siguiente. Veamos una representación de este proceso:\n",
        "\n",
        "<p><img alt=\"Colaboratory logo\" height=\"450px\" src=\"https://i.imgur.com/i98Dewt.png\" align=\"left\" hspace=\"0px\" vspace=\"0px\"></p>"
      ]
    },
    {
      "cell_type": "markdown",
      "metadata": {
        "id": "Fg9w0bd79zp2"
      },
      "source": [
        "Veamos esta sentencia en uno de los ejemplos anteriores:"
      ]
    },
    {
      "cell_type": "code",
      "metadata": {
        "id": "w55-7-5IWBgP",
        "colab": {
          "base_uri": "https://localhost:8080/"
        },
        "outputId": "54a78845-9a8b-4726-e901-ef8e8233aa29"
      },
      "source": [
        "vocales = 'aeiou'\n",
        "\n",
        "for vocal in vocales:\n",
        "  if vocal == \"o\":\n",
        "    continue\n",
        "  print(vocal)\n",
        "\n",
        "print('Adios')"
      ],
      "execution_count": null,
      "outputs": [
        {
          "output_type": "stream",
          "text": [
            "a\n",
            "e\n",
            "i\n",
            "u\n",
            "Adios\n"
          ],
          "name": "stdout"
        }
      ]
    },
    {
      "cell_type": "code",
      "metadata": {
        "colab": {
          "base_uri": "https://localhost:8080/"
        },
        "id": "tFwyrAlNcnWU",
        "outputId": "437e8e63-050f-450a-faec-c18b02893c4e"
      },
      "source": [
        "contador = 0\n",
        "\n",
        "while contador < 10:\n",
        "  if contador == 3:\n",
        "    contador += 1\n",
        "    continue\n",
        "  print(f'El contador es {contador}')\n",
        "  contador += 1\n",
        "\n",
        "print('Adios')"
      ],
      "execution_count": null,
      "outputs": [
        {
          "output_type": "stream",
          "text": [
            "El contador es 0\n",
            "El contador es 1\n",
            "El contador es 2\n",
            "El contador es 4\n",
            "El contador es 5\n",
            "El contador es 6\n",
            "El contador es 7\n",
            "El contador es 8\n",
            "El contador es 9\n",
            "Adios\n"
          ],
          "name": "stdout"
        }
      ]
    },
    {
      "cell_type": "markdown",
      "metadata": {
        "id": "09T2wyEu93mU"
      },
      "source": [
        "Note que, a diferencia del caso anterior, no se terminó el ciclo una vez se llegó a la vocal \"o\" sino que se pasó a la siguiente iteración ignorando la línea restante en el ciclo."
      ]
    },
    {
      "cell_type": "markdown",
      "metadata": {
        "id": "amBKoTABmWwK"
      },
      "source": [
        "**Ejercicio 5:** Escriba un programa que calcule el factorial de un número entero n"
      ]
    },
    {
      "cell_type": "code",
      "metadata": {
        "id": "g57hdhi4maUW"
      },
      "source": [
        ""
      ],
      "execution_count": null,
      "outputs": []
    }
  ]
}