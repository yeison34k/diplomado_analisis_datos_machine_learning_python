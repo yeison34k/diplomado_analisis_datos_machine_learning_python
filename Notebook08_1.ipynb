{
  "nbformat": 4,
  "nbformat_minor": 0,
  "metadata": {
    "colab": {
      "name": "Notebook08-1.ipynb",
      "provenance": [],
      "collapsed_sections": [],
      "include_colab_link": true
    },
    "kernelspec": {
      "name": "python3",
      "display_name": "Python 3"
    }
  },
  "cells": [
    {
      "cell_type": "markdown",
      "metadata": {
        "id": "view-in-github",
        "colab_type": "text"
      },
      "source": [
        "<a href=\"https://colab.research.google.com/github/yeison34k/diplomado_analisis_datos_machine_learning_python/blob/main/Notebook08_1.ipynb\" target=\"_parent\"><img src=\"https://colab.research.google.com/assets/colab-badge.svg\" alt=\"Open In Colab\"/></a>"
      ]
    },
    {
      "cell_type": "markdown",
      "metadata": {
        "id": "ZTrlCzdxYsxx"
      },
      "source": [
        "<p><img alt=\"Colaboratory logo\" height=\"140px\" src=\"https://upload.wikimedia.org/wikipedia/commons/archive/f/fb/20161010213812%21Escudo-UdeA.svg\" align=\"left\" hspace=\"10px\" vspace=\"0px\"></p>\n",
        "\n",
        "# **Diplomado de Análisis de datos y Machine Learning en Python**\n",
        "\n",
        "\n",
        "El presente diplomado hace parte del centro de Big Data de la facultad de ciencias exactas y naturales (FCEN) de la Universidad de Antioquia.\n",
        "\n",
        "## **Sesión 15**\n",
        "\n",
        "## **Contenido**\n",
        "\n",
        "- <a href=\"#pip\"> Pipelines</a><br>\n",
        "- <a href=\"#val\"> Validación cruzada</a><br>\n",
        "- <a href=\"#pol\"> Regresión polinomial</a><br>\n",
        "\n"
      ]
    },
    {
      "cell_type": "markdown",
      "metadata": {
        "id": "BQqJQ-MmYy3s"
      },
      "source": [
        "<p><a name=\"pip\"></a></p>\n",
        "\n",
        "# **Pipelines**\n",
        "\n",
        "Hemos visto cómo la aplicación de un sistema de ML requiere de diferentes etapas: preprocesado de los datos, construcción del modelo y su posterior evaluación. Vimos también cómo esta etapa de preprocesado afecta directamente los resultados que obtenemos del modelo final.\n",
        "\n",
        "Vamos a ver cómo podemos simplificar los diferentes pasos en el preprocesamiento, así como la construcción del modelo, mediante el uso de los *pipelines*.\n",
        "\n"
      ]
    },
    {
      "cell_type": "markdown",
      "metadata": {
        "id": "F3O3d6HzhFqt"
      },
      "source": [
        "<p><img alt=\"Colaboratory logo\" height=\"340px\" src=\"https://i.imgur.com/Q5C8NGb.png\" align=\"left\" hspace=\"10px\" vspace=\"0px\"></p>"
      ]
    },
    {
      "cell_type": "markdown",
      "metadata": {
        "id": "p6cKkHA5hmnI"
      },
      "source": [
        "Un *Pipeline* es un objeto que nos permite encadenar varios pasos del workflow de ML secuencialmente. Específicamente, un Pipeline agrupa los pasos de preprocesamiento y modelado como si tratara de un solo paso, de manera que podamos automatizar todo el proceso manteniendo el código de preprocesamiento y de modelado de una forma muy organizada.\n",
        "\n",
        "Las dos principales ventajas de trabajar con pipelines son las siguientes:\n",
        "\n",
        "* Normalmente necesitaremos realizar un seguimiento como tal de los datos de entrenamiento y prueba en cada uno de los pasos de preprocesado, modelado y evaluación, lo que supone una tarea muy complicada desde el punto de vista de la implementación. Con los *pipelines* no necesitaremos de este seguimiento y tendremos un código mucho más simple y limpio.\n",
        "\n",
        "* Con los pipelines, vamos a poder evaluar todo el proceso, que incluye las etapas de preprocemiento y de construcción del modelo, como un todo. Más que evaluar solo el modelo final, como lo veníamos haciendo.\n",
        "\n",
        "Tal vez esta última sea la principal ventaja que tendremos a la hora de trabajar con pipelines.\n",
        "\n",
        "Volvamos al problema en el que hemos estado trabajando:"
      ]
    },
    {
      "cell_type": "code",
      "metadata": {
        "id": "etvISNF9Ym8g"
      },
      "source": [
        "import numpy as np\n",
        "import pandas as pd\n",
        "import matplotlib.pyplot as plt\n",
        "import seaborn as sns\n",
        "sns.set()"
      ],
      "execution_count": null,
      "outputs": []
    },
    {
      "cell_type": "code",
      "metadata": {
        "id": "lEfwWhvLi_Le",
        "colab": {
          "base_uri": "https://localhost:8080/",
          "height": 266
        },
        "outputId": "6705a6b3-e788-4ace-ad27-f34ee7d9bf05"
      },
      "source": [
        "df = pd.read_csv('https://raw.githubusercontent.com/tomasate/Diplomado_ML/main/datasets/data/nivel_1/Data/FuelConsumption.csv')\n",
        "df.head()"
      ],
      "execution_count": null,
      "outputs": [
        {
          "output_type": "execute_result",
          "data": {
            "text/html": [
              "<div>\n",
              "<style scoped>\n",
              "    .dataframe tbody tr th:only-of-type {\n",
              "        vertical-align: middle;\n",
              "    }\n",
              "\n",
              "    .dataframe tbody tr th {\n",
              "        vertical-align: top;\n",
              "    }\n",
              "\n",
              "    .dataframe thead th {\n",
              "        text-align: right;\n",
              "    }\n",
              "</style>\n",
              "<table border=\"1\" class=\"dataframe\">\n",
              "  <thead>\n",
              "    <tr style=\"text-align: right;\">\n",
              "      <th></th>\n",
              "      <th>MODELYEAR</th>\n",
              "      <th>MAKE</th>\n",
              "      <th>MODEL</th>\n",
              "      <th>VEHICLECLASS</th>\n",
              "      <th>ENGINESIZE</th>\n",
              "      <th>CYLINDERS</th>\n",
              "      <th>TRANSMISSION</th>\n",
              "      <th>FUELTYPE</th>\n",
              "      <th>FUELCONSUMPTION_CITY</th>\n",
              "      <th>FUELCONSUMPTION_HWY</th>\n",
              "      <th>FUELCONSUMPTION_COMB</th>\n",
              "      <th>FUELCONSUMPTION_COMB_MPG</th>\n",
              "      <th>CO2EMISSIONS</th>\n",
              "    </tr>\n",
              "  </thead>\n",
              "  <tbody>\n",
              "    <tr>\n",
              "      <th>0</th>\n",
              "      <td>2014</td>\n",
              "      <td>ACURA</td>\n",
              "      <td>ILX</td>\n",
              "      <td>COMPACT</td>\n",
              "      <td>2.0</td>\n",
              "      <td>4</td>\n",
              "      <td>AS5</td>\n",
              "      <td>Z</td>\n",
              "      <td>9.9</td>\n",
              "      <td>6.7</td>\n",
              "      <td>8.5</td>\n",
              "      <td>33</td>\n",
              "      <td>196</td>\n",
              "    </tr>\n",
              "    <tr>\n",
              "      <th>1</th>\n",
              "      <td>2014</td>\n",
              "      <td>ACURA</td>\n",
              "      <td>ILX</td>\n",
              "      <td>COMPACT</td>\n",
              "      <td>2.4</td>\n",
              "      <td>4</td>\n",
              "      <td>M6</td>\n",
              "      <td>Z</td>\n",
              "      <td>11.2</td>\n",
              "      <td>7.7</td>\n",
              "      <td>9.6</td>\n",
              "      <td>29</td>\n",
              "      <td>221</td>\n",
              "    </tr>\n",
              "    <tr>\n",
              "      <th>2</th>\n",
              "      <td>2014</td>\n",
              "      <td>ACURA</td>\n",
              "      <td>ILX HYBRID</td>\n",
              "      <td>COMPACT</td>\n",
              "      <td>1.5</td>\n",
              "      <td>4</td>\n",
              "      <td>AV7</td>\n",
              "      <td>Z</td>\n",
              "      <td>6.0</td>\n",
              "      <td>5.8</td>\n",
              "      <td>5.9</td>\n",
              "      <td>48</td>\n",
              "      <td>136</td>\n",
              "    </tr>\n",
              "    <tr>\n",
              "      <th>3</th>\n",
              "      <td>2014</td>\n",
              "      <td>ACURA</td>\n",
              "      <td>MDX 4WD</td>\n",
              "      <td>SUV - SMALL</td>\n",
              "      <td>3.5</td>\n",
              "      <td>6</td>\n",
              "      <td>AS6</td>\n",
              "      <td>Z</td>\n",
              "      <td>12.7</td>\n",
              "      <td>9.1</td>\n",
              "      <td>11.1</td>\n",
              "      <td>25</td>\n",
              "      <td>255</td>\n",
              "    </tr>\n",
              "    <tr>\n",
              "      <th>4</th>\n",
              "      <td>2014</td>\n",
              "      <td>ACURA</td>\n",
              "      <td>RDX AWD</td>\n",
              "      <td>SUV - SMALL</td>\n",
              "      <td>3.5</td>\n",
              "      <td>6</td>\n",
              "      <td>AS6</td>\n",
              "      <td>Z</td>\n",
              "      <td>12.1</td>\n",
              "      <td>8.7</td>\n",
              "      <td>10.6</td>\n",
              "      <td>27</td>\n",
              "      <td>244</td>\n",
              "    </tr>\n",
              "  </tbody>\n",
              "</table>\n",
              "</div>"
            ],
            "text/plain": [
              "   MODELYEAR   MAKE  ... FUELCONSUMPTION_COMB_MPG CO2EMISSIONS\n",
              "0       2014  ACURA  ...                       33          196\n",
              "1       2014  ACURA  ...                       29          221\n",
              "2       2014  ACURA  ...                       48          136\n",
              "3       2014  ACURA  ...                       25          255\n",
              "4       2014  ACURA  ...                       27          244\n",
              "\n",
              "[5 rows x 13 columns]"
            ]
          },
          "metadata": {
            "tags": []
          },
          "execution_count": 2
        }
      ]
    },
    {
      "cell_type": "code",
      "metadata": {
        "id": "4o7VKvsyjGtc"
      },
      "source": [
        "X = df.drop(columns=['CO2EMISSIONS', 'MODEL'])\n",
        "\n",
        "y = df[['CO2EMISSIONS']]"
      ],
      "execution_count": null,
      "outputs": []
    },
    {
      "cell_type": "markdown",
      "metadata": {
        "id": "c0FmZIZNjyJp"
      },
      "source": [
        "El *pipeline* aplica secuencialmente una lista de transformadores y un estimador final. Los pasos intermedios del *pipeline* deben ser 'transformaciones', es decir, deben implementar los métodos `fit` y `transform`. El estimador final solo necesita implementar el método `fit`."
      ]
    },
    {
      "cell_type": "code",
      "metadata": {
        "id": "lb4rOJlujkcf"
      },
      "source": [
        "from sklearn.pipeline import Pipeline, make_pipeline\n",
        "\n",
        "Pipeline?"
      ],
      "execution_count": null,
      "outputs": []
    },
    {
      "cell_type": "markdown",
      "metadata": {
        "id": "E62ktLTLlRa1"
      },
      "source": [
        "Variables numéricas:"
      ]
    },
    {
      "cell_type": "code",
      "metadata": {
        "id": "wzAevJQwYsXF",
        "colab": {
          "base_uri": "https://localhost:8080/"
        },
        "outputId": "27200473-e88f-4a8f-82e0-5b663d24e743"
      },
      "source": [
        "from sklearn.preprocessing import StandardScaler, OneHotEncoder\n",
        "from sklearn.impute import SimpleImputer\n",
        "\n",
        "num_imputer = SimpleImputer()\n",
        "scale = StandardScaler()\n",
        "\n",
        "num_transform = Pipeline([(\"Num_imp\", num_imputer),\n",
        "                          (\"Scaler\", scale)])\n",
        "\n",
        "num_transform"
      ],
      "execution_count": null,
      "outputs": [
        {
          "output_type": "execute_result",
          "data": {
            "text/plain": [
              "Pipeline(memory=None,\n",
              "         steps=[('Num_imp',\n",
              "                 SimpleImputer(add_indicator=False, copy=True, fill_value=None,\n",
              "                               missing_values=nan, strategy='mean',\n",
              "                               verbose=0)),\n",
              "                ('Scaler',\n",
              "                 StandardScaler(copy=True, with_mean=True, with_std=True))],\n",
              "         verbose=False)"
            ]
          },
          "metadata": {
            "tags": []
          },
          "execution_count": 9
        }
      ]
    },
    {
      "cell_type": "markdown",
      "metadata": {
        "id": "CGpxtCWJltvx"
      },
      "source": [
        "Variables categóricas:"
      ]
    },
    {
      "cell_type": "code",
      "metadata": {
        "id": "dSEU8c2tltBY",
        "colab": {
          "base_uri": "https://localhost:8080/"
        },
        "outputId": "e0c0bbac-009b-42b3-e665-2fc3d72368d0"
      },
      "source": [
        "cat_imputer = SimpleImputer(strategy= \"most_frequent\")\n",
        "ohe = OneHotEncoder(sparse = False, drop = 'first')\n",
        "\n",
        "cat_transform = Pipeline([('Cat_imp', cat_imputer),\n",
        "                        ('Ohe', ohe)])\n",
        "\n",
        "cat_transform"
      ],
      "execution_count": null,
      "outputs": [
        {
          "output_type": "execute_result",
          "data": {
            "text/plain": [
              "Pipeline(memory=None,\n",
              "         steps=[('Cat_imp',\n",
              "                 SimpleImputer(add_indicator=False, copy=True, fill_value=None,\n",
              "                               missing_values=nan, strategy='most_frequent',\n",
              "                               verbose=0)),\n",
              "                ('Ohe',\n",
              "                 OneHotEncoder(categories='auto', drop='first',\n",
              "                               dtype=<class 'numpy.float64'>,\n",
              "                               handle_unknown='error', sparse=False))],\n",
              "         verbose=False)"
            ]
          },
          "metadata": {
            "tags": []
          },
          "execution_count": 11
        }
      ]
    },
    {
      "cell_type": "markdown",
      "metadata": {
        "id": "bLU7oA9sm0mG"
      },
      "source": [
        "Alternativamente, podemos utilizar la clase ` make_pipeline`, la cual es un alias para `pipeline` en la que no tenemos que hacer explítico el nombre de la transformación:"
      ]
    },
    {
      "cell_type": "code",
      "metadata": {
        "id": "h2SQ-4uCnA0A",
        "colab": {
          "base_uri": "https://localhost:8080/"
        },
        "outputId": "2a8f6a85-749d-4fbb-8a08-58feb2639315"
      },
      "source": [
        "num_tra = make_pipeline(num_imputer, scale)\n",
        "num_tra"
      ],
      "execution_count": null,
      "outputs": [
        {
          "output_type": "execute_result",
          "data": {
            "text/plain": [
              "Pipeline(memory=None,\n",
              "         steps=[('simpleimputer',\n",
              "                 SimpleImputer(add_indicator=False, copy=True, fill_value=None,\n",
              "                               missing_values=nan, strategy='mean',\n",
              "                               verbose=0)),\n",
              "                ('standardscaler',\n",
              "                 StandardScaler(copy=True, with_mean=True, with_std=True))],\n",
              "         verbose=False)"
            ]
          },
          "metadata": {
            "tags": []
          },
          "execution_count": 28
        }
      ]
    },
    {
      "cell_type": "code",
      "metadata": {
        "id": "V8Ql43KEnUd5",
        "colab": {
          "base_uri": "https://localhost:8080/"
        },
        "outputId": "b9a8371c-39b4-4bc9-ef88-877347bf84ed"
      },
      "source": [
        "cat_tra = make_pipeline(cat_imputer, ohe)\n",
        "cat_tra"
      ],
      "execution_count": null,
      "outputs": [
        {
          "output_type": "execute_result",
          "data": {
            "text/plain": [
              "Pipeline(memory=None,\n",
              "         steps=[('simpleimputer',\n",
              "                 SimpleImputer(add_indicator=False, copy=True, fill_value=None,\n",
              "                               missing_values=nan, strategy='most_frequent',\n",
              "                               verbose=0)),\n",
              "                ('onehotencoder',\n",
              "                 OneHotEncoder(categories='auto', drop='first',\n",
              "                               dtype=<class 'numpy.float64'>,\n",
              "                               handle_unknown='error', sparse=False))],\n",
              "         verbose=False)"
            ]
          },
          "metadata": {
            "tags": []
          },
          "execution_count": 27
        }
      ]
    },
    {
      "cell_type": "markdown",
      "metadata": {
        "id": "rP6uWw1RmSF6"
      },
      "source": [
        "Ahora, vamos a querer aplicar estas transformaciones que hemos definido a nuestro conjunto de datos. \n",
        "\n",
        "En principio podríamos seleccionar las caracteristicas numéricas y categóricas y aplicar la transformación correspondiente a cada una de estas y al final combinar ambas características transformadas en un solo conjunto de datos. \n",
        "\n",
        "Sin embargo, este es el proceso que queremos evitar, recordemos que queremos tener todo el proceso automatizado, de manera que no nos tengamos que preocupar por este tipo de pasos. \n",
        "\n",
        "Lo que haremos, será utilizar un transformador de columnas `ColumnTransformer` (o `make_column_transformer`), de manera que construyamos un único objeto que realice estas tareas de preprocesamiento de una forma más simple y automática."
      ]
    },
    {
      "cell_type": "code",
      "metadata": {
        "id": "RbIVB4wup-J5",
        "colab": {
          "base_uri": "https://localhost:8080/"
        },
        "outputId": "1f6a5820-c509-4f4e-e808-1e9116162753"
      },
      "source": [
        "df.dtypes"
      ],
      "execution_count": null,
      "outputs": [
        {
          "output_type": "execute_result",
          "data": {
            "text/plain": [
              "MODELYEAR                     int64\n",
              "MAKE                         object\n",
              "MODEL                        object\n",
              "VEHICLECLASS                 object\n",
              "ENGINESIZE                  float64\n",
              "CYLINDERS                     int64\n",
              "TRANSMISSION                 object\n",
              "FUELTYPE                     object\n",
              "FUELCONSUMPTION_CITY        float64\n",
              "FUELCONSUMPTION_HWY         float64\n",
              "FUELCONSUMPTION_COMB        float64\n",
              "FUELCONSUMPTION_COMB_MPG      int64\n",
              "CO2EMISSIONS                  int64\n",
              "dtype: object"
            ]
          },
          "metadata": {
            "tags": []
          },
          "execution_count": 15
        }
      ]
    },
    {
      "cell_type": "code",
      "metadata": {
        "id": "b3R2R3yLbntJ"
      },
      "source": [
        "from sklearn.compose import make_column_transformer\n",
        "\n",
        "make_column_transformer?"
      ],
      "execution_count": null,
      "outputs": []
    },
    {
      "cell_type": "code",
      "metadata": {
        "colab": {
          "base_uri": "https://localhost:8080/"
        },
        "id": "RCTBDLLTiF-V",
        "outputId": "4f7f3c3f-3693-4e37-adb7-a55f8f24a1c2"
      },
      "source": [
        "df.MODEL.unique().shape"
      ],
      "execution_count": null,
      "outputs": [
        {
          "output_type": "execute_result",
          "data": {
            "text/plain": [
              "(663,)"
            ]
          },
          "metadata": {
            "tags": []
          },
          "execution_count": 24
        }
      ]
    },
    {
      "cell_type": "code",
      "metadata": {
        "id": "HLhoRtLcmMZK",
        "colab": {
          "base_uri": "https://localhost:8080/"
        },
        "outputId": "3e33ea8a-b21e-44b4-853f-ec2321b57bdb"
      },
      "source": [
        "num_cols = ['ENGINESIZE', 'FUELCONSUMPTION_HWY']\n",
        "cat_cols = ['MAKE', 'VEHICLECLASS', 'CYLINDERS', 'TRANSMISSION', 'FUELTYPE']\n",
        "\n",
        "preprocessor = make_column_transformer((num_tra, num_cols),\n",
        "                                       (cat_tra, cat_cols))\n",
        "\n",
        "preprocessor"
      ],
      "execution_count": null,
      "outputs": [
        {
          "output_type": "execute_result",
          "data": {
            "text/plain": [
              "ColumnTransformer(n_jobs=None, remainder='drop', sparse_threshold=0.3,\n",
              "                  transformer_weights=None,\n",
              "                  transformers=[('pipeline-1',\n",
              "                                 Pipeline(memory=None,\n",
              "                                          steps=[('simpleimputer',\n",
              "                                                  SimpleImputer(add_indicator=False,\n",
              "                                                                copy=True,\n",
              "                                                                fill_value=None,\n",
              "                                                                missing_values=nan,\n",
              "                                                                strategy='mean',\n",
              "                                                                verbose=0)),\n",
              "                                                 ('standardscaler',\n",
              "                                                  StandardScaler(copy=True,\n",
              "                                                                 with_mean=True,\n",
              "                                                                 with_std=True))],\n",
              "                                          ve...\n",
              "                                          steps=[('simpleimputer',\n",
              "                                                  SimpleImputer(add_indicator=False,\n",
              "                                                                copy=True,\n",
              "                                                                fill_value=None,\n",
              "                                                                missing_values=nan,\n",
              "                                                                strategy='most_frequent',\n",
              "                                                                verbose=0)),\n",
              "                                                 ('onehotencoder',\n",
              "                                                  OneHotEncoder(categories='auto',\n",
              "                                                                drop='first',\n",
              "                                                                dtype=<class 'numpy.float64'>,\n",
              "                                                                handle_unknown='error',\n",
              "                                                                sparse=False))],\n",
              "                                          verbose=False),\n",
              "                                 ['MAKE', 'VEHICLECLASS', 'CYLINDERS',\n",
              "                                  'TRANSMISSION', 'FUELTYPE'])],\n",
              "                  verbose=False)"
            ]
          },
          "metadata": {
            "tags": []
          },
          "execution_count": 30
        }
      ]
    },
    {
      "cell_type": "markdown",
      "metadata": {
        "id": "fLavWjY3ojcw"
      },
      "source": [
        "Ahora que tenemos el proceso de transformación de los datos en este objeto, nos resta añadir el paso de construcción del modelo de manera que tengamos todo el proceso en un solo objeto. Para esto, de nuevo, utilizaremos un Pipeline"
      ]
    },
    {
      "cell_type": "code",
      "metadata": {
        "id": "B9JDqzANml_g"
      },
      "source": [
        "from sklearn.linear_model import LinearRegression\n",
        "\n",
        "LR = LinearRegression()\n",
        "\n",
        "model = make_pipeline(preprocessor, LR)"
      ],
      "execution_count": null,
      "outputs": []
    },
    {
      "cell_type": "markdown",
      "metadata": {
        "id": "5K6k3ULKoqJo"
      },
      "source": [
        "Una vez tenemos todo el proceso en este único objeto, podemos entrenar el modelo"
      ]
    },
    {
      "cell_type": "code",
      "metadata": {
        "id": "FdgSS3L_otFH",
        "colab": {
          "base_uri": "https://localhost:8080/"
        },
        "outputId": "89ceed4c-12f4-489c-af35-db43c4593cf6"
      },
      "source": [
        "from sklearn.model_selection import train_test_split\n",
        "\n",
        "X_train, X_test, y_train, y_test = train_test_split(X, y, test_size=0.2, random_state=42)\n",
        "\n",
        "model.fit(X_train, y_train)"
      ],
      "execution_count": null,
      "outputs": [
        {
          "output_type": "execute_result",
          "data": {
            "text/plain": [
              "Pipeline(memory=None,\n",
              "         steps=[('columntransformer',\n",
              "                 ColumnTransformer(n_jobs=None, remainder='drop',\n",
              "                                   sparse_threshold=0.3,\n",
              "                                   transformer_weights=None,\n",
              "                                   transformers=[('pipeline-1',\n",
              "                                                  Pipeline(memory=None,\n",
              "                                                           steps=[('simpleimputer',\n",
              "                                                                   SimpleImputer(add_indicator=False,\n",
              "                                                                                 copy=True,\n",
              "                                                                                 fill_value=None,\n",
              "                                                                                 missing_values=nan,\n",
              "                                                                                 strategy='mean',\n",
              "                                                                                 verbose=0)),\n",
              "                                                                  ('standardscaler',\n",
              "                                                                   StandardSc...\n",
              "                                                                                 verbose=0)),\n",
              "                                                                  ('onehotencoder',\n",
              "                                                                   OneHotEncoder(categories='auto',\n",
              "                                                                                 drop='first',\n",
              "                                                                                 dtype=<class 'numpy.float64'>,\n",
              "                                                                                 handle_unknown='error',\n",
              "                                                                                 sparse=False))],\n",
              "                                                           verbose=False),\n",
              "                                                  ['MAKE', 'VEHICLECLASS',\n",
              "                                                   'CYLINDERS', 'TRANSMISSION',\n",
              "                                                   'FUELTYPE'])],\n",
              "                                   verbose=False)),\n",
              "                ('linearregression',\n",
              "                 LinearRegression(copy_X=True, fit_intercept=True, n_jobs=None,\n",
              "                                  normalize=False))],\n",
              "         verbose=False)"
            ]
          },
          "metadata": {
            "tags": []
          },
          "execution_count": 40
        }
      ]
    },
    {
      "cell_type": "markdown",
      "metadata": {
        "id": "zaHl5D-3rZQB"
      },
      "source": [
        "Evaluemos el modelo"
      ]
    },
    {
      "cell_type": "code",
      "metadata": {
        "id": "3hx8aOTpqkrm",
        "colab": {
          "base_uri": "https://localhost:8080/"
        },
        "outputId": "a1761490-1669-4f56-99b7-258605ffd726"
      },
      "source": [
        "model.score(X_test, y_test)"
      ],
      "execution_count": null,
      "outputs": [
        {
          "output_type": "execute_result",
          "data": {
            "text/plain": [
              "0.964833528968286"
            ]
          },
          "metadata": {
            "tags": []
          },
          "execution_count": 41
        }
      ]
    },
    {
      "cell_type": "code",
      "metadata": {
        "id": "dtKRc2_xdNN_",
        "colab": {
          "base_uri": "https://localhost:8080/"
        },
        "outputId": "fbb74084-3de5-40e9-a0ad-ac7b4fda32d7"
      },
      "source": [
        "model['linearregression'].coef_"
      ],
      "execution_count": null,
      "outputs": [
        {
          "output_type": "execute_result",
          "data": {
            "text/plain": [
              "array([[ 8.00386180e+00,  6.32816185e+01,  1.06109588e+01,\n",
              "         7.13851754e+00,  2.47077468e+01,  3.76047155e+00,\n",
              "         9.91650155e+00,  6.41821635e+00,  3.69725717e+00,\n",
              "         1.36171286e+01,  8.72992101e+00, -1.54612339e+00,\n",
              "         4.28919751e+00,  4.01373196e+00, -3.14654771e+00,\n",
              "        -3.43240409e+00,  6.19722440e+00,  7.63940157e+00,\n",
              "        -1.50634612e+00,  7.29577821e-01,  5.02831814e+01,\n",
              "         2.78432335e+00, -6.34899621e+00, -2.05168637e+00,\n",
              "         2.54065002e+01, -6.88608817e+00,  5.20704093e+00,\n",
              "        -6.64347012e+00,  1.63061971e+01,  3.54902718e+00,\n",
              "        -1.34460767e+00,  1.26512831e+01,  1.65906652e+01,\n",
              "         1.11531185e+00,  6.79678720e+13, -1.02143306e+01,\n",
              "         5.40007037e+00, -6.70121608e+00,  1.12639670e-01,\n",
              "         7.73834116e-01,  1.57963235e+00, -1.73045432e+00,\n",
              "        -5.54981491e+00, -9.52027802e-01, -1.54183119e+00,\n",
              "        -9.99872351e+00, -8.81385105e-01, -3.24708050e+00,\n",
              "        -3.09012635e+00, -2.43427731e+00, -2.39140523e+00,\n",
              "        -3.17068362e+00, -4.19021116e-01, -9.09994780e+00,\n",
              "        -2.05644393e+00,  2.10912771e+01,  2.52481660e+01,\n",
              "         2.75952165e+01,  3.08354693e+01,  5.00161795e+01,\n",
              "         3.40621526e+01,  1.52361655e+01,  1.57024361e+01,\n",
              "         1.57300690e+01,  1.64235528e+01,  1.78735205e+01,\n",
              "        -6.79678720e+13,  1.15705847e+01,  1.75870916e+01,\n",
              "         9.55775418e+00,  1.30745863e+01,  1.59040014e+01,\n",
              "         5.72033430e+00,  1.65189921e+01,  2.17823520e+01,\n",
              "        -2.63168579e+00, -1.82729476e+01,  8.96440940e+00,\n",
              "        -1.41858692e+01,  9.98122153e+00,  1.54814184e+01,\n",
              "         1.80719657e+01, -1.35195078e+02, -2.83001166e+01,\n",
              "        -2.81018162e+01]])"
            ]
          },
          "metadata": {
            "tags": []
          },
          "execution_count": 43
        }
      ]
    },
    {
      "cell_type": "code",
      "metadata": {
        "id": "CQusunhdo4OP",
        "colab": {
          "base_uri": "https://localhost:8080/"
        },
        "outputId": "cc77efda-342e-4c89-bdb4-00f4c219f9a8"
      },
      "source": [
        "model['linearregression'].intercept_"
      ],
      "execution_count": null,
      "outputs": [
        {
          "output_type": "execute_result",
          "data": {
            "text/plain": [
              "array([254.19631404])"
            ]
          },
          "metadata": {
            "tags": []
          },
          "execution_count": 44
        }
      ]
    },
    {
      "cell_type": "markdown",
      "metadata": {
        "id": "fUP5wlxHr4eO"
      },
      "source": [
        "<p><a name=\"val\"></a></p>\n",
        "\n",
        "# **Validación cruzada**\n",
        "\n",
        "Hasta el momento lo que hemos hecho para la evaluación de los modelos supervisados es lo siguiente:\n",
        "\n",
        "* Separar nuestro conjunto de datos en conjuntos de entrenamiento y prueba usando el método `train_test_split`.\n",
        "* Entrenar un modelo a partir de los datos de entrenamiento mediante el método `fit`. \n",
        "* Evaluar con los datos de prueba usando el método `score`:\n",
        "\n",
        "Recuerdomes que la razón por la que dividimos nuestros datos en los conjuntos de entrenamiento y prueba, es que estamos interesados en medir qué tan bien nuestro modelo se generaliza a nuevos datos. Es decir, no nos interesa saber qué tan bien se ajusta nuestro modelo a los datos de entrenamiento, sino más bien qué tan bien puede hacer predicciones para datos que no se observaron durante el proceso de entrenamiento.\n",
        "\n",
        "Esta estrategia que hemos utilizado para la separación de los datos se conoce como *hold-out set*\n"
      ]
    },
    {
      "cell_type": "markdown",
      "metadata": {
        "id": "dqt_wUZZu2bj"
      },
      "source": [
        "![picture](https://www.researchgate.net/profile/Brian_Mwandau/publication/325870973/figure/fig6/AS:639531594285060@1529487622235/Train-Test-Data-Split.png)"
      ]
    },
    {
      "cell_type": "markdown",
      "metadata": {
        "id": "RpaAmkFzvCI_"
      },
      "source": [
        "Una desventaja de utilizar esta estrategia es que perdemos una porcion de nuestros datos para el entrenamiento del modelo. Esta no es la estrategia más óptima, y puede ademas causar problemas, especialmente si el conjunto de entrenamiento es pequeño.\n",
        "\n",
        "Una forma de resolver este problema es usando lo que se conoce como *validación cruzada* (VC)\n",
        "\n",
        "**K-fold Cross-validation**\n",
        "\n",
        "La VC es un método estadístico para evaluar el rendimiento de generalización de un modelo, que es más estable y completo.\n",
        "\n",
        "En la VC, se realiza una serie de ajustes donde cada subconjunto de los datos se utiliza tanto para el entrenamiento como para la prueba.\n",
        "\n",
        "La versión más utilizada de la validación cruzada es la validación cruzada k-fold.\n",
        "\n",
        "Por ejemplo, cuando utilizamos una VC de 5 folds, los datos se dividen en cinco partes de aproximadamente el mismo tamaño llamados folds, con los que se procede a entrenar una secuencia de modelos.\n",
        "\n"
      ]
    },
    {
      "cell_type": "markdown",
      "metadata": {
        "id": "L1wmSmfdvsZG"
      },
      "source": [
        "\n",
        "\n",
        "![picture](https://www.mathworks.com/matlabcentral/mlc-downloads/downloads/233459a6-523d-4cf7-91f3-ff539a1b58ce/f6c9980c-ed0d-4564-8289-e95c9274b48e/images/screenshot.png)\n",
        "\n"
      ]
    },
    {
      "cell_type": "markdown",
      "metadata": {
        "id": "d_LCep4qwLds"
      },
      "source": [
        "Al final, habremos obtenido cinco puntajes de validación para nuestro modelo Entonces, cuando utilizamos VC, cada instancia del conjunto de datos estará en el conjunto de entrenamiento exactamente una vez.\n",
        "\n",
        "Es importante tener en cuenta que la validación cruzada no es una forma de construir un modelo que pueda aplicarse a nuevos datos. La validación cruzada no devuelve un modelo sino que crea múltiples modelos internamente con el propósito de evaluar qué tan bien se generalizará un modelo dado cuando se entrene en un conjunto de datos específico.\n",
        "\n",
        "Veamos este proceso explícitamente con 2 folds:\n"
      ]
    },
    {
      "cell_type": "code",
      "metadata": {
        "id": "PXetoQh2eKkd",
        "colab": {
          "base_uri": "https://localhost:8080/"
        },
        "outputId": "d54a8176-29d6-4a15-8d7c-726b3abb57a8"
      },
      "source": [
        "X = df[[\"ENGINESIZE\",\"FUELCONSUMPTION_HWY\"]]\n",
        "\n",
        "X1, X2, y1, y2 = train_test_split(X, y, test_size = 0.2, random_state=42)\n",
        "LR.fit(X1, y1).score(X2, y2)"
      ],
      "execution_count": null,
      "outputs": [
        {
          "output_type": "execute_result",
          "data": {
            "text/plain": [
              "0.8527031036959104"
            ]
          },
          "metadata": {
            "tags": []
          },
          "execution_count": 45
        }
      ]
    },
    {
      "cell_type": "code",
      "metadata": {
        "id": "_XUyCjKmxB7h",
        "colab": {
          "base_uri": "https://localhost:8080/"
        },
        "outputId": "b1e5284b-2520-41e9-a0aa-168fea1c1bc0"
      },
      "source": [
        "LR.fit(X2, y2).score(X1, y1)"
      ],
      "execution_count": null,
      "outputs": [
        {
          "output_type": "execute_result",
          "data": {
            "text/plain": [
              "0.8445456192040237"
            ]
          },
          "metadata": {
            "tags": []
          },
          "execution_count": 46
        }
      ]
    },
    {
      "cell_type": "markdown",
      "metadata": {
        "id": "OFda0kzYxzGc"
      },
      "source": [
        "La VC la podemos implementar directamente desde Sklearn con la clase `cross_val_score`:"
      ]
    },
    {
      "cell_type": "code",
      "metadata": {
        "id": "a3ze4jtvxtB7",
        "colab": {
          "base_uri": "https://localhost:8080/"
        },
        "outputId": "bf419a69-f6b3-4319-f1e4-725c0dce8583"
      },
      "source": [
        "from sklearn.model_selection import cross_val_score\n",
        "\n",
        "cross_val_score(LR, X, y , cv = 2)"
      ],
      "execution_count": null,
      "outputs": [
        {
          "output_type": "execute_result",
          "data": {
            "text/plain": [
              "array([0.74324557, 0.85438328])"
            ]
          },
          "metadata": {
            "tags": []
          },
          "execution_count": 48
        }
      ]
    },
    {
      "cell_type": "markdown",
      "metadata": {
        "id": "WRHCgMva3GzF"
      },
      "source": [
        "Note que obtenemos un resultado diferente al caso anterior. \n",
        "\n",
        "Hagamos una validación con 5 folds:"
      ]
    },
    {
      "cell_type": "code",
      "metadata": {
        "id": "AkVVyciS0LDw",
        "colab": {
          "base_uri": "https://localhost:8080/"
        },
        "outputId": "66c65778-9b50-4f0d-aefa-814a7a63e923"
      },
      "source": [
        "cross_val_score(LR, X, y , cv = 5)"
      ],
      "execution_count": null,
      "outputs": [
        {
          "output_type": "execute_result",
          "data": {
            "text/plain": [
              "array([0.81797747, 0.78081013, 0.80503005, 0.86130142, 0.883641  ])"
            ]
          },
          "metadata": {
            "tags": []
          },
          "execution_count": 49
        }
      ]
    },
    {
      "cell_type": "markdown",
      "metadata": {
        "id": "Z9RhbHGu2sJ3"
      },
      "source": [
        "Si observamos los cinco puntajes producidos por la validación cruzada, podemos concluir que existe una variación relativamente alta en la precisión entre los folds. Esto podría implicar que el modelo depende mucho de los folds particulares utilizados para el entrenamiento, pero también podría ser una consecuencia del pequeño tamaño del conjunto de datos.\n",
        "\n",
        "Para definir explícitamente la forma en que separaremos los datos, podemos utilizar la clase `KFold`"
      ]
    },
    {
      "cell_type": "code",
      "metadata": {
        "id": "4MYcgRon0s5L",
        "colab": {
          "base_uri": "https://localhost:8080/"
        },
        "outputId": "b7ccec34-c4d8-4b3f-88b5-233eb9c92c93"
      },
      "source": [
        "from sklearn.model_selection import KFold\n",
        "\n",
        "vc = KFold(n_splits= 2, shuffle= True,  random_state=42)\n",
        "\n",
        "cross_val_score(LR, X, y , cv = vc)"
      ],
      "execution_count": null,
      "outputs": [
        {
          "output_type": "execute_result",
          "data": {
            "text/plain": [
              "array([0.84473913, 0.8483265 ])"
            ]
          },
          "metadata": {
            "tags": []
          },
          "execution_count": 51
        }
      ]
    },
    {
      "cell_type": "markdown",
      "metadata": {
        "id": "JgNZUSGY4i0x"
      },
      "source": [
        "En resumen\n",
        "\n",
        "* Con VC, utilizamos todos los datos para el entrenamiento, y no solo una porción de estos. cada instancia estará un uno de los folds, y cada fold a su vez será un conjunto de prueba una vez, por lo que estaremos usando nuestros datos de manera más efectiva. Así, el modelo necesita generalizar bien para todas las muestras del conjunto de datos de manera que todos los puntajes de validacion sean altos.\n",
        "\n",
        "* Tener múltiples divisiones de los datos también nos proporciona información sobre cuán sensible es nuestro modelo a la selección del conjunto de datos de entrenamiento. En el ejemplo que hicimos, vimos precisiones entre 76% y 90%. Este es un rango bastante amplio y nos proporciona una idea sobre cómo podría funcionar el modelo en el peor de los casos y en el mejor de los casos cuando se aplica a nuevos datos.\n",
        "\n",
        "* La principal desventaja de la validación cruzada es el aumento del costo computacional. Como ahora estamos entrenando k modelos en lugar de un solo modelo, la validación cruzada será aproximadamente k veces más lenta que hacer una sola división de los datos."
      ]
    },
    {
      "cell_type": "markdown",
      "metadata": {
        "id": "7qDIWnWV9iEI"
      },
      "source": [
        "Ya hemos visto la receta básica para aplicar un modelo de ML supervisado:\n",
        "\n",
        "* Escoger un tipo de modelo\n",
        "* Escoger unos hiperparámetros\n",
        "* Entrenar el modelo con unos datos de entrenamiento\n",
        "* Utilizar el modelo para obtener predicciones\n",
        "\n",
        "Surge una pregunta clave: ¿Si nuestro estimador tiene bajo rendimiento, qué deberíamos hacer? \n",
        "\n",
        "* Usar un modelo más complejo/flexible\n",
        "* Usar un modelo menos complejo/flexible\n",
        "* Conseguir más datos de entrenamiento"
      ]
    },
    {
      "cell_type": "markdown",
      "metadata": {
        "id": "IEMMqL_q5ptm"
      },
      "source": [
        "# **Regresión polinomial**\n",
        "\n",
        "<p><a name=\"pol\"></a></p>\n",
        "\n",
        "¿Qué pasa si nuestros datos tienen una relación no lineal?"
      ]
    },
    {
      "cell_type": "code",
      "metadata": {
        "id": "FwcNlPBI4dZH",
        "colab": {
          "base_uri": "https://localhost:8080/",
          "height": 377
        },
        "outputId": "fc15d2ea-46d9-4afd-e01e-149d108316b0"
      },
      "source": [
        "X = np.random.rand(100, 1) ** 2\n",
        "y = 10 - 1. / (X.ravel() + 0.1)\n",
        "\n",
        "plt.figure(figsize=(8,6))\n",
        "plt.scatter(X, y);"
      ],
      "execution_count": null,
      "outputs": [
        {
          "output_type": "display_data",
          "data": {
            "image/png": "[encoded data removed]",
            "text/plain": [
              "<Figure size 576x432 with 1 Axes>"
            ]
          },
          "metadata": {
            "tags": [],
            "needs_background": "light"
          }
        }
      ]
    },
    {
      "cell_type": "markdown",
      "metadata": {
        "id": "RR55nvafB3og"
      },
      "source": [
        "Un modelo lineal simple utiliza una combinación lineal de las características de entrada para predecir  una salida\n",
        "\n",
        "$$\\hat y = w_0 + w_1 x_1 + \\cdots + w_n x_n$$\n",
        "\n",
        "\n",
        "\n",
        "\n",
        "\n",
        "\n"
      ]
    },
    {
      "cell_type": "code",
      "metadata": {
        "id": "t_F0s8v8_ZdQ",
        "colab": {
          "base_uri": "https://localhost:8080/"
        },
        "outputId": "92502466-e04f-4a8d-db05-d1c2adb6bcb0"
      },
      "source": [
        "X_train, X_test, y_train, y_test = train_test_split(X, y, test_size=0.2, random_state=42)\n",
        "\n",
        "LR = LinearRegression().fit(X_train, y_train)\n",
        "LR.score(X_test, y_test)"
      ],
      "execution_count": null,
      "outputs": [
        {
          "output_type": "execute_result",
          "data": {
            "text/plain": [
              "0.6915351253315221"
            ]
          },
          "metadata": {
            "tags": []
          },
          "execution_count": 54
        }
      ]
    },
    {
      "cell_type": "markdown",
      "metadata": {
        "id": "Ug4eQSLPFjlI"
      },
      "source": [
        "Una forma fácil de extender el modelo lineal es incluir combinaciones de pares de características de entrada:\n",
        "\n",
        "$$\\hat y = w_0 + w_1 x_1 + \\cdots w_n x_n + w_{11}x_1 x_1 + w_{12} x_1 x_2 + \\cdots$$\n",
        "\n",
        "Esto nos permite capturar interacciones entre características y, por lo tanto, estos pares se denominan *características de interacción*. Si la transformación es de la forma $f_n(x) = x^n$ obtenemos lo que se conoce como una **regresión polinomial**. En nuestro caso, tendríamos:\n",
        "\n",
        "$$\\hat y = w_0 + w_1 x_1 + w_2 x_1^2$$\n",
        "\n",
        "$$\\hat y = w_0 + w_1 x_1 + w_2 x_2$$\n",
        "\n",
        "De esta manera podemos adaptar la regresión lineal a relaciones no lineales entre las variables. Observe que este sigue siendo un modelo lineal: la linealidad se refiere al hecho de que los coeficientes nunca se multiplican ni se dividen entre sí. \n",
        "\n",
        "Lo que hemos hecho efectivamente es tomar nuestros valores de $X$ unidimensionales y proyectarlos en una dimensión superior, de modo que un ajuste lineal pueda encajar relaciones más complicadas entre $X$ y $y$.\n",
        "\n",
        "Podemos implementar la regresión polinomica utilizando el transformador `PolynomialFeatures` de Sklearn:"
      ]
    },
    {
      "cell_type": "code",
      "metadata": {
        "id": "1g0pAUsAGXAP",
        "colab": {
          "base_uri": "https://localhost:8080/"
        },
        "outputId": "76e7111b-22bd-4ee3-c7b5-506912d36c98"
      },
      "source": [
        "from sklearn.preprocessing import PolynomialFeatures\n",
        "\n",
        "poly = PolynomialFeatures(degree= 2, include_bias=False)\n",
        "\n",
        "X_train_pol = poly.fit_transform(X_train)\n",
        "X_test_pol = poly.fit_transform(X_test)\n",
        "\n",
        "X_train_pol[:5]"
      ],
      "execution_count": null,
      "outputs": [
        {
          "output_type": "execute_result",
          "data": {
            "text/plain": [
              "array([[1.44082813e-02, 2.07598569e-04],\n",
              "       [1.60442938e-01, 2.57419364e-02],\n",
              "       [5.39136163e-01, 2.90667802e-01],\n",
              "       [1.56553731e-01, 2.45090707e-02],\n",
              "       [7.05667633e-01, 4.97966808e-01]])"
            ]
          },
          "metadata": {
            "tags": []
          },
          "execution_count": 66
        }
      ]
    },
    {
      "cell_type": "code",
      "metadata": {
        "id": "3fBlMR88GshL",
        "colab": {
          "base_uri": "https://localhost:8080/"
        },
        "outputId": "1abf69fe-02d0-4cee-fe00-22ca92777a6e"
      },
      "source": [
        "LR = LinearRegression().fit(X_train_pol, y_train)\n",
        "LR.score(X_test_pol, y_test)"
      ],
      "execution_count": null,
      "outputs": [
        {
          "output_type": "execute_result",
          "data": {
            "text/plain": [
              "0.8990489402003996"
            ]
          },
          "metadata": {
            "tags": []
          },
          "execution_count": 67
        }
      ]
    },
    {
      "cell_type": "markdown",
      "metadata": {
        "id": "VmAeXkGpL46N"
      },
      "source": [
        "**Ejercicio:** Escriba una función que tome como argumento el grado del polinomio y que construya un Pipeline que encadene la transformación polinomial de las características y la construcción de un modelo de regresión lineal."
      ]
    },
    {
      "cell_type": "code",
      "metadata": {
        "id": "wifqIUjQK7Fz"
      },
      "source": [
        "def PolyReg(grado = 2):\n",
        "  return make_pipeline(PolynomialFeatures(degree = grado),\n",
        "                       LinearRegression())"
      ],
      "execution_count": null,
      "outputs": []
    },
    {
      "cell_type": "code",
      "metadata": {
        "id": "qLi_nO7ZL-dL"
      },
      "source": [
        "p = PolyReg().fit(X_train, y_train)"
      ],
      "execution_count": null,
      "outputs": []
    },
    {
      "cell_type": "code",
      "metadata": {
        "id": "3OH9W1sIt0n-",
        "colab": {
          "base_uri": "https://localhost:8080/"
        },
        "outputId": "5bcc7573-0849-4d0d-e009-f95fa62e81ff"
      },
      "source": [
        "PolyReg().fit(X_train, y_train)"
      ],
      "execution_count": null,
      "outputs": [
        {
          "output_type": "execute_result",
          "data": {
            "text/plain": [
              "Pipeline(memory=None,\n",
              "         steps=[('polynomialfeatures',\n",
              "                 PolynomialFeatures(degree=2, include_bias=True,\n",
              "                                    interaction_only=False, order='C')),\n",
              "                ('linearregression',\n",
              "                 LinearRegression(copy_X=True, fit_intercept=True, n_jobs=None,\n",
              "                                  normalize=False))],\n",
              "         verbose=False)"
            ]
          },
          "metadata": {
            "tags": []
          },
          "execution_count": 69
        }
      ]
    },
    {
      "cell_type": "code",
      "metadata": {
        "id": "zx7HEBHwuYHD",
        "colab": {
          "base_uri": "https://localhost:8080/"
        },
        "outputId": "68bc91d6-404f-4f20-ad52-8b50737189a7"
      },
      "source": [
        "p.score(X_test, y_test)"
      ],
      "execution_count": null,
      "outputs": [
        {
          "output_type": "execute_result",
          "data": {
            "text/plain": [
              "0.8990489402003996"
            ]
          },
          "metadata": {
            "tags": []
          },
          "execution_count": 70
        }
      ]
    },
    {
      "cell_type": "code",
      "metadata": {
        "id": "Khvm2aRmvLQt"
      },
      "source": [
        ""
      ],
      "execution_count": null,
      "outputs": []
    }
  ]
}