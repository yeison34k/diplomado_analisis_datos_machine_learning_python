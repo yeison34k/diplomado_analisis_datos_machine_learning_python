{
  "nbformat": 4,
  "nbformat_minor": 0,
  "metadata": {
    "colab": {
      "name": "Notebook03-1.ipynb",
      "provenance": [],
      "collapsed_sections": [],
      "include_colab_link": true
    },
    "kernelspec": {
      "name": "python3",
      "display_name": "Python 3"
    }
  },
  "cells": [
    {
      "cell_type": "markdown",
      "metadata": {
        "id": "view-in-github",
        "colab_type": "text"
      },
      "source": [
        "<a href=\"https://colab.research.google.com/github/yeison34k/diplomado_analisis_datos_machine_learning_python/blob/main/Notebook03_1.ipynb\" target=\"_parent\"><img src=\"https://colab.research.google.com/assets/colab-badge.svg\" alt=\"Open In Colab\"/></a>"
      ]
    },
    {
      "cell_type": "markdown",
      "metadata": {
        "id": "n_x1aqGyE3NV"
      },
      "source": [
        "<p><img alt=\"Colaboratory logo\" height=\"140px\" src=\"https://upload.wikimedia.org/wikipedia/commons/archive/f/fb/20161010213812%21Escudo-UdeA.svg\" align=\"left\" hspace=\"10px\" vspace=\"0px\"></p>\n",
        "\n",
        "# **Diplomado de Análisis de datos y Machine Learning en Python**\n",
        "\n",
        "\n",
        "El presente diplomado hace parte del centro de Big Data de la facultad de ciencias exactas y naturales (FCEN) de la Universidad de Antioquia.\n",
        "\n",
        "## **Sesión 5**\n",
        "\n",
        "## **Contenido**\n",
        "  \n",
        "- <a href=\"#fun\"> Funciones</a><br>\n",
        "- <a href=\"#arg\"> Argumentos de la función</a><br>\n",
        "  - <a href=\"#req\"> Argumentos requeridos</a><br>\n",
        "  - <a href=\"#pre\"> Argumentos predeterminados</a><br>\n",
        "  - <a href=\"#lon\"> Argumentos de longitud variable</a><br>\n",
        "- <a href=\"#lam\"> Funciones anónimas</a><br>\n",
        "\n",
        "\n",
        "\n",
        "\n"
      ]
    },
    {
      "cell_type": "markdown",
      "metadata": {
        "id": "76BDLG7hE5sW"
      },
      "source": [
        "<p><a name=\"fun\"></a></p>\n",
        "\n",
        "# **Funciones**\n",
        "\n",
        "Hasta ahora, nuestros programas han sido bloques de código simples y de un solo uso. Una forma de organizar nuestro código de Python y hacerlo más legible y reutilizable es descomponer piezas útiles en funciones reutilizables. Ya hemos visto funciones antes. Por ejemplo, `print()` es una función:"
      ]
    },
    {
      "cell_type": "code",
      "metadata": {
        "id": "YcVlO57REma2",
        "colab": {
          "base_uri": "https://localhost:8080/"
        },
        "outputId": "9be6b8ec-5157-4057-fb4e-b5a5756b75a8"
      },
      "source": [
        "print(\"abc\")"
      ],
      "execution_count": null,
      "outputs": [
        {
          "output_type": "stream",
          "text": [
            "abc\n"
          ],
          "name": "stdout"
        }
      ]
    },
    {
      "cell_type": "markdown",
      "metadata": {
        "id": "D4vRwfbSLA5O"
      },
      "source": [
        "aquí `print` es el nombre de la función, y `\"abc\"` es el *argumento* de la función. Adicionalmente, existen los *argumentos por palabra clave* (keyword arguments o kwargs) que se especifican por el nombre. Por ejemplo, un kwarg disponible para la función `print` es `end` que controla qué caracter añadir al final del último valor "
      ]
    },
    {
      "cell_type": "code",
      "metadata": {
        "id": "vEhd-2aCK_aC",
        "colab": {
          "base_uri": "https://localhost:8080/"
        },
        "outputId": "cb6cf97c-b29b-4f94-ab11-c3bd555bd7de"
      },
      "source": [
        "print(1, 2, 3, end = 'fin')"
      ],
      "execution_count": null,
      "outputs": [
        {
          "output_type": "stream",
          "text": [
            "1 2 3fin"
          ],
          "name": "stdout"
        }
      ]
    },
    {
      "cell_type": "markdown",
      "metadata": {
        "id": "_PncQbyBLE2Q"
      },
      "source": [
        "o el kwarg `sep`, que controla qué caracter utilizar para separar los diferentes valores"
      ]
    },
    {
      "cell_type": "code",
      "metadata": {
        "id": "-V_sd1LnLFL7",
        "colab": {
          "base_uri": "https://localhost:8080/"
        },
        "outputId": "d7bcd722-2252-46a7-92b6-0178851d229f"
      },
      "source": [
        "print(1, 2, 3, sep = '-')"
      ],
      "execution_count": null,
      "outputs": [
        {
          "output_type": "stream",
          "text": [
            "1-2-3\n"
          ],
          "name": "stdout"
        }
      ]
    },
    {
      "cell_type": "code",
      "metadata": {
        "colab": {
          "base_uri": "https://localhost:8080/"
        },
        "id": "Toee8yqcPQ4O",
        "outputId": "5d7319ab-d63b-45fb-bead-358e331cb1cd"
      },
      "source": [
        "print(1, 2, 3,end = '.', sep = '-')"
      ],
      "execution_count": null,
      "outputs": [
        {
          "output_type": "stream",
          "text": [
            "1-2-3."
          ],
          "name": "stdout"
        }
      ]
    },
    {
      "cell_type": "markdown",
      "metadata": {
        "id": "DwORKluJLMop"
      },
      "source": [
        "Las funciones se vuelven aún más útiles cuando comenzamos a definir las nuestras. La sintáxis general para crear una función es la siguiente\n",
        "\n",
        ">  \n",
        "\n",
        "    def funcion( argumentos ):\n",
        "\n",
        "      sentencia(s) \n",
        "            \n",
        "      return expresion\n",
        "    \n",
        "     \n",
        "* Los bloques de funciones comienzan con la palabra clave `def` seguida del nombre de la función y paréntesis ().\n",
        "* Cualquier parámetro o argumento de entrada debe colocarse entre los paréntesis.\n",
        "* El bloque de código dentro de cada función comienza con dos puntos (:) y está indentado.\n",
        "* La declaración final `return expresion` es opcional. Al incluirla, una vez se llame la función, esta tomará el valor definido en `expresion`.\n",
        "\n",
        "Por ejemplo, podemos definir la función $f(x)=x^2$ en Python como:"
      ]
    },
    {
      "cell_type": "code",
      "metadata": {
        "id": "pxojrLEtLHDd"
      },
      "source": [
        "def elevar_cuadrado(x):\n",
        "  \n",
        "  f = x ** 2\n",
        "\n",
        "  return f\n",
        "\n"
      ],
      "execution_count": null,
      "outputs": []
    },
    {
      "cell_type": "markdown",
      "metadata": {
        "id": "0xz8apSyLY73"
      },
      "source": [
        "y la podemos llamar de la siguiente manera"
      ]
    },
    {
      "cell_type": "code",
      "metadata": {
        "id": "AhRSQY6mHcJl",
        "colab": {
          "base_uri": "https://localhost:8080/"
        },
        "outputId": "4d09bef7-aaee-413c-e17a-b191b8d7c477"
      },
      "source": [
        "elevar_cuadrado(3)"
      ],
      "execution_count": null,
      "outputs": [
        {
          "output_type": "execute_result",
          "data": {
            "text/plain": [
              "9"
            ]
          },
          "metadata": {
            "tags": []
          },
          "execution_count": 6
        }
      ]
    },
    {
      "cell_type": "code",
      "metadata": {
        "colab": {
          "base_uri": "https://localhost:8080/"
        },
        "id": "yPYn67GiQStP",
        "outputId": "1448c450-afa7-4963-ac76-e585ccfb403b"
      },
      "source": [
        "elevar_cuadrado(4)"
      ],
      "execution_count": null,
      "outputs": [
        {
          "output_type": "execute_result",
          "data": {
            "text/plain": [
              "16"
            ]
          },
          "metadata": {
            "tags": []
          },
          "execution_count": 8
        }
      ]
    },
    {
      "cell_type": "code",
      "metadata": {
        "id": "GdB4WLfXLXoN"
      },
      "source": [
        "def sumar_3(f,x):\n",
        "\n",
        "  g = 3 * f(x)\n",
        "\n",
        "  return g"
      ],
      "execution_count": null,
      "outputs": []
    },
    {
      "cell_type": "code",
      "metadata": {
        "id": "ecQf8wwqHaS5",
        "colab": {
          "base_uri": "https://localhost:8080/"
        },
        "outputId": "d8151c6b-3c4a-4e93-d99c-28dc7825c67c"
      },
      "source": [
        "sumar_3(elevar_cuadrado, 4)"
      ],
      "execution_count": null,
      "outputs": [
        {
          "output_type": "execute_result",
          "data": {
            "text/plain": [
              "48"
            ]
          },
          "metadata": {
            "tags": []
          },
          "execution_count": 12
        }
      ]
    },
    {
      "cell_type": "code",
      "metadata": {
        "id": "4JgXGhnGGrps",
        "colab": {
          "base_uri": "https://localhost:8080/"
        },
        "outputId": "8455c83e-c608-45fa-8877-d5f01730c988"
      },
      "source": [
        "type(elevar_cuadrado(2))"
      ],
      "execution_count": null,
      "outputs": [
        {
          "output_type": "execute_result",
          "data": {
            "text/plain": [
              "int"
            ]
          },
          "metadata": {
            "tags": []
          },
          "execution_count": 13
        }
      ]
    },
    {
      "cell_type": "code",
      "metadata": {
        "colab": {
          "base_uri": "https://localhost:8080/"
        },
        "id": "zn_y6FXuQ-iR",
        "outputId": "46cdc200-02a5-4f01-dd52-7edc19fa1000"
      },
      "source": [
        "type(elevar_cuadrado)"
      ],
      "execution_count": null,
      "outputs": [
        {
          "output_type": "execute_result",
          "data": {
            "text/plain": [
              "function"
            ]
          },
          "metadata": {
            "tags": []
          },
          "execution_count": 14
        }
      ]
    },
    {
      "cell_type": "markdown",
      "metadata": {
        "id": "yXi0a3qkLdMe"
      },
      "source": [
        "La posibilidad de definir nuestras propias funciones nos ayudará de diversas maneras:\n",
        "\n",
        "* Cuando estemos escribiendo un programa y veamos que estamos escribiendo el mismo código más de una vez, probablemente sea mejor definir una función con el código repetido. Luego podremos llamar a la función tantas veces como sea necesario en lugar de reescribir el código una y otra vez. Es importante que evitemos escribir el mismo código más de una vez en nuestros programas.\n",
        "\n",
        "* Si escribimos el mismo código más de una vez y cometemos un error, debemos corregir ese error en cada lugar donde copiamos el código. Si por el contrario, tenemos el código en un solo lugar, definido en una función, podremos resolver el error solo en este lugar y olvidarnos del resto de lugares. \n",
        "\n",
        "* Si cometemos un error al escribir una función, y luego corregimos el código en la función, habremos corregido automáticamente el código en cada lugar que utiliza la función. Este principio de programación modular es un concepto muy importante.\n",
        "\n",
        "* Las funciones también ayudan a que nuestro código sea más fácil de leer. Cuando usamos buenos nombres para las variables y funciones en nuestros programas, podemos leer el código y comprender lo que hemos escrito, no solo mientras lo escribimos, sino tiempo después, cuando necesitemos mirar el código que escribimos nuevamente. \n",
        "\n",
        "Las funciones son pues una forma de organizar nuestro código y hacerlo más legible y reutilizable. Cuando escribamos una función debemos tener presentes los siguientes puntos:\n",
        "\n",
        " * ¿Cómo deberíamos llamar nuestra función? Deberíamos darle un nombre que tenga sentido y describa lo que hace la función. Como una función hace algo, el nombre de una función suele ser un verbo o una descripción de lo que devuelve la función. Puede ser una palabra o varias palabras.\n",
        " * ¿Qué debemos pasarle a nuestra función? En otras palabras, ¿qué argumentos pasaremos a la función? Al pensar en argumentos para pasarle a una función, debemos pensar cómo se usará la función y qué argumentos la harían más útil.\n",
        " * ¿Qué debe hacer la función? ¿Cual es su propósito? La función debe tener un propósito claramente definido. ¿Debería devolver un valor particular o debería realizar alguna tarea secundaria?\n",
        " * Finalmente, ¿qué debe devolver nuestra función? Se debe considerar el tipo y el valor a devolver. Si la función va a devolver un valor, debebemos decidir qué tipo de valor deberá devolver.\n",
        " \n",
        "Al considerar estas preguntas y responderlas, podemos asegurarnos de que nuestras funciones tengan sentido antes de escribirlas.\n",
        "\n",
        "$$ax^2+bx+c$$\n",
        "\n",
        "$$x = \\frac{-b\\pm\\sqrt{b^2-4ac}}{2a}$$\n",
        "\n",
        "$$(x+3)(x+4) = 0$$"
      ]
    },
    {
      "cell_type": "code",
      "metadata": {
        "colab": {
          "base_uri": "https://localhost:8080/"
        },
        "id": "ITpwZjUwSSO1",
        "outputId": "8075b242-f750-403d-c0f0-c68fd91e333a"
      },
      "source": [
        "x1 = 5\n",
        "x2 = 16\n",
        "\n",
        "def raiz_poly_2(a,b,c):\n",
        "\n",
        "  x1 = (-b + (b ** 2 - 4 * a * c) ** 0.5) / (2 * a)\n",
        "  x2 = (-b - (b ** 2 - 4 * a * c) ** 0.5) / (2 * a)\n",
        "\n",
        "  return x1, x2\n",
        "\n",
        "raiz_poly_2(1, 7, 12)"
      ],
      "execution_count": null,
      "outputs": [
        {
          "output_type": "execute_result",
          "data": {
            "text/plain": [
              "(-3.0, -4.0)"
            ]
          },
          "metadata": {
            "tags": []
          },
          "execution_count": 17
        }
      ]
    },
    {
      "cell_type": "code",
      "metadata": {
        "colab": {
          "base_uri": "https://localhost:8080/"
        },
        "id": "ENyLww8hVbij",
        "outputId": "2c1b2756-283e-4de8-f89b-aaf9adf5f092"
      },
      "source": [
        "print(x1, x2)"
      ],
      "execution_count": null,
      "outputs": [
        {
          "output_type": "stream",
          "text": [
            "5 16\n"
          ],
          "name": "stdout"
        }
      ]
    },
    {
      "cell_type": "code",
      "metadata": {
        "colab": {
          "base_uri": "https://localhost:8080/"
        },
        "id": "IrlLmHdJT8mv",
        "outputId": "60b7df49-1795-4de6-fd77-e22915903f24"
      },
      "source": [
        "try:\n",
        "  print(x1)\n",
        "except Exception as e:\n",
        "  print(e)"
      ],
      "execution_count": null,
      "outputs": [
        {
          "output_type": "stream",
          "text": [
            "name 'x1' is not defined\n"
          ],
          "name": "stdout"
        }
      ]
    },
    {
      "cell_type": "markdown",
      "metadata": {
        "id": "zDzz3yI3LjgV"
      },
      "source": [
        "<p><a name=\"arg\"></a></p>\n",
        "\n",
        "# **Argumentos de la función**\n",
        "\n",
        "Podemos llamar una función utilizando los siguientes tipos de argumentos formales:\n",
        "\n",
        "* Argumentos requeridos.\n",
        "* Argumentos predeterminados.\n",
        "* Argumentos de longitud variable."
      ]
    },
    {
      "cell_type": "code",
      "metadata": {
        "id": "dyGi25h0Jkpv",
        "colab": {
          "base_uri": "https://localhost:8080/"
        },
        "outputId": "5e6b480c-8109-4d08-e504-eb5e38fc1160"
      },
      "source": [
        "def saludo():\n",
        "  print(\"Buenas tardes\")\n",
        "\n",
        "saludo()"
      ],
      "execution_count": null,
      "outputs": [
        {
          "output_type": "stream",
          "text": [
            "Buenas tardes\n"
          ],
          "name": "stdout"
        }
      ]
    },
    {
      "cell_type": "markdown",
      "metadata": {
        "id": "YgpN3fCELlkP"
      },
      "source": [
        "<p><a name=\"req\"></a></p>\n",
        "\n",
        "## **Argumentos requeridos**\n",
        "\n",
        "Los argumentos requeridos son argumentos pasados a una función, que tienen un carácter obligatorio y se dan en el **orden posicional correcto**. Veamos un ejemplo: creemos una función que, dados dos parámetros, nos devuelva la resta de estos:"
      ]
    },
    {
      "cell_type": "code",
      "metadata": {
        "id": "jSu30nQbLbG9",
        "colab": {
          "base_uri": "https://localhost:8080/"
        },
        "outputId": "97b7c34b-c097-4ae9-9b52-7dfe83349f60"
      },
      "source": [
        "def Resta(a, b):\n",
        "\n",
        "  return b - a\n",
        "\n",
        "Resta(2, 3)"
      ],
      "execution_count": null,
      "outputs": [
        {
          "output_type": "execute_result",
          "data": {
            "text/plain": [
              "1"
            ]
          },
          "metadata": {
            "tags": []
          },
          "execution_count": 48
        }
      ]
    },
    {
      "cell_type": "markdown",
      "metadata": {
        "id": "sjXX9CG5MD7M"
      },
      "source": [
        "Aquí, el número de argumentos en la llamada a la función debe coincidir exactamente con el número de argumentos definidos en la función. En este caso, para llamar la función `Resta`, debemos pasar obligatoriamente los dos parámetros `a` y `b` con los que se ha definido:"
      ]
    },
    {
      "cell_type": "code",
      "metadata": {
        "id": "1GagUV3gMCnK",
        "colab": {
          "base_uri": "https://localhost:8080/"
        },
        "outputId": "305f5353-1a0f-4935-edec-8d09593ecfd8"
      },
      "source": [
        "Resta(3, 2)"
      ],
      "execution_count": null,
      "outputs": [
        {
          "output_type": "execute_result",
          "data": {
            "text/plain": [
              "-1"
            ]
          },
          "metadata": {
            "tags": []
          },
          "execution_count": 23
        }
      ]
    },
    {
      "cell_type": "code",
      "metadata": {
        "colab": {
          "base_uri": "https://localhost:8080/"
        },
        "id": "OSRFe57yXT1u",
        "outputId": "aa2dc3d5-46c8-4807-b823-df9c692e0d3b"
      },
      "source": [
        "x = float(input('Ingrese un valor numérico '))\n",
        "y = float(input('Ingrese un valor numérico '))\n",
        "\n",
        "Resta(x, y)"
      ],
      "execution_count": null,
      "outputs": [
        {
          "output_type": "stream",
          "text": [
            "Ingrese un valor numérico 10\n",
            "Ingrese un valor numérico 1.\n"
          ],
          "name": "stdout"
        },
        {
          "output_type": "execute_result",
          "data": {
            "text/plain": [
              "-9.0"
            ]
          },
          "metadata": {
            "tags": []
          },
          "execution_count": 25
        }
      ]
    },
    {
      "cell_type": "markdown",
      "metadata": {
        "id": "VtHK_hdWMGpF"
      },
      "source": [
        "Si cambiamos el orden en el que pasamos los parámetros naturalmente cambiará la salida:"
      ]
    },
    {
      "cell_type": "markdown",
      "metadata": {
        "id": "vvRWmvfJMLx_"
      },
      "source": [
        "Si los parámetros los pasamos como argumentos por palabra clave no importará el orden. En este caso podríamos usar `Resta(b = x, a = y)`."
      ]
    },
    {
      "cell_type": "code",
      "metadata": {
        "id": "q9a4O2kdMJ-C",
        "colab": {
          "base_uri": "https://localhost:8080/"
        },
        "outputId": "e384d218-78e9-41e9-91b2-1f59ab3983c3"
      },
      "source": [
        "x = float(input('Ingrese un valor numérico '))\n",
        "y = float(input('Ingrese un valor numérico '))\n",
        "\n",
        "Resta(b = x, a = y)"
      ],
      "execution_count": null,
      "outputs": [
        {
          "output_type": "stream",
          "text": [
            "Ingrese un valor numérico 10\n",
            "Ingrese un valor numérico 1.\n"
          ],
          "name": "stdout"
        },
        {
          "output_type": "execute_result",
          "data": {
            "text/plain": [
              "9.0"
            ]
          },
          "metadata": {
            "tags": []
          },
          "execution_count": 26
        }
      ]
    },
    {
      "cell_type": "markdown",
      "metadata": {
        "id": "QUqnTM2NMO3d"
      },
      "source": [
        "Ahora, ¿recuerda la descripción de las funciones que obtuvimos mediante la función propia de Python `help` o mediante el caractér `?`? Esta descripción  se define mediante lo que se conoce como el *Docstring*, que se puede definir dentro de una función encerrando el texto descriptivo entre tres comillas:"
      ]
    },
    {
      "cell_type": "code",
      "metadata": {
        "id": "Db_FfuNx8w3g",
        "colab": {
          "base_uri": "https://localhost:8080/"
        },
        "outputId": "9a09cbcc-c8ff-4707-f62a-995dbaff4c56"
      },
      "source": [
        "help(print)"
      ],
      "execution_count": null,
      "outputs": [
        {
          "output_type": "stream",
          "text": [
            "Help on built-in function print in module builtins:\n",
            "\n",
            "print(...)\n",
            "    print(value, ..., sep=' ', end='\\n', file=sys.stdout, flush=False)\n",
            "    \n",
            "    Prints the values to a stream, or to sys.stdout by default.\n",
            "    Optional keyword arguments:\n",
            "    file:  a file-like object (stream); defaults to the current sys.stdout.\n",
            "    sep:   string inserted between values, default a space.\n",
            "    end:   string appended after the last value, default a newline.\n",
            "    flush: whether to forcibly flush the stream.\n",
            "\n"
          ],
          "name": "stdout"
        }
      ]
    },
    {
      "cell_type": "code",
      "metadata": {
        "id": "CP_74Po3YC6E"
      },
      "source": [
        "print?"
      ],
      "execution_count": null,
      "outputs": []
    },
    {
      "cell_type": "markdown",
      "metadata": {
        "id": "2-EYY5jC9LCs"
      },
      "source": [
        "Hagamos un *Doctring* para nuestra función Resta."
      ]
    },
    {
      "cell_type": "code",
      "metadata": {
        "id": "xJmO7JGaMa0v"
      },
      "source": [
        "def Resta(a, b):\n",
        "  \"\"\"\n",
        "  Devuelve el valor de b - a siendo estos valores numéricos.\n",
        "  Ej:\n",
        "    in[0] : Resta(4, 16)\n",
        "    out[0]: 12\n",
        "  \"\"\"\n",
        "  return b - a"
      ],
      "execution_count": null,
      "outputs": []
    },
    {
      "cell_type": "code",
      "metadata": {
        "id": "uky1uzQ0Mdxp",
        "colab": {
          "base_uri": "https://localhost:8080/"
        },
        "outputId": "b7d6a419-a522-4e9f-d91c-6e5d90f93054"
      },
      "source": [
        "help(Resta)"
      ],
      "execution_count": null,
      "outputs": [
        {
          "output_type": "stream",
          "text": [
            "Help on function Resta in module __main__:\n",
            "\n",
            "Resta(a, b)\n",
            "    Devuelve el valor de b - a siendo estos valores numéricos.\n",
            "    Ej:\n",
            "      in[0] : Resta(4, 16)\n",
            "      out[0]: 12\n",
            "\n"
          ],
          "name": "stdout"
        }
      ]
    },
    {
      "cell_type": "markdown",
      "metadata": {
        "id": "wK2Bzqm3Mjvk"
      },
      "source": [
        "Recuerde que a la hora de llamar la función esta toma el valor definido en el `return` con el tipo de dato correspondiente:"
      ]
    },
    {
      "cell_type": "code",
      "metadata": {
        "id": "5i9d7ZCWMlbn"
      },
      "source": [
        "def saludo_personal(nombre):\n",
        "  \"\"\"\n",
        "  Función que devuelve un string con un saludo para <nombre>\n",
        "  \"\"\"\n",
        "\n",
        "  return f\"Hola {nombre} ¿cómo estás?\""
      ],
      "execution_count": null,
      "outputs": []
    },
    {
      "cell_type": "markdown",
      "metadata": {
        "id": "yeDRAkC5Mm8R"
      },
      "source": [
        "Por lo que podremos tratar la llamada de la función como si fuera del tipo que se ha definido en el `return`. Por ejemplo, si definimos una función que nos devuelva un dato de tipo `str`, podremos aplicarle métodos de este objeto a la hora de llamar la función:"
      ]
    },
    {
      "cell_type": "code",
      "metadata": {
        "colab": {
          "base_uri": "https://localhost:8080/"
        },
        "id": "xkCzOqAwZu7V",
        "outputId": "edf003c7-48d6-4148-a708-bd6ab20c1ce3"
      },
      "source": [
        "print(Resta(5, 16) ** 2)"
      ],
      "execution_count": null,
      "outputs": [
        {
          "output_type": "stream",
          "text": [
            "121\n"
          ],
          "name": "stdout"
        }
      ]
    },
    {
      "cell_type": "code",
      "metadata": {
        "id": "nCi7e5YNMoY2",
        "colab": {
          "base_uri": "https://localhost:8080/"
        },
        "outputId": "170bcf91-af40-42b6-a0c2-6df67e6a81bf"
      },
      "source": [
        "print(saludo_personal('Andersón'))"
      ],
      "execution_count": null,
      "outputs": [
        {
          "output_type": "stream",
          "text": [
            "Hola Andersón ¿cómo estás?\n"
          ],
          "name": "stdout"
        }
      ]
    },
    {
      "cell_type": "code",
      "metadata": {
        "id": "Bmeen5OSMqso",
        "colab": {
          "base_uri": "https://localhost:8080/"
        },
        "outputId": "97359ba6-b3d1-4be8-fae2-24543c84022b"
      },
      "source": [
        "type(saludo_personal('Andersón'))"
      ],
      "execution_count": null,
      "outputs": [
        {
          "output_type": "execute_result",
          "data": {
            "text/plain": [
              "str"
            ]
          },
          "metadata": {
            "tags": []
          },
          "execution_count": 35
        }
      ]
    },
    {
      "cell_type": "code",
      "metadata": {
        "id": "ePJBaXobMpPK",
        "colab": {
          "base_uri": "https://localhost:8080/"
        },
        "outputId": "433853ec-235c-4cba-b4bc-1f82f66dd4e9"
      },
      "source": [
        "print(saludo_personal('Andersón').upper())"
      ],
      "execution_count": null,
      "outputs": [
        {
          "output_type": "stream",
          "text": [
            "HOLA ANDERSÓN ¿CÓMO ESTÁS?\n"
          ],
          "name": "stdout"
        }
      ]
    },
    {
      "cell_type": "markdown",
      "metadata": {
        "id": "pFonjgMhMxAm"
      },
      "source": [
        "<p><a name=\"pre\"></a></p>\n",
        "\n",
        "## **Argumentos predeterminados**\n",
        "\n",
        "A menudo, al definir una función, hay ciertos valores que queremos que la función use la mayor parte del tiempo, pero también nos gustaría tener cierta flexibilidad en la elección de estos valores. En tal caso, podemos usar valores predeterminados para los argumentos. Redefinamos la función `Saludo` de manera que el argumento `nombre` tome un valor por defecto"
      ]
    },
    {
      "cell_type": "code",
      "metadata": {
        "id": "HrXTFiElMuOQ",
        "colab": {
          "base_uri": "https://localhost:8080/",
          "height": 35
        },
        "outputId": "888749a2-cce0-457f-a9e3-746f896b6f3a"
      },
      "source": [
        "def saludo_personal(nombre = \"Señora o Señor\"):\n",
        "  \"\"\"\n",
        "  Función que devuelve un string con un saludo para <nombre>\n",
        "  En caso de no asignarse, dirá un saludo genérico\n",
        "  \"\"\"\n",
        "\n",
        "  return f\"Hola {nombre} ¿cómo está?\"\n",
        "\n",
        "saludo_personal()"
      ],
      "execution_count": null,
      "outputs": [
        {
          "output_type": "execute_result",
          "data": {
            "application/vnd.google.colaboratory.intrinsic+json": {
              "type": "string"
            },
            "text/plain": [
              "'Hola Señora o Señor ¿cómo está?'"
            ]
          },
          "metadata": {
            "tags": []
          },
          "execution_count": 41
        }
      ]
    },
    {
      "cell_type": "markdown",
      "metadata": {
        "id": "JVu0lXdKM8np"
      },
      "source": [
        "De esta manera, el parámetro `nombre` no es requerido al momento de llamar la función"
      ]
    },
    {
      "cell_type": "code",
      "metadata": {
        "id": "Z_ULFS9VM7W4",
        "colab": {
          "base_uri": "https://localhost:8080/",
          "height": 35
        },
        "outputId": "84fe4f24-2bfe-4dbb-f6a3-c31832ff9b03"
      },
      "source": [
        "saludo_personal('X Æ A-12')"
      ],
      "execution_count": null,
      "outputs": [
        {
          "output_type": "execute_result",
          "data": {
            "application/vnd.google.colaboratory.intrinsic+json": {
              "type": "string"
            },
            "text/plain": [
              "'Hola X Æ A-12 ¿cómo está?'"
            ]
          },
          "metadata": {
            "tags": []
          },
          "execution_count": 42
        }
      ]
    },
    {
      "cell_type": "markdown",
      "metadata": {
        "id": "bKqvtQ05M_SG"
      },
      "source": [
        "Cuando en una función uno de sus argumentos lleva un valor por defecto, éste se convierte automáticamente en un kwarg. Por lo tanto, puede ser especificado indicando su nombre al momento de llamar la función"
      ]
    },
    {
      "cell_type": "code",
      "metadata": {
        "id": "BMEg5ARLM_7m",
        "colab": {
          "base_uri": "https://localhost:8080/",
          "height": 35
        },
        "outputId": "e954aa09-4f1f-4604-e2cd-067068aacf3a"
      },
      "source": [
        "def saludo_propio(edad, nombre = \"X Æ A-12\"):\n",
        "\n",
        "  return f\"Hola, mi nombre es {nombre}, y tengo {edad} años\"\n",
        "\n",
        "saludo_propio(3)"
      ],
      "execution_count": null,
      "outputs": [
        {
          "output_type": "execute_result",
          "data": {
            "application/vnd.google.colaboratory.intrinsic+json": {
              "type": "string"
            },
            "text/plain": [
              "'Hola, mi nombre es X Æ A-12, y tengo 3 años'"
            ]
          },
          "metadata": {
            "tags": []
          },
          "execution_count": 43
        }
      ]
    },
    {
      "cell_type": "markdown",
      "metadata": {
        "id": "7A6aw0g5UdnT"
      },
      "source": [
        "O utilizando simplemente la posición del argumento"
      ]
    },
    {
      "cell_type": "code",
      "metadata": {
        "id": "_RwEFQCZUVCt",
        "colab": {
          "base_uri": "https://localhost:8080/",
          "height": 35
        },
        "outputId": "e80753d7-3d37-4437-f93f-400ea66343bc"
      },
      "source": [
        "saludo_propio(edad = 27, nombre=\"Tomas\")"
      ],
      "execution_count": null,
      "outputs": [
        {
          "output_type": "execute_result",
          "data": {
            "application/vnd.google.colaboratory.intrinsic+json": {
              "type": "string"
            },
            "text/plain": [
              "'Hola, mi nombre es Tomas, y tengo 27 años'"
            ]
          },
          "metadata": {
            "tags": []
          },
          "execution_count": 45
        }
      ]
    },
    {
      "cell_type": "code",
      "metadata": {
        "colab": {
          "base_uri": "https://localhost:8080/",
          "height": 35
        },
        "id": "wvTP9fxObd8s",
        "outputId": "81052ac2-6a49-498c-e3bb-d445904c8ca4"
      },
      "source": [
        "saludo_propio(nombre=\"Tomas\", edad = 27)"
      ],
      "execution_count": null,
      "outputs": [
        {
          "output_type": "execute_result",
          "data": {
            "application/vnd.google.colaboratory.intrinsic+json": {
              "type": "string"
            },
            "text/plain": [
              "'Hola, mi nombre es Tomas, y tengo 27 años'"
            ]
          },
          "metadata": {
            "tags": []
          },
          "execution_count": 46
        }
      ]
    },
    {
      "cell_type": "markdown",
      "metadata": {
        "id": "f3pMkmLmNE2z"
      },
      "source": [
        "Debemos tener en cuenta que a la hora de definir los argumentos de la función y de la llamada de esta, todos los argumentos requeridos deben definirse antes de los predeterminados.\n"
      ]
    },
    {
      "cell_type": "code",
      "metadata": {
        "colab": {
          "base_uri": "https://localhost:8080/",
          "height": 128
        },
        "id": "unfaNj2fa-ae",
        "outputId": "832e7436-5f1a-46ee-a97d-5597819f20ff"
      },
      "source": [
        "def saludo_propio(nombre = \"X Æ A-12\", edad):\n",
        "\n",
        "  return f\"Hola, mi nombre es {nombre}, y tengo {edad} años\"\n",
        "\n",
        "saludo_propio(3)"
      ],
      "execution_count": null,
      "outputs": [
        {
          "output_type": "error",
          "ename": "SyntaxError",
          "evalue": "ignored",
          "traceback": [
            "\u001b[0;36m  File \u001b[0;32m\"<ipython-input-44-cd9911c964ef>\"\u001b[0;36m, line \u001b[0;32m1\u001b[0m\n\u001b[0;31m    def saludo_propio(nombre = \"X Æ A-12\", edad):\u001b[0m\n\u001b[0m                     ^\u001b[0m\n\u001b[0;31mSyntaxError\u001b[0m\u001b[0;31m:\u001b[0m non-default argument follows default argument\n"
          ]
        }
      ]
    },
    {
      "cell_type": "code",
      "metadata": {
        "colab": {
          "base_uri": "https://localhost:8080/"
        },
        "id": "LUg6oCphb-ZH",
        "outputId": "7eb54f3a-708b-4a7e-d065-eac3291ddac6"
      },
      "source": [
        "def Resta(a, b):\n",
        "  if (((type(a ) == int) or (type(a ) == float)) and ((type(b ) == int) or (type(b ) == float))):\n",
        "    return b - a\n",
        "  else:\n",
        "    return \"Alguno de los parámetros no es numérico\"\n",
        "\n",
        "Resta(1, 3)"
      ],
      "execution_count": null,
      "outputs": [
        {
          "output_type": "execute_result",
          "data": {
            "text/plain": [
              "2"
            ]
          },
          "metadata": {
            "tags": []
          },
          "execution_count": 53
        }
      ]
    },
    {
      "cell_type": "markdown",
      "metadata": {
        "id": "3qde-VOuNKly"
      },
      "source": [
        "**Ejemplo 1:** Escriba una función que devuelva `True` si el string dado es un palíndromo o `False` si no lo es"
      ]
    },
    {
      "cell_type": "code",
      "metadata": {
        "id": "VapkBWbQNMen",
        "colab": {
          "base_uri": "https://localhost:8080/"
        },
        "outputId": "91d31c95-e881-4644-b557-49651ef62750"
      },
      "source": [
        "texto = input('Ingrese una frase o palabra\\n')\n",
        "\n",
        "def palin(txt):\n",
        "  cadena = txt.replace(' ','').lower()\n",
        "  if cadena == cadena[::-1]:\n",
        "    return True\n",
        "  else:\n",
        "    return False\n",
        "\n",
        "palin(texto)"
      ],
      "execution_count": null,
      "outputs": [
        {
          "output_type": "stream",
          "text": [
            "Ingrese una frase o palabra\n",
            "Anita lavá la tina\n"
          ],
          "name": "stdout"
        },
        {
          "output_type": "execute_result",
          "data": {
            "text/plain": [
              "False"
            ]
          },
          "metadata": {
            "tags": []
          },
          "execution_count": 55
        }
      ]
    },
    {
      "cell_type": "markdown",
      "metadata": {
        "id": "oRD3z8DrNQN7"
      },
      "source": [
        "**Ejemplo 2:** Pida al usuario un número entero. Dependiendo de si el número es par o no, imprima un mensaje apropiado para el usuario en pantalla."
      ]
    },
    {
      "cell_type": "code",
      "metadata": {
        "id": "D7PUutrjNQu_",
        "colab": {
          "base_uri": "https://localhost:8080/"
        },
        "outputId": "28fb6d7b-eb4d-4fbe-8a1c-fa9a4d7c7072"
      },
      "source": [
        "def entero(n):\n",
        "  if n%2 == 0:\n",
        "    return (f\"{n} Es un número entero par\")\n",
        "  else:\n",
        "    return (f\"{n} No es un número entero par\")\n",
        "\n",
        "print(entero(16.2))"
      ],
      "execution_count": null,
      "outputs": [
        {
          "output_type": "stream",
          "text": [
            "16.2 No es un número entero par\n"
          ],
          "name": "stdout"
        }
      ]
    },
    {
      "cell_type": "markdown",
      "metadata": {
        "id": "8fmxrPGPNoIK"
      },
      "source": [
        "**Ejercicio 3:** Escriba un programa que calcule el factorial de un número natural $n$.\n",
        "\n",
        "Hallemos $n!$ de forma recursiva utilizando la propiedad $n! = n \\cdot (n-1)!$\n",
        "\n",
        "$$ n! = n* (n-1) * (n-2)*...* 3*2 *1 $$\n",
        "\n",
        "1. Utilizando la función misma para el proceso recursivo:"
      ]
    },
    {
      "cell_type": "code",
      "metadata": {
        "id": "wfEpDfi3NpbM",
        "colab": {
          "base_uri": "https://localhost:8080/"
        },
        "outputId": "200da645-5136-4b03-9d03-6f60abd04d49"
      },
      "source": [
        "def factorial1(n):\n",
        "  if n == 0:\n",
        "    return 1\n",
        "  else:\n",
        "    return n * factorial1(n - 1)\n",
        "\n",
        "factorial1(4)"
      ],
      "execution_count": null,
      "outputs": [
        {
          "output_type": "execute_result",
          "data": {
            "text/plain": [
              "24"
            ]
          },
          "metadata": {
            "tags": []
          },
          "execution_count": 61
        }
      ]
    },
    {
      "cell_type": "markdown",
      "metadata": {
        "id": "LS8agRwnNyjC"
      },
      "source": [
        "2. Realizando el proceso recursivo utilizando una lista"
      ]
    },
    {
      "cell_type": "code",
      "metadata": {
        "id": "pFvXrj3XNwuY",
        "colab": {
          "base_uri": "https://localhost:8080/"
        },
        "outputId": "a8bfc911-ee8d-4fa4-90b2-f8dd738a98b2"
      },
      "source": [
        "def factorial2(n):\n",
        "  fact = [1]\n",
        "  for i in range(1, n + 1):\n",
        "    fact.append( i * fact[i-1])\n",
        "  return fact[i]\n",
        "\n",
        "factorial2(4)"
      ],
      "execution_count": null,
      "outputs": [
        {
          "output_type": "execute_result",
          "data": {
            "text/plain": [
              "24"
            ]
          },
          "metadata": {
            "tags": []
          },
          "execution_count": 63
        }
      ]
    },
    {
      "cell_type": "markdown",
      "metadata": {
        "id": "pcTSbU6AN3QO"
      },
      "source": [
        "Podemos ver que la segunda forma es más eficiente"
      ]
    },
    {
      "cell_type": "code",
      "metadata": {
        "id": "kUnwB9oNN1bl",
        "colab": {
          "base_uri": "https://localhost:8080/"
        },
        "outputId": "29f4dafd-8240-4256-e5da-26cb294dce5e"
      },
      "source": [
        "%time factorial1(50)"
      ],
      "execution_count": null,
      "outputs": [
        {
          "output_type": "stream",
          "text": [
            "CPU times: user 35 µs, sys: 0 ns, total: 35 µs\n",
            "Wall time: 38.6 µs\n"
          ],
          "name": "stdout"
        },
        {
          "output_type": "execute_result",
          "data": {
            "text/plain": [
              "30414093201713378043612608166064768844377641568960512000000000000"
            ]
          },
          "metadata": {
            "tags": []
          },
          "execution_count": 64
        }
      ]
    },
    {
      "cell_type": "code",
      "metadata": {
        "id": "EpSAwaDlN5LX",
        "colab": {
          "base_uri": "https://localhost:8080/"
        },
        "outputId": "5031f454-ab28-46f8-db51-d884119b9487"
      },
      "source": [
        "%time factorial2(50)"
      ],
      "execution_count": null,
      "outputs": [
        {
          "output_type": "stream",
          "text": [
            "CPU times: user 22 µs, sys: 0 ns, total: 22 µs\n",
            "Wall time: 26.5 µs\n"
          ],
          "name": "stdout"
        },
        {
          "output_type": "execute_result",
          "data": {
            "text/plain": [
              "30414093201713378043612608166064768844377641568960512000000000000"
            ]
          },
          "metadata": {
            "tags": []
          },
          "execution_count": 65
        }
      ]
    },
    {
      "cell_type": "markdown",
      "metadata": {
        "id": "Mn6d1--FN_qd"
      },
      "source": [
        "**Ejercicio 4:** La sucesión de Fibonacci está dada por: $$f_{n} = f_{n-1} + f_{n-2}$$ con $f_0 = 0$ y $f_1=1$. Escriba un programa que calcule de forma recursiva la serie hasta $f_n$."
      ]
    },
    {
      "cell_type": "code",
      "metadata": {
        "id": "T47pCtm8Or8U",
        "colab": {
          "base_uri": "https://localhost:8080/"
        },
        "outputId": "f39a0ad3-d6be-4074-9bbd-469ae69dc722"
      },
      "source": [
        "def fibo2(n):\n",
        "  fib = [0,1]\n",
        "  for k in range(2, n + 1):\n",
        "    fib.append(fib[k-1] + fib[k-2])\n",
        "  \n",
        "  return fib\n",
        "\n",
        "fibo2(10)[10]"
      ],
      "execution_count": null,
      "outputs": [
        {
          "output_type": "execute_result",
          "data": {
            "text/plain": [
              "55"
            ]
          },
          "metadata": {
            "tags": []
          },
          "execution_count": 70
        }
      ]
    },
    {
      "cell_type": "code",
      "metadata": {
        "id": "l6z_pswPXr8-",
        "colab": {
          "base_uri": "https://localhost:8080/"
        },
        "outputId": "9d5a7750-031d-438a-bffe-316ab924de8e"
      },
      "source": [
        "def fibonacci(n):\n",
        "    if n == 0:\n",
        "        return 0\n",
        "    elif n == 1:\n",
        "        return 1\n",
        "    else:\n",
        "        return fibonacci(n-1) + fibonacci(n-2)\n",
        "\n",
        "[fibonacci(i) for i in range(10)]"
      ],
      "execution_count": null,
      "outputs": [
        {
          "output_type": "execute_result",
          "data": {
            "text/plain": [
              "[0, 1, 1, 2, 3, 5, 8, 13, 21, 34]"
            ]
          },
          "metadata": {
            "tags": []
          },
          "execution_count": 69
        }
      ]
    },
    {
      "cell_type": "markdown",
      "metadata": {
        "id": "YRORvAlXOdAV"
      },
      "source": [
        "<p><a name=\"lon\"></a></p>\n",
        "\n",
        "## **Argumentos de longitud variable**\n",
        "\n",
        "Es posible que necesitemos ejecutar una función en la que en principio no sabemos cuántos argumentos se pasarán a la función. En este caso, podemos utilizar una clase especial de argumentos, denominados argumentos de longitud variable, con los que podemos capturar todos los argumentos que se pasen a la función.\n",
        "\n",
        "**args**: El argumento de longitud variable `*args` permite capturar una serie de argumentos sin necesidad de especificar en un principio su número"
      ]
    },
    {
      "cell_type": "code",
      "metadata": {
        "id": "aE75liH5N6ec",
        "colab": {
          "base_uri": "https://localhost:8080/"
        },
        "outputId": "b4937485-68db-4064-d5cc-6c89120970a7"
      },
      "source": [
        "def my_print(*x):\n",
        "  print(x)\n",
        "\n",
        "my_print(1, 2, 3)"
      ],
      "execution_count": null,
      "outputs": [
        {
          "output_type": "stream",
          "text": [
            "(1, 2, 3)\n"
          ],
          "name": "stdout"
        }
      ]
    },
    {
      "cell_type": "markdown",
      "metadata": {
        "id": "s_3u1OmyPQBw"
      },
      "source": [
        "O alternativamente podemos iterar sobre estos argumentos"
      ]
    },
    {
      "cell_type": "code",
      "metadata": {
        "id": "bljtaRwCPReM",
        "colab": {
          "base_uri": "https://localhost:8080/"
        },
        "outputId": "c73d32e5-c412-41c5-9118-34606129903c"
      },
      "source": [
        "def my_print(*args):\n",
        "  for arg in args:\n",
        "    print(arg)\n",
        "\n",
        "my_print(1, 2, 3)"
      ],
      "execution_count": null,
      "outputs": [
        {
          "output_type": "stream",
          "text": [
            "1\n",
            "2\n",
            "3\n"
          ],
          "name": "stdout"
        }
      ]
    },
    {
      "cell_type": "markdown",
      "metadata": {
        "id": "F5tKpPUxPalX"
      },
      "source": [
        "Lo importante aquí no es el nombre `args`, sino el caracter `*` que lo precede. `args` es solo el nombre que se usa por convención. Un solo `*` antes de una variable significa *expandir esto como una secuencia*. \n"
      ]
    },
    {
      "cell_type": "markdown",
      "metadata": {
        "id": "UQCftnXrpsEQ"
      },
      "source": [
        "De hecho, esta sintáxis puede utilizarse no solo en la definición de la función, sino también a la hora de llamar la función:"
      ]
    },
    {
      "cell_type": "code",
      "metadata": {
        "id": "nc8C8Ro7PSjo",
        "colab": {
          "base_uri": "https://localhost:8080/"
        },
        "outputId": "16fa38e0-c8d2-4cb9-fb08-17d5834c9860"
      },
      "source": [
        "l = [i for i in range(100)]\n",
        "\n",
        "my_print(l[0], l[1], l[2])"
      ],
      "execution_count": null,
      "outputs": [
        {
          "output_type": "stream",
          "text": [
            "(0, 1, 2)\n"
          ],
          "name": "stdout"
        }
      ]
    },
    {
      "cell_type": "code",
      "metadata": {
        "id": "7zbIof5ePiNY",
        "colab": {
          "base_uri": "https://localhost:8080/"
        },
        "outputId": "4f4f2403-46e1-4cd4-daaf-b57e058a9480"
      },
      "source": [
        "my_print(*l)"
      ],
      "execution_count": null,
      "outputs": [
        {
          "output_type": "stream",
          "text": [
            "(0, 1, 2, 3, 4, 5, 6, 7, 8, 9, 10, 11, 12, 13, 14, 15, 16, 17, 18, 19, 20, 21, 22, 23, 24, 25, 26, 27, 28, 29, 30, 31, 32, 33, 34, 35, 36, 37, 38, 39, 40, 41, 42, 43, 44, 45, 46, 47, 48, 49, 50, 51, 52, 53, 54, 55, 56, 57, 58, 59, 60, 61, 62, 63, 64, 65, 66, 67, 68, 69, 70, 71, 72, 73, 74, 75, 76, 77, 78, 79, 80, 81, 82, 83, 84, 85, 86, 87, 88, 89, 90, 91, 92, 93, 94, 95, 96, 97, 98, 99)\n"
          ],
          "name": "stdout"
        }
      ]
    },
    {
      "cell_type": "markdown",
      "metadata": {
        "id": "-p3Z0kgoPmra"
      },
      "source": [
        "Podemos aprovecharnos de este hecho para modificar la función `my_print` a la hora de la llamada de la función `print`:"
      ]
    },
    {
      "cell_type": "code",
      "metadata": {
        "id": "AVVrvcUCPj_I",
        "colab": {
          "base_uri": "https://localhost:8080/"
        },
        "outputId": "528574d3-1754-4881-9672-d801d97300d5"
      },
      "source": [
        "def my_print(*args):\n",
        "  print(*args)\n",
        "\n",
        "my_print(*l)"
      ],
      "execution_count": null,
      "outputs": [
        {
          "output_type": "stream",
          "text": [
            "0 1 2 3 4 5 6 7 8 9 10 11 12 13 14 15 16 17 18 19 20 21 22 23 24 25 26 27 28 29 30 31 32 33 34 35 36 37 38 39 40 41 42 43 44 45 46 47 48 49 50 51 52 53 54 55 56 57 58 59 60 61 62 63 64 65 66 67 68 69 70 71 72 73 74 75 76 77 78 79 80 81 82 83 84 85 86 87 88 89 90 91 92 93 94 95 96 97 98 99\n"
          ],
          "name": "stdout"
        }
      ]
    },
    {
      "cell_type": "code",
      "metadata": {
        "colab": {
          "base_uri": "https://localhost:8080/"
        },
        "id": "1fThFz0io1cr",
        "outputId": "9b0b423c-348c-473f-e810-ff15d9c2e4cb"
      },
      "source": [
        "print(*list(i for i in range(100)))"
      ],
      "execution_count": null,
      "outputs": [
        {
          "output_type": "stream",
          "text": [
            "0 1 2 3 4 5 6 7 8 9 10 11 12 13 14 15 16 17 18 19 20 21 22 23 24 25 26 27 28 29 30 31 32 33 34 35 36 37 38 39 40 41 42 43 44 45 46 47 48 49 50 51 52 53 54 55 56 57 58 59 60 61 62 63 64 65 66 67 68 69 70 71 72 73 74 75 76 77 78 79 80 81 82 83 84 85 86 87 88 89 90 91 92 93 94 95 96 97 98 99\n"
          ],
          "name": "stdout"
        }
      ]
    },
    {
      "cell_type": "markdown",
      "metadata": {
        "id": "YcT-YRRnPvDz"
      },
      "source": [
        "Cabe resaltar que la llamada de una función con esta sintáxis funciona independientemente de si se ha declarado la función con `*args` o no:"
      ]
    },
    {
      "cell_type": "code",
      "metadata": {
        "id": "WKgGY5dMPqI_",
        "colab": {
          "base_uri": "https://localhost:8080/"
        },
        "outputId": "67b2de6a-a81b-42c7-8b2a-8e822a5dc089"
      },
      "source": [
        "def suma(a,b):\n",
        "  return a+b\n",
        "\n",
        "l = [1,2]\n",
        "suma(*l)"
      ],
      "execution_count": null,
      "outputs": [
        {
          "output_type": "execute_result",
          "data": {
            "text/plain": [
              "3"
            ]
          },
          "metadata": {
            "tags": []
          },
          "execution_count": 85
        }
      ]
    },
    {
      "cell_type": "markdown",
      "metadata": {
        "id": "AmcjRXFeP9h4"
      },
      "source": [
        "**Ejercicio 5:** Escriba un programa que calcule el promedio de n números enteros."
      ]
    },
    {
      "cell_type": "code",
      "metadata": {
        "id": "80BYPIeEP3b6"
      },
      "source": [
        ""
      ],
      "execution_count": null,
      "outputs": []
    },
    {
      "cell_type": "markdown",
      "metadata": {
        "id": "_BRBvSn5QGqa"
      },
      "source": [
        "**Ejercicio 6:** Escriba un programa que tome un número n de palabras de un usuario externo, las almacene en un arreglo y muestre cuáles palabras son un palíndromo."
      ]
    },
    {
      "cell_type": "code",
      "metadata": {
        "id": "CvzNDcqSQTeR",
        "colab": {
          "base_uri": "https://localhost:8080/"
        },
        "outputId": "a6fe4b0b-3a29-4a88-f297-a528850f528c"
      },
      "source": [
        "def my_print(**kwargs):\n",
        "  print(kwargs)\n",
        "\n",
        "my_print(nombre = \"andres\", edad =24)"
      ],
      "execution_count": null,
      "outputs": [
        {
          "output_type": "stream",
          "text": [
            "{'nombre': 'andres', 'edad': 24}\n"
          ],
          "name": "stdout"
        }
      ]
    },
    {
      "cell_type": "markdown",
      "metadata": {
        "id": "yvRclc-RQWCe"
      },
      "source": [
        "**kwargs**: Al igual que con `*args`, podemos utilizar el argumento por longitud variable `*kwargs` para capturar un número indefinido de argumentos por palabra clave. \n",
        "\n",
        "Un doble `**` antes de una variable significa *expandir esto como un diccionario*"
      ]
    },
    {
      "cell_type": "code",
      "metadata": {
        "id": "bPbnBKE4QZp0",
        "colab": {
          "base_uri": "https://localhost:8080/"
        },
        "outputId": "69348bac-0432-4ead-bbe3-fbc70e2549ad"
      },
      "source": [
        "diccio = dict(nombre = \"andres\", edad =24)\n",
        "\n",
        "my_print(**diccio)"
      ],
      "execution_count": null,
      "outputs": [
        {
          "output_type": "stream",
          "text": [
            "{'nombre': 'andres', 'edad': 24}\n"
          ],
          "name": "stdout"
        }
      ]
    },
    {
      "cell_type": "markdown",
      "metadata": {
        "id": "nbEkUxjtQh1Z"
      },
      "source": [
        "similarmente, podemos utilizar esta sintáxis a la hora de llamar la función:"
      ]
    },
    {
      "cell_type": "markdown",
      "metadata": {
        "id": "jHUVZNVdBDnx"
      },
      "source": [
        "<p><a name=\"lam\"></a></p>\n",
        "\n",
        "# **Funciones Anónimas**\n",
        "\n",
        "Estas funciones se denominan anónimas porque no se declaran de la manera estándar utilizando la palabra clave `def`. Podemos usar la palabra clave `lambda` para crear pequeñas funciones anónimas. La sintáxis general es de la forma:\n",
        "\n",
        "> \n",
        "  `lambda arg1, arg2, ... : expresion(arg1, arg2, ...)`\n",
        "\n",
        "Por ejemplo, definamos una función que realice la suma de dos números "
      ]
    },
    {
      "cell_type": "code",
      "metadata": {
        "id": "0GgbQm4MBHP1",
        "colab": {
          "base_uri": "https://localhost:8080/"
        },
        "outputId": "a9cb9031-e417-4d51-9079-431935308933"
      },
      "source": [
        "(lambda a, b: b - a) (2, 3)"
      ],
      "execution_count": null,
      "outputs": [
        {
          "output_type": "execute_result",
          "data": {
            "text/plain": [
              "1"
            ]
          },
          "metadata": {
            "tags": []
          },
          "execution_count": 89
        }
      ]
    },
    {
      "cell_type": "markdown",
      "metadata": {
        "id": "s3F_EgXIBMoC"
      },
      "source": [
        "Con una función anónima o función Lambda, lo \n",
        "\n",
        "\n",
        "\n",
        "anterior tomaría la forma:"
      ]
    },
    {
      "cell_type": "code",
      "metadata": {
        "id": "1ro5H3fPBPy_",
        "colab": {
          "base_uri": "https://localhost:8080/"
        },
        "outputId": "5131fd84-9fc6-4662-d3b8-1a08b6727a50"
      },
      "source": [
        "resta_1 = lambda a, b: b - a\n",
        "resta_1(5,17)"
      ],
      "execution_count": null,
      "outputs": [
        {
          "output_type": "execute_result",
          "data": {
            "text/plain": [
              "12"
            ]
          },
          "metadata": {
            "tags": []
          },
          "execution_count": 91
        }
      ]
    },
    {
      "cell_type": "code",
      "metadata": {
        "colab": {
          "base_uri": "https://localhost:8080/"
        },
        "id": "jbcabrDCqgwb",
        "outputId": "de9b227c-90c8-4d3d-f16d-dd1ff33980f2"
      },
      "source": [
        "print(resta_1)"
      ],
      "execution_count": null,
      "outputs": [
        {
          "output_type": "stream",
          "text": [
            "<function <lambda> at 0x7f77b24e1a70>\n"
          ],
          "name": "stdout"
        }
      ]
    },
    {
      "cell_type": "markdown",
      "metadata": {
        "id": "xvRoVDlRBTTm"
      },
      "source": [
        "Note la equivalencia entre ambas sintáxis. Note además que la función creada de forma estándar tiene como nombre `suma`, mientras que las funciones anónimas tienen como nombre `<lambda>`, de ahí que se conozcan como *funciones anónimas*.\n",
        "\n",
        "Con esta nueva sintáxis podemos utilizar tanto los argumentos requeridos como argumentos por palabra clave, así como los argumentos de longitud variable"
      ]
    },
    {
      "cell_type": "code",
      "metadata": {
        "id": "TDuQqhGABXov"
      },
      "source": [
        "f = lambda *args, **kwargs: print(args,kwargs)"
      ],
      "execution_count": null,
      "outputs": []
    },
    {
      "cell_type": "code",
      "metadata": {
        "id": "OJVOvK7LBYIX",
        "colab": {
          "base_uri": "https://localhost:8080/"
        },
        "outputId": "dd56f773-2722-4820-db47-6ee928a69cc3"
      },
      "source": [
        "f(1, 2.0, tres= \"treees\", cuatro = 4)"
      ],
      "execution_count": null,
      "outputs": [
        {
          "output_type": "stream",
          "text": [
            "(1, 2.0) {'tres': 'treees', 'cuatro': 4}\n"
          ],
          "name": "stdout"
        }
      ]
    },
    {
      "cell_type": "code",
      "metadata": {
        "id": "ugrNXzs3Bbkf"
      },
      "source": [
        ""
      ],
      "execution_count": null,
      "outputs": []
    }
  ]
}