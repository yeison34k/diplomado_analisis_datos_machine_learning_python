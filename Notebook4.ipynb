{
  "nbformat": 4,
  "nbformat_minor": 0,
  "metadata": {
    "colab": {
      "name": "Notebook4.ipynb",
      "provenance": [],
      "collapsed_sections": [],
      "include_colab_link": true
    },
    "kernelspec": {
      "name": "python3",
      "display_name": "Python 3"
    }
  },
  "cells": [
    {
      "cell_type": "markdown",
      "metadata": {
        "id": "view-in-github",
        "colab_type": "text"
      },
      "source": [
        "<a href=\"https://colab.research.google.com/github/yeison34k/diplomado_analisis_datos_machine_learning_python/blob/main/Notebook4.ipynb\" target=\"_parent\"><img src=\"https://colab.research.google.com/assets/colab-badge.svg\" alt=\"Open In Colab\"/></a>"
      ]
    },
    {
      "cell_type": "markdown",
      "metadata": {
        "id": "sooTJcqEUgPQ"
      },
      "source": [
        "<p><img alt=\"Colaboratory logo\" height=\"140px\" src=\"https://upload.wikimedia.org/wikipedia/commons/archive/f/fb/20161010213812%21Escudo-UdeA.svg\" align=\"left\" hspace=\"10px\" vspace=\"0px\"></p>\n",
        "\n",
        "# **Diplomado de Análisis de datos y Machine Learning en Python**\n",
        "\n",
        "\n",
        "El presente diplomado hace parte del centro de Big Data de la facultad de ciencias exactas y naturales (FCEN) de la Universidad de Antioquia.\n",
        "\n",
        "## **Sesión 4**\n",
        "\n",
        "## **Contenido**\n",
        "  \n",
        "- <a href=\"#est\"> Estructuras de datos</a><br>\n",
        "  - <a href=\"#lis\"> Listas</a><br>\n",
        "    - <a href=\"#ind\"> Indexación y segmentación</a><br>\n",
        "    - <a href=\"#lpc\"> Listas por comprensión</a><br>\n",
        "  - <a href=\"#tup\"> Tuplas</a><br>\n",
        "  - <a href=\"#dic\"> Diccionarios</a><br>\n",
        "\n",
        "\n",
        "\n",
        "\n"
      ]
    },
    {
      "cell_type": "markdown",
      "metadata": {
        "id": "kCOIbNl5VeIr"
      },
      "source": [
        "<p><a name=\"est\"></a></p>\n",
        "\n",
        "# **Estructuras de datos**\n",
        "\n",
        "\n",
        "Hemos visto los tipos de variables simples de Python: `int`, `float` , `bool`, `str` y `None`. Adicionalmente, Python tiene varios tipos compuestos, que actúan como contenedores para otros tipos. Estos tipos compuestos son: Listas, tuplas y diccionarios. Vamos a estudiar cada una de estas estructuras:"
      ]
    },
    {
      "cell_type": "markdown",
      "metadata": {
        "id": "jdwQ4EuWVzk5"
      },
      "source": [
        "<p><a name=\"lis\"></a></p>\n",
        "\n",
        "## **Listas**\n",
        "\n",
        "Las listas son un tipo básico de colección de datos *ordenados* y *mutables* en Python. Cuando decimos que son ordenados queremos decir que para este objeto se tiene una noción de posición para sus elementos, que ya veremos en la sección de *indexación*. Como ya hemos mencionado, la *mutabilidad* hace referencia a que podemos modificar el objeto. \n",
        "\n",
        "Las listas se pueden definir con valores separados por comas entre corchetes"
      ]
    },
    {
      "cell_type": "code",
      "metadata": {
        "id": "5epoK4flUfVi",
        "colab": {
          "base_uri": "https://localhost:8080/"
        },
        "outputId": "091813e8-6d8a-47c9-b4de-a90d9550f208"
      },
      "source": [
        "l1 = [1, 3, 4, 5, 2 ]\n",
        "l2 = [6 , 7 , 8 , 9 , 10]\n",
        "l3 = []\n",
        "for i in range(len(l1)):\n",
        "  l3.append(l1[i] + l2[i])\n",
        "print(l3)"
      ],
      "execution_count": null,
      "outputs": [
        {
          "output_type": "stream",
          "text": [
            "[7, 10, 12, 14, 12]\n"
          ],
          "name": "stdout"
        }
      ]
    },
    {
      "cell_type": "markdown",
      "metadata": {
        "id": "GoDhgKAKV5wY"
      },
      "source": [
        " \n",
        "\n",
        "\n",
        "\n",
        "Podemos obtener la longitud o número de elementos de la lista con la función propia de Python `len`:"
      ]
    },
    {
      "cell_type": "code",
      "metadata": {
        "id": "aBE62S5XbXEF",
        "colab": {
          "base_uri": "https://localhost:8080/"
        },
        "outputId": "424b110e-af01-408b-d494-457581b2e7a7"
      },
      "source": [
        "print(l1)"
      ],
      "execution_count": null,
      "outputs": [
        {
          "output_type": "stream",
          "text": [
            "[1, 3, 4, 5, 2]\n"
          ],
          "name": "stdout"
        }
      ]
    },
    {
      "cell_type": "code",
      "metadata": {
        "id": "ED_XAHPzV3r5",
        "colab": {
          "base_uri": "https://localhost:8080/"
        },
        "outputId": "ccae25f4-accb-4d64-96eb-55eb9c377101"
      },
      "source": [
        "len(l1)"
      ],
      "execution_count": null,
      "outputs": [
        {
          "output_type": "execute_result",
          "data": {
            "text/plain": [
              "5"
            ]
          },
          "metadata": {
            "tags": []
          },
          "execution_count": 4
        }
      ]
    },
    {
      "cell_type": "markdown",
      "metadata": {
        "id": "8eqVFr21BhZA"
      },
      "source": [
        "Podemos obtener la suma de los elementos, el valor máximo y mínimo de la lista con las funciones de agregación `sum`, `max` y `min`, respectivamente:"
      ]
    },
    {
      "cell_type": "code",
      "metadata": {
        "id": "4x70GvvnBwV7",
        "colab": {
          "base_uri": "https://localhost:8080/"
        },
        "outputId": "5eaed324-86ea-40e7-eb23-6dfa45cd8ac5"
      },
      "source": [
        "print(sum(l1), max(l1), min(l1))"
      ],
      "execution_count": null,
      "outputs": [
        {
          "output_type": "stream",
          "text": [
            "15 5 1\n"
          ],
          "name": "stdout"
        }
      ]
    },
    {
      "cell_type": "markdown",
      "metadata": {
        "id": "tTmbBOjeWLFA"
      },
      "source": [
        "Veamos algunos métodos asociados con este objeto.\n",
        "En primera instancia tenemos el método `sort()`, este es un método IN PLACE"
      ]
    },
    {
      "cell_type": "code",
      "metadata": {
        "id": "0gZGH8Vk3S8e",
        "colab": {
          "base_uri": "https://localhost:8080/"
        },
        "outputId": "8cb86b01-5bf0-4378-b9ab-16f7186c3e25"
      },
      "source": [
        "sorted(l1)"
      ],
      "execution_count": null,
      "outputs": [
        {
          "output_type": "execute_result",
          "data": {
            "text/plain": [
              "[1, 2, 3, 4, 5]"
            ]
          },
          "metadata": {
            "tags": []
          },
          "execution_count": 7
        }
      ]
    },
    {
      "cell_type": "code",
      "metadata": {
        "colab": {
          "base_uri": "https://localhost:8080/"
        },
        "id": "YI6x6RsDm3TF",
        "outputId": "fe0eb15b-2125-4126-f31d-4a5faf60347d"
      },
      "source": [
        "print(l1)"
      ],
      "execution_count": null,
      "outputs": [
        {
          "output_type": "stream",
          "text": [
            "[1, 3, 4, 5, 2]\n"
          ],
          "name": "stdout"
        }
      ]
    },
    {
      "cell_type": "code",
      "metadata": {
        "colab": {
          "base_uri": "https://localhost:8080/"
        },
        "id": "7WqlAznsm68L",
        "outputId": "90a9a5df-7525-47e3-9633-c7d61484c2cf"
      },
      "source": [
        "l1.sort()\n",
        "print(l1)"
      ],
      "execution_count": null,
      "outputs": [
        {
          "output_type": "stream",
          "text": [
            "[1, 2, 3, 4, 5]\n"
          ],
          "name": "stdout"
        }
      ]
    },
    {
      "cell_type": "markdown",
      "metadata": {
        "id": "fuOV6ewN3hbn"
      },
      "source": [
        "Podemos pasarle como argumento al método `sort(reverse =True)` para obtener la lista ordenada de menor a mayor."
      ]
    },
    {
      "cell_type": "code",
      "metadata": {
        "id": "5n0ZFk_TDFjz",
        "colab": {
          "base_uri": "https://localhost:8080/"
        },
        "outputId": "cae0620b-39d3-4f8c-a5bf-b198265b5675"
      },
      "source": [
        "l1.sort(reverse= True)\n",
        "print(l1)"
      ],
      "execution_count": null,
      "outputs": [
        {
          "output_type": "stream",
          "text": [
            "[5, 4, 3, 2, 1]\n"
          ],
          "name": "stdout"
        }
      ]
    },
    {
      "cell_type": "markdown",
      "metadata": {
        "id": "qbtLid-B4UNr"
      },
      "source": [
        "Con el método `append()` podemos agregar un elemento al final de la lista"
      ]
    },
    {
      "cell_type": "code",
      "metadata": {
        "id": "aidVH594WMuF",
        "colab": {
          "base_uri": "https://localhost:8080/"
        },
        "outputId": "1d5f9897-a71e-4bcf-ac58-207e26a3ed48"
      },
      "source": [
        "l1.append(200)\n",
        "print(l1)"
      ],
      "execution_count": null,
      "outputs": [
        {
          "output_type": "stream",
          "text": [
            "[5, 4, 3, 2, 1, 200]\n"
          ],
          "name": "stdout"
        }
      ]
    },
    {
      "cell_type": "markdown",
      "metadata": {
        "id": "E30JUVOw4f0E"
      },
      "source": [
        "O hacerlo en general con `insert()` pasándole un argumento para que lo inserte al inicio de la lista o si le paso dos argumentos, entonces el primero será la posición a insertar el elemento y el segudo será el elemento."
      ]
    },
    {
      "cell_type": "code",
      "metadata": {
        "id": "5LleYxAHDP7b",
        "colab": {
          "base_uri": "https://localhost:8080/"
        },
        "outputId": "b26b8b9e-28c2-485a-f34c-e062b69497ab"
      },
      "source": [
        "l1.insert(0, 0)\n",
        "print(l1)"
      ],
      "execution_count": null,
      "outputs": [
        {
          "output_type": "stream",
          "text": [
            "[0, 5, 4, 3, 2, 1, 200]\n"
          ],
          "name": "stdout"
        }
      ]
    },
    {
      "cell_type": "code",
      "metadata": {
        "id": "vVHNx1qOcdu0",
        "colab": {
          "base_uri": "https://localhost:8080/"
        },
        "outputId": "508f888d-30ee-4f95-c1a8-ee690ea50da6"
      },
      "source": [
        "l1.insert(3, None)\n",
        "print(l1)"
      ],
      "execution_count": null,
      "outputs": [
        {
          "output_type": "stream",
          "text": [
            "[0, 5, 4, None, 3, 2, 1, 200]\n"
          ],
          "name": "stdout"
        }
      ]
    },
    {
      "cell_type": "markdown",
      "metadata": {
        "id": "kQchcYaK6TPd"
      },
      "source": [
        "`remove(x)` puede eliminar un elemento `x` de la lista."
      ]
    },
    {
      "cell_type": "code",
      "metadata": {
        "id": "YCXbwxNPDiZ1",
        "colab": {
          "base_uri": "https://localhost:8080/"
        },
        "outputId": "f9bd3c1d-18a5-473e-95ef-d85098055f78"
      },
      "source": [
        "l1.remove(None)\n",
        "print(l1)"
      ],
      "execution_count": null,
      "outputs": [
        {
          "output_type": "stream",
          "text": [
            "[0, 5, 4, 3, 2, 1, 200]\n"
          ],
          "name": "stdout"
        }
      ]
    },
    {
      "cell_type": "markdown",
      "metadata": {
        "id": "pnYiqXYi6w-P"
      },
      "source": [
        "`index(x)` nos devuelve la posición de el elemento `x` en la lista"
      ]
    },
    {
      "cell_type": "code",
      "metadata": {
        "id": "bmyhBJBaDqck",
        "colab": {
          "base_uri": "https://localhost:8080/"
        },
        "outputId": "3432eb28-b1a9-46d8-f022-3bddbf957225"
      },
      "source": [
        "l1.index(4)"
      ],
      "execution_count": null,
      "outputs": [
        {
          "output_type": "execute_result",
          "data": {
            "text/plain": [
              "2"
            ]
          },
          "metadata": {
            "tags": []
          },
          "execution_count": 16
        }
      ]
    },
    {
      "cell_type": "code",
      "metadata": {
        "id": "uM6rT8V7cx6q",
        "colab": {
          "base_uri": "https://localhost:8080/"
        },
        "outputId": "98d6301c-6a71-4424-fdef-f28e55efb8d4"
      },
      "source": [
        "l1[2]"
      ],
      "execution_count": null,
      "outputs": [
        {
          "output_type": "execute_result",
          "data": {
            "text/plain": [
              "4"
            ]
          },
          "metadata": {
            "tags": []
          },
          "execution_count": 17
        }
      ]
    },
    {
      "cell_type": "markdown",
      "metadata": {
        "id": "XyPtrGN77Bs5"
      },
      "source": [
        "`count(x)` nos permite contar las veces que está el elemento `x` en la lista"
      ]
    },
    {
      "cell_type": "code",
      "metadata": {
        "colab": {
          "base_uri": "https://localhost:8080/"
        },
        "id": "U1zJpg04ntxF",
        "outputId": "4514085f-961f-49cb-e9a8-ec23bf700364"
      },
      "source": [
        "l1.insert(3, 5)\n",
        "print(l1)\n",
        "l1.count(5)"
      ],
      "execution_count": null,
      "outputs": [
        {
          "output_type": "stream",
          "text": [
            "[0, 5, 4, 5, 3, 2, 1, 200]\n"
          ],
          "name": "stdout"
        },
        {
          "output_type": "execute_result",
          "data": {
            "text/plain": [
              "2"
            ]
          },
          "metadata": {
            "tags": []
          },
          "execution_count": 18
        }
      ]
    },
    {
      "cell_type": "markdown",
      "metadata": {
        "id": "j5Fdp2y076wx"
      },
      "source": [
        "O finalmente eliminar un elemento en la posición `i` con `pop(i)`"
      ]
    },
    {
      "cell_type": "code",
      "metadata": {
        "id": "iJoZVUzl77Nw",
        "colab": {
          "base_uri": "https://localhost:8080/"
        },
        "outputId": "11911aad-70c8-4882-b090-55ae0df83599"
      },
      "source": [
        "l1.pop(3)\n",
        "print(l1)"
      ],
      "execution_count": null,
      "outputs": [
        {
          "output_type": "stream",
          "text": [
            "[0, 5, 4, 3, 2, 1, 200]\n"
          ],
          "name": "stdout"
        }
      ]
    },
    {
      "cell_type": "markdown",
      "metadata": {
        "id": "qtYOk9zVW3xu"
      },
      "source": [
        "Adicionalmente, hay más métodos de lista incorporados; están bien cubiertos en la [documentación](https://docs.python.org/3/tutorial/datastructures.html) en línea de Python.\n",
        "\n",
        "Una de las características de los objetos compuestos de Python es que pueden contener objetos de cualquier tipo, o incluso una combinación de tipos. Por ejemplo:"
      ]
    },
    {
      "cell_type": "code",
      "metadata": {
        "id": "u62_pTfaWyiq",
        "colab": {
          "base_uri": "https://localhost:8080/"
        },
        "outputId": "030bd3c0-fe8d-4a19-b907-8bbd118a09c7"
      },
      "source": [
        "lista = [1, 2.0, 3 + 0j, 'cuatro', None, [5]]\n",
        "print(lista)"
      ],
      "execution_count": null,
      "outputs": [
        {
          "output_type": "stream",
          "text": [
            "[1, 2.0, (3+0j), 'cuatro', None, [5]]\n"
          ],
          "name": "stdout"
        }
      ]
    },
    {
      "cell_type": "code",
      "metadata": {
        "id": "PXeA6z5OdhIQ",
        "colab": {
          "base_uri": "https://localhost:8080/"
        },
        "outputId": "f8468677-58c0-4d31-e7f3-ad8ed6f17077"
      },
      "source": [
        "len(lista)"
      ],
      "execution_count": null,
      "outputs": [
        {
          "output_type": "execute_result",
          "data": {
            "text/plain": [
              "6"
            ]
          },
          "metadata": {
            "tags": []
          },
          "execution_count": 21
        }
      ]
    },
    {
      "cell_type": "code",
      "metadata": {
        "id": "c3BXMlpRdXKj",
        "colab": {
          "base_uri": "https://localhost:8080/"
        },
        "outputId": "a25c3286-af59-4eea-bd9f-e9e1db457354"
      },
      "source": [
        "type(lista)"
      ],
      "execution_count": null,
      "outputs": [
        {
          "output_type": "execute_result",
          "data": {
            "text/plain": [
              "list"
            ]
          },
          "metadata": {
            "tags": []
          },
          "execution_count": 22
        }
      ]
    },
    {
      "cell_type": "markdown",
      "metadata": {
        "id": "VVzG9MJTW__z"
      },
      "source": [
        "Este tipo de flexibilidad es una pieza esencial de lo que hace que el código de Python sea relativamente rápido y fácil de escribir. Sin embargo, como veremos, esta flexibilidad tiene su \"punto bajo\": nos costará tiempo de cómputo."
      ]
    },
    {
      "cell_type": "markdown",
      "metadata": {
        "id": "IjJ4Xe-zXKCI"
      },
      "source": [
        "<p><a name=\"ind\"></a></p>\n",
        "\n",
        "### **Indexación y segmentación**\n",
        "\n",
        "Python nos proporciona acceso a los elementos de la lista a través de la indexación de elementos individuales y la segmentación de elementos múltiples. Como veremos, ambos están indicados por una sintaxis de corchetes. \n",
        "\n",
        "**Indexación:** \n",
        "\n",
        "Definamos una lista con los primeros cuatro números pares:\n",
        "\n",
        "\n",
        "\n"
      ]
    },
    {
      "cell_type": "code",
      "metadata": {
        "id": "yiKw3Ri0XB3t",
        "colab": {
          "base_uri": "https://localhost:8080/"
        },
        "outputId": "5d901193-36cd-4d0b-85d6-b5985a85133b"
      },
      "source": [
        "type(lista[2])"
      ],
      "execution_count": null,
      "outputs": [
        {
          "output_type": "execute_result",
          "data": {
            "text/plain": [
              "complex"
            ]
          },
          "metadata": {
            "tags": []
          },
          "execution_count": 24
        }
      ]
    },
    {
      "cell_type": "markdown",
      "metadata": {
        "id": "kRYWQEGFYooB"
      },
      "source": [
        "cuyos índices se ilustran en la siguiente figura:"
      ]
    },
    {
      "cell_type": "code",
      "metadata": {
        "id": "9THYP9YKpemr"
      },
      "source": [
        "l_ej = [2, 4, 6, 8]"
      ],
      "execution_count": null,
      "outputs": []
    },
    {
      "cell_type": "markdown",
      "metadata": {
        "id": "-MhsVaJoX2_1"
      },
      "source": [
        "![](https://i.imgur.com/Bt04CcC.png)\n",
        "\n",
        "Podemos acceder a un elemento de la lista indicando el índice correspondiente a este mediante corchetes:"
      ]
    },
    {
      "cell_type": "code",
      "metadata": {
        "id": "yR4ZCE3pgAwH",
        "colab": {
          "base_uri": "https://localhost:8080/"
        },
        "outputId": "002530d1-abaf-47de-b0e5-cc5fa1dc7135"
      },
      "source": [
        "print(l_ej[0])\n",
        "print(l_ej[2])\n",
        "print(l_ej[3])"
      ],
      "execution_count": null,
      "outputs": [
        {
          "output_type": "stream",
          "text": [
            "2\n",
            "6\n",
            "8\n"
          ],
          "name": "stdout"
        }
      ]
    },
    {
      "cell_type": "markdown",
      "metadata": {
        "id": "ALEDfXTJaGWM"
      },
      "source": [
        "Note que en Python, el primero elemento de la lista corresponde a la posición `0`, y no a la posición `1`, que corresponde al segundo elemento.\n",
        "\n",
        "Alternativamente podemos acceder a los elementos de la lista en el orden opuesto con números negativos, comenzando desde `-1`:"
      ]
    },
    {
      "cell_type": "code",
      "metadata": {
        "id": "BJSsS4liaTUO",
        "colab": {
          "base_uri": "https://localhost:8080/"
        },
        "outputId": "894e4959-78e5-437a-94f8-418d1d7624ef"
      },
      "source": [
        "print(l_ej[-4])\n",
        "print(l_ej[-2])\n",
        "print(l_ej[-1])"
      ],
      "execution_count": null,
      "outputs": [
        {
          "output_type": "stream",
          "text": [
            "2\n",
            "6\n",
            "8\n"
          ],
          "name": "stdout"
        }
      ]
    },
    {
      "cell_type": "markdown",
      "metadata": {
        "id": "8nvC3nKQaqGT"
      },
      "source": [
        "**Nota**: *Este esquema de indexación aplica también a las cadenas de caracteres.*"
      ]
    },
    {
      "cell_type": "code",
      "metadata": {
        "id": "9xEuI6Qn9Vo6",
        "colab": {
          "base_uri": "https://localhost:8080/"
        },
        "outputId": "062468fd-fe5a-4721-d57f-4c9be7c7e928"
      },
      "source": [
        "cadena = 'Hola.'\n",
        "\n",
        "print(cadena[2])\n",
        "print(cadena[-1])"
      ],
      "execution_count": null,
      "outputs": [
        {
          "output_type": "stream",
          "text": [
            "l\n",
            ".\n"
          ],
          "name": "stdout"
        }
      ]
    },
    {
      "cell_type": "markdown",
      "metadata": {
        "id": "akDkcXaVajFP"
      },
      "source": [
        "**Segmentación**:\n",
        "\n",
        "Si la indexación es un medio para obtener un único valor de la lista, la *segmentación* es un medio para acceder a múltiples valores de las listas (o cadenas). La sintáxis para la segmentación es de la forma\n",
        "\n",
        "> \n",
        "\n",
        "    lista[inicio:final:paso]\n",
        "\n",
        "en donde se extraen los elementos de la lista entre la posiciones `inicio` (se incluye) y `final` (no se incluye), con cierto `paso`:\n"
      ]
    },
    {
      "cell_type": "code",
      "metadata": {
        "id": "CkkboXlqac4X",
        "colab": {
          "base_uri": "https://localhost:8080/"
        },
        "outputId": "96c25288-2af6-4bb9-ead7-3ba5ed2b4c4b"
      },
      "source": [
        "print(l_ej[0:3])\n",
        "print(l_ej[0:4])"
      ],
      "execution_count": null,
      "outputs": [
        {
          "output_type": "stream",
          "text": [
            "[2, 4, 6]\n",
            "[2, 4, 6, 8]\n"
          ],
          "name": "stdout"
        }
      ]
    },
    {
      "cell_type": "markdown",
      "metadata": {
        "id": "LP0tO3pwa5fA"
      },
      "source": [
        "Si omitimos el primer índice, Python lo toma como 0, por lo que podemos escribir de manera equivalente:\n"
      ]
    },
    {
      "cell_type": "code",
      "metadata": {
        "id": "69OySuXDa3M2",
        "colab": {
          "base_uri": "https://localhost:8080/"
        },
        "outputId": "9e1777c7-019c-4a5c-f423-b4e01dd2720b"
      },
      "source": [
        "print(l_ej[:3])"
      ],
      "execution_count": null,
      "outputs": [
        {
          "output_type": "stream",
          "text": [
            "[2, 4, 6]\n"
          ],
          "name": "stdout"
        }
      ]
    },
    {
      "cell_type": "markdown",
      "metadata": {
        "id": "Oaa9Hx_ubKa3"
      },
      "source": [
        "De forma análoga, si no especificamos el final, Python realiza la segmentación hasta el último elemento de la lista:"
      ]
    },
    {
      "cell_type": "code",
      "metadata": {
        "id": "Dgxoaxqwa9ic",
        "colab": {
          "base_uri": "https://localhost:8080/"
        },
        "outputId": "36e03fd2-04d9-43c4-b3f3-c3e3b21bdffd"
      },
      "source": [
        "print(l_ej[1:4])\n",
        "print(l_ej[1:])"
      ],
      "execution_count": null,
      "outputs": [
        {
          "output_type": "stream",
          "text": [
            "[4, 6, 8]\n",
            "[4, 6, 8]\n"
          ],
          "name": "stdout"
        }
      ]
    },
    {
      "cell_type": "code",
      "metadata": {
        "colab": {
          "base_uri": "https://localhost:8080/"
        },
        "id": "qV-ivBqDqsje",
        "outputId": "6828d257-91cb-4e9c-d939-ebac3431f294"
      },
      "source": [
        "print(l_ej[-3:])"
      ],
      "execution_count": null,
      "outputs": [
        {
          "output_type": "stream",
          "text": [
            "[4, 6, 8]\n"
          ],
          "name": "stdout"
        }
      ]
    },
    {
      "cell_type": "code",
      "metadata": {
        "colab": {
          "base_uri": "https://localhost:8080/"
        },
        "id": "e9myv4xSqyp7",
        "outputId": "58c7c1fd-e005-48e0-88fe-40041db29111"
      },
      "source": [
        "print(l_ej[:1000])"
      ],
      "execution_count": null,
      "outputs": [
        {
          "output_type": "stream",
          "text": [
            "[2, 4, 6, 8]\n"
          ],
          "name": "stdout"
        }
      ]
    },
    {
      "cell_type": "markdown",
      "metadata": {
        "id": "AP5DOO1xbkwz"
      },
      "source": [
        "También es posible especificar un tercer número entero que represente el tamaño del paso:"
      ]
    },
    {
      "cell_type": "code",
      "metadata": {
        "id": "ZNUF9xVPbQcK",
        "colab": {
          "base_uri": "https://localhost:8080/"
        },
        "outputId": "55a86372-be60-4a00-f832-b0d46a4f786f"
      },
      "source": [
        "print(l_ej[0:4:2])\n",
        "print(l_ej[0::2])"
      ],
      "execution_count": null,
      "outputs": [
        {
          "output_type": "stream",
          "text": [
            "[2, 6]\n",
            "[2, 6]\n"
          ],
          "name": "stdout"
        }
      ]
    },
    {
      "cell_type": "code",
      "metadata": {
        "id": "3CIFQtWJffBA",
        "colab": {
          "base_uri": "https://localhost:8080/"
        },
        "outputId": "e2f82363-93e5-48e3-b4a4-98b36b771d8c"
      },
      "source": [
        "print(l_ej[1:4:2])\n",
        "print(l_ej[1::2])"
      ],
      "execution_count": null,
      "outputs": [
        {
          "output_type": "stream",
          "text": [
            "[4, 8]\n",
            "[4, 8]\n"
          ],
          "name": "stdout"
        }
      ]
    },
    {
      "cell_type": "markdown",
      "metadata": {
        "id": "GmnDZXXxbr8q"
      },
      "source": [
        "Ahora, si pasamos el paso como un número negativo, el inicio y el final de la segmentación se intercambian:"
      ]
    },
    {
      "cell_type": "code",
      "metadata": {
        "id": "7WxK_69Xbo0S",
        "colab": {
          "base_uri": "https://localhost:8080/"
        },
        "outputId": "e9ce2ea3-ae3a-47da-b919-b0a1a21406f3"
      },
      "source": [
        "print(l_ej[-1:0:-1])\n",
        "print(l_ej[:0:-1])"
      ],
      "execution_count": null,
      "outputs": [
        {
          "output_type": "stream",
          "text": [
            "[8, 6, 4]\n",
            "[8, 6, 4]\n"
          ],
          "name": "stdout"
        }
      ]
    },
    {
      "cell_type": "markdown",
      "metadata": {
        "id": "Y_lZpGO4cCK9"
      },
      "source": [
        "Como mencionamos, las listas son objetos mutables. Podemos utilizar tanto la indexación como la segmentación para modificar elementos de una lista:\n"
      ]
    },
    {
      "cell_type": "code",
      "metadata": {
        "id": "nsH6CYwdcBcn"
      },
      "source": [
        "l_ej[0] = 1000"
      ],
      "execution_count": null,
      "outputs": []
    },
    {
      "cell_type": "code",
      "metadata": {
        "id": "D-WeSnd1gcut",
        "colab": {
          "base_uri": "https://localhost:8080/"
        },
        "outputId": "903b112b-05d0-47fb-f52c-cbfa65db55f8"
      },
      "source": [
        "l_ej"
      ],
      "execution_count": null,
      "outputs": [
        {
          "output_type": "execute_result",
          "data": {
            "text/plain": [
              "[1000, 4, 6, 8]"
            ]
          },
          "metadata": {
            "tags": []
          },
          "execution_count": 53
        }
      ]
    },
    {
      "cell_type": "code",
      "metadata": {
        "id": "w8k6SUqDb15p"
      },
      "source": [
        "l_ej[1:4] = [1, 2, 3]"
      ],
      "execution_count": null,
      "outputs": []
    },
    {
      "cell_type": "code",
      "metadata": {
        "id": "PzBx_8CkgjBh",
        "colab": {
          "base_uri": "https://localhost:8080/"
        },
        "outputId": "ccb57813-c60c-4211-c015-55ee93572aeb"
      },
      "source": [
        "l_ej"
      ],
      "execution_count": null,
      "outputs": [
        {
          "output_type": "execute_result",
          "data": {
            "text/plain": [
              "[1000, 1, 2, 3]"
            ]
          },
          "metadata": {
            "tags": []
          },
          "execution_count": 55
        }
      ]
    },
    {
      "cell_type": "markdown",
      "metadata": {
        "id": "v6B-fcRUcPmb"
      },
      "source": [
        "**Ejercicio 1:** Cree una lista que contenga los números pares en el intervalo [1, 10]"
      ]
    },
    {
      "cell_type": "code",
      "metadata": {
        "id": "5n97GhqhcfWM",
        "colab": {
          "base_uri": "https://localhost:8080/"
        },
        "outputId": "7f24a3d6-22a3-422c-9213-be2925975953"
      },
      "source": [
        "l = []\n",
        "\n",
        "for i in range(1, 11):\n",
        "  if i % 2 == 0:\n",
        "    l.append(i)\n",
        "\n",
        "print(l)"
      ],
      "execution_count": null,
      "outputs": [
        {
          "output_type": "stream",
          "text": [
            "[2, 4, 6, 8, 10]\n"
          ],
          "name": "stdout"
        }
      ]
    },
    {
      "cell_type": "markdown",
      "metadata": {
        "id": "0zL7_1yAEtfJ"
      },
      "source": [
        "Podemos modificar el rango de manera que solo se itere sobre números pares:"
      ]
    },
    {
      "cell_type": "code",
      "metadata": {
        "id": "1KKWQw17cJgQ",
        "colab": {
          "base_uri": "https://localhost:8080/"
        },
        "outputId": "b226c7d9-2e57-4606-b47e-e5d22d71c253"
      },
      "source": [
        "l = []\n",
        "\n",
        "for i in range(2, 11,2):\n",
        "  l.append(i)\n",
        "\n",
        "print(l)"
      ],
      "execution_count": null,
      "outputs": [
        {
          "output_type": "stream",
          "text": [
            "[2, 4, 6, 8, 10]\n"
          ],
          "name": "stdout"
        }
      ]
    },
    {
      "cell_type": "markdown",
      "metadata": {
        "id": "RkIFSkmJcks8"
      },
      "source": [
        "**Ejercicio 2:** Solicite al usuario una palabra e imprima si esta es un palíndromo o no. (Un palíndromo es una palabra o frase que se lee igual hacia adelante y hacia atrás)"
      ]
    },
    {
      "cell_type": "code",
      "metadata": {
        "id": "9ysXywwCcaU2",
        "colab": {
          "base_uri": "https://localhost:8080/"
        },
        "outputId": "8fd00211-ee85-4960-e83e-0898bacdf045"
      },
      "source": [
        "palabra=input(\"Ingrese una palabra: \")\n",
        "\n",
        "if palabra == palabra[::-1]:\n",
        "  print(\"Palíndromo\")\n",
        "else:\n",
        "  print(\"No palíndromo\")"
      ],
      "execution_count": null,
      "outputs": [
        {
          "output_type": "stream",
          "text": [
            "Ingrese una palabra: anita\n",
            "No palíndromo\n"
          ],
          "name": "stdout"
        }
      ]
    },
    {
      "cell_type": "code",
      "metadata": {
        "id": "Bieqr6-8i8-3"
      },
      "source": [
        ""
      ],
      "execution_count": null,
      "outputs": []
    },
    {
      "cell_type": "code",
      "metadata": {
        "id": "gUM1Zg1zjUB3",
        "colab": {
          "base_uri": "https://localhost:8080/"
        },
        "outputId": "8ea7a66b-ca75-49e3-ce0b-1a014fde25ff"
      },
      "source": [
        "texto=input(\"Ingrese una palabra: \")\n",
        "texto_clean = texto.lower().replace(' ', '')\n",
        "\n",
        "if texto_clean == texto_clean[::-1]:\n",
        "  print(f\"{texto} es palíndromo\")\n",
        "else:\n",
        "  print(f\"{texto}  no es palíndromo\")"
      ],
      "execution_count": null,
      "outputs": [
        {
          "output_type": "stream",
          "text": [
            "Ingrese una palabra: Aníta lava la tina\n",
            "Aníta lava la tina  no es palíndromo\n"
          ],
          "name": "stdout"
        }
      ]
    },
    {
      "cell_type": "markdown",
      "metadata": {
        "id": "EZJ0-o7fcsm5"
      },
      "source": [
        "**Ejercicio 3:** Dado el siguiente listado de alumnos de una clase\n",
        "\n",
        "> \n",
        "    alumnos = ['Ana', 'Luis', 'Pedro', 'Marta', 'Nerea', 'Pablo']\n",
        "\n",
        "Crear dos listas: una que contenga la primera letra de cada nombre y otra que contenga la última letra"
      ]
    },
    {
      "cell_type": "code",
      "metadata": {
        "id": "k5u6HpnVcvHQ",
        "colab": {
          "base_uri": "https://localhost:8080/"
        },
        "outputId": "ce0e6e49-ac7d-42c3-c3dd-0e0cbaa9549a"
      },
      "source": [
        "alumnos = ['Ana', 'Luis', 'Pedro', 'Marta', 'Nerea', 'Pablo']\n",
        "primera = []\n",
        "ultima = []\n",
        "\n",
        "for alumno in alumnos:\n",
        "  primera.append(alumno[0])\n",
        "  ultima.append(alumno[-1])\n",
        "\n",
        "print(primera)\n",
        "print(ultima)"
      ],
      "execution_count": null,
      "outputs": [
        {
          "output_type": "stream",
          "text": [
            "['A', 'L', 'P', 'M', 'N', 'P']\n",
            "['a', 's', 'o', 'a', 'a', 'o']\n"
          ],
          "name": "stdout"
        }
      ]
    },
    {
      "cell_type": "markdown",
      "metadata": {
        "id": "xZFxabFnc0lT"
      },
      "source": [
        "<p><a name=\"lpc\"></a></p>\n",
        "\n",
        "### **Listas por comprensión**\n",
        "\n",
        "Las listas por comprensión son simplemente una forma de comprimir un ciclo de construcción de listas en una sola línea corta y legible. La sintáxis es de la forma\n",
        "\n",
        ">  \n",
        "\n",
        "    [expresion for var in secuencia if cond] \n",
        "\n",
        "\n",
        "donde *expresion* es cualquier expresión válida, *var* es la variable de iteración, *secuencia* es cualquier objeto de Python iterable, y *cond* es alguna condición que se imponga sobre la variable de iteración. Por ejemplo, para construir una lista con el cuadrado de los primeros 5 enteros podríamos escribir lo siguiente:"
      ]
    },
    {
      "cell_type": "code",
      "metadata": {
        "id": "DetUhoLhcxkF",
        "colab": {
          "base_uri": "https://localhost:8080/"
        },
        "outputId": "85f2d593-5067-4f23-f87d-b28a6deaff9e"
      },
      "source": [
        "l = []\n",
        "\n",
        "for i in range(6):\n",
        "  l.append(i)\n",
        "print(l)"
      ],
      "execution_count": null,
      "outputs": [
        {
          "output_type": "stream",
          "text": [
            "[0, 1, 2, 3, 4, 5]\n"
          ],
          "name": "stdout"
        }
      ]
    },
    {
      "cell_type": "markdown",
      "metadata": {
        "id": "B0atXShUdIi9"
      },
      "source": [
        "La lista por comprensión equivalente es la siguiente:"
      ]
    },
    {
      "cell_type": "code",
      "metadata": {
        "id": "uL9ZdUmqdJCE",
        "colab": {
          "base_uri": "https://localhost:8080/"
        },
        "outputId": "66f2b223-56ef-4c6b-d137-3c799c3ee084"
      },
      "source": [
        "[i for i in range(6)]"
      ],
      "execution_count": null,
      "outputs": [
        {
          "output_type": "execute_result",
          "data": {
            "text/plain": [
              "[0, 1, 2, 3, 4, 5]"
            ]
          },
          "metadata": {
            "tags": []
          },
          "execution_count": 65
        }
      ]
    },
    {
      "cell_type": "code",
      "metadata": {
        "id": "xvOFOH4XkaHs",
        "colab": {
          "base_uri": "https://localhost:8080/"
        },
        "outputId": "0a534ece-e17c-42c6-dc65-a94eca528b74"
      },
      "source": [
        "l_p = []\n",
        "\n",
        "for i in range(11):\n",
        "  if i % 2 == 0:\n",
        "    l_p.append(i)\n",
        "\n",
        "print(l_p)"
      ],
      "execution_count": null,
      "outputs": [
        {
          "output_type": "stream",
          "text": [
            "[0, 2, 4, 6, 8, 10]\n"
          ],
          "name": "stdout"
        }
      ]
    },
    {
      "cell_type": "code",
      "metadata": {
        "colab": {
          "base_uri": "https://localhost:8080/"
        },
        "id": "GzERo0XQvYFF",
        "outputId": "41f31f1c-cef5-4569-a1de-021f2b088e4c"
      },
      "source": [
        "[i for i in range(11) if i % 2 == 0]"
      ],
      "execution_count": null,
      "outputs": [
        {
          "output_type": "execute_result",
          "data": {
            "text/plain": [
              "[0, 2, 4, 6, 8, 10]"
            ]
          },
          "metadata": {
            "tags": []
          },
          "execution_count": 67
        }
      ]
    },
    {
      "cell_type": "markdown",
      "metadata": {
        "id": "IQQm9SZwdRpd"
      },
      "source": [
        "Observe las equivalencias entre ambos bloques de código. Al igual que con muchas sentencias de Python, casi podemos leer el significado de esta sentencia: \"construya una lista que consista en el cuadrado de `i` para cada `i` desde 1 hasta 5\". \n",
        "\n",
        "A veces vamos a querer crear una lista no solo a partir de un valor, sino a partir de dos. Por ejemplo:\n"
      ]
    },
    {
      "cell_type": "code",
      "metadata": {
        "id": "IScS_vXadLbs",
        "colab": {
          "base_uri": "https://localhost:8080/"
        },
        "outputId": "b1532c9c-8723-4f49-88c1-72a678f33a74"
      },
      "source": [
        "l_coins = []\n",
        "\n",
        "for i in range(2):\n",
        "  for j in range(2):\n",
        "    l_coins.append((i , j))\n",
        "\n",
        "l_coins"
      ],
      "execution_count": null,
      "outputs": [
        {
          "output_type": "execute_result",
          "data": {
            "text/plain": [
              "[(0, 0), (0, 1), (1, 0), (1, 1)]"
            ]
          },
          "metadata": {
            "tags": []
          },
          "execution_count": 68
        }
      ]
    },
    {
      "cell_type": "markdown",
      "metadata": {
        "id": "XeAtAvRvdXzM"
      },
      "source": [
        "Este tipo de ciclos aninados se pueden incluir en una lista por comprensión simplemente añadiendo otro ciclo `for`:"
      ]
    },
    {
      "cell_type": "code",
      "metadata": {
        "id": "Q5lwEmuhdWPF",
        "colab": {
          "base_uri": "https://localhost:8080/"
        },
        "outputId": "653172c7-495a-44eb-8457-73b2a5def37e"
      },
      "source": [
        "[(i, j) for i in range(2) for j in range(2)]"
      ],
      "execution_count": null,
      "outputs": [
        {
          "output_type": "execute_result",
          "data": {
            "text/plain": [
              "[(0, 0), (0, 1), (1, 0), (1, 1)]"
            ]
          },
          "metadata": {
            "tags": []
          },
          "execution_count": 69
        }
      ]
    },
    {
      "cell_type": "markdown",
      "metadata": {
        "id": "NUV2M7REdbqX"
      },
      "source": [
        "Podemos controlar aún más la iteración agregando un condicional al final de la expresión. Por ejemplo, podríamos escribir el ejemplo 1 con listas por comprensión de la siguiente manera:\n"
      ]
    },
    {
      "cell_type": "markdown",
      "metadata": {
        "id": "BB1MIUYBFmq8"
      },
      "source": [
        "O alternativamente"
      ]
    },
    {
      "cell_type": "markdown",
      "metadata": {
        "id": "pq_9YE89dl2b"
      },
      "source": [
        "Incluso podemos añadir las sentencias `if` y `else` para tener mayor control sobre los elementos de la lista. \n",
        "\n",
        "Por ejemplo, si quisieramos construir una lista con 10 elementos, tal que sus primeros cinco elementos sean los primeros cinco números enteros, y que el resto de elementos sean el cuadrado de los enteros 6,7,8,9 y 10, prodríamos escribir:"
      ]
    },
    {
      "cell_type": "code",
      "metadata": {
        "id": "UswOqn-4l-0t",
        "colab": {
          "base_uri": "https://localhost:8080/"
        },
        "outputId": "c5b287e9-a943-475d-9088-3a2d0d7d37d9"
      },
      "source": [
        "x = 5\n",
        "\n",
        "y = 1 if x == 0 else 2\n",
        "print(y)"
      ],
      "execution_count": null,
      "outputs": [
        {
          "output_type": "stream",
          "text": [
            "2\n"
          ],
          "name": "stdout"
        }
      ]
    },
    {
      "cell_type": "code",
      "metadata": {
        "id": "UNGXHV4CmWgV",
        "colab": {
          "base_uri": "https://localhost:8080/"
        },
        "outputId": "d62dce62-e643-44c9-b734-45d45caf616c"
      },
      "source": [
        "l_ej2 = []\n",
        "for i in range(11):\n",
        "  if i < 6 :\n",
        "    l_ej2.append( i ** 2)\n",
        "  else:\n",
        "    l_ej2.append( i )\n",
        "\n",
        "print(l_ej2)"
      ],
      "execution_count": null,
      "outputs": [
        {
          "output_type": "stream",
          "text": [
            "[0, 1, 4, 9, 16, 25, 6, 7, 8, 9, 10]\n"
          ],
          "name": "stdout"
        }
      ]
    },
    {
      "cell_type": "code",
      "metadata": {
        "id": "eCGMW3b1djbD",
        "colab": {
          "base_uri": "https://localhost:8080/"
        },
        "outputId": "c4505762-fe9b-48fa-9ac3-2c6b1af54c00"
      },
      "source": [
        "[i ** 2 if i < 6 else i for i in range(11)]"
      ],
      "execution_count": null,
      "outputs": [
        {
          "output_type": "execute_result",
          "data": {
            "text/plain": [
              "[0, 1, 4, 9, 16, 25, 6, 7, 8, 9, 10]"
            ]
          },
          "metadata": {
            "tags": []
          },
          "execution_count": 72
        }
      ]
    },
    {
      "cell_type": "markdown",
      "metadata": {
        "id": "ixPYGlDmdrnm"
      },
      "source": [
        "**Ejercicio 4:** Resuelva el ejercicio 3 utilizando listas por comprensión."
      ]
    },
    {
      "cell_type": "code",
      "metadata": {
        "id": "WWBACv1BdnnC"
      },
      "source": [
        ""
      ],
      "execution_count": null,
      "outputs": []
    },
    {
      "cell_type": "markdown",
      "metadata": {
        "id": "CfA8C6idgFyd"
      },
      "source": [
        "<p><a name=\"tup\"></a></p>\n",
        "\n",
        "# **Tuplas**\n",
        "\n",
        "Las tuplas son en muchos aspectos similares a las listas, pero se definen entre paréntesis en lugar de corchetes, o separando los elementos por una coma:"
      ]
    },
    {
      "cell_type": "code",
      "metadata": {
        "id": "x7wSYTh1gP6V",
        "colab": {
          "base_uri": "https://localhost:8080/"
        },
        "outputId": "4ca87f6a-8d4c-40b2-d0cc-30a33e8c1cec"
      },
      "source": [
        "t = tuple([1, 2, 3])\n",
        "print(t)"
      ],
      "execution_count": null,
      "outputs": [
        {
          "output_type": "stream",
          "text": [
            "(1, 2, 3)\n"
          ],
          "name": "stdout"
        }
      ]
    },
    {
      "cell_type": "markdown",
      "metadata": {
        "id": "po2q60kZbDga"
      },
      "source": [
        "O solo separando los elementos sin el paréntesis"
      ]
    },
    {
      "cell_type": "code",
      "metadata": {
        "id": "kMlXgGJtgR_M",
        "colab": {
          "base_uri": "https://localhost:8080/"
        },
        "outputId": "f9a057bb-faa2-443e-d21d-241f1dbb5ea9"
      },
      "source": [
        "t = (1, 2, 3)\n",
        "print(t)"
      ],
      "execution_count": null,
      "outputs": [
        {
          "output_type": "stream",
          "text": [
            "(1, 2, 3)\n"
          ],
          "name": "stdout"
        }
      ]
    },
    {
      "cell_type": "markdown",
      "metadata": {
        "id": "8XMV8vqHghIl"
      },
      "source": [
        "Vemos que en Python las tuplas son un objeto de tipo `tuple`. Al igual que las listas, las tuplas tienen una noción de longitud y de orden, por lo que podremos indexar y segmentar estos objetos:"
      ]
    },
    {
      "cell_type": "code",
      "metadata": {
        "id": "KPsdJ3magl09",
        "colab": {
          "base_uri": "https://localhost:8080/"
        },
        "outputId": "39b1917f-2a18-4ada-fa82-706ff7343358"
      },
      "source": [
        "type(t)"
      ],
      "execution_count": null,
      "outputs": [
        {
          "output_type": "execute_result",
          "data": {
            "text/plain": [
              "tuple"
            ]
          },
          "metadata": {
            "tags": []
          },
          "execution_count": 81
        }
      ]
    },
    {
      "cell_type": "markdown",
      "metadata": {
        "id": "u7yTZx71gmLj"
      },
      "source": [
        "La principal característica distintiva de las tuplas es que son estructuras de datos inmutables, lo cual significa que una vez que se crean, no es posible modificar su tamaño y contenido. Si intentamos modificar un elemento de la tupla obtendremos un error:"
      ]
    },
    {
      "cell_type": "code",
      "metadata": {
        "id": "C01F-2yootol",
        "colab": {
          "base_uri": "https://localhost:8080/"
        },
        "outputId": "796c9122-9e4a-416b-abf1-c3beaecec524"
      },
      "source": [
        "t = 4 , 5 , 6 , 7 , 8 , 9\n",
        "type(t)"
      ],
      "execution_count": null,
      "outputs": [
        {
          "output_type": "execute_result",
          "data": {
            "text/plain": [
              "tuple"
            ]
          },
          "metadata": {
            "tags": []
          },
          "execution_count": 82
        }
      ]
    },
    {
      "cell_type": "code",
      "metadata": {
        "id": "5NbqmUF_gqvs",
        "colab": {
          "base_uri": "https://localhost:8080/"
        },
        "outputId": "361f1727-e591-442e-8cee-eb3c66d14ed5"
      },
      "source": [
        "t[1: 4]"
      ],
      "execution_count": null,
      "outputs": [
        {
          "output_type": "execute_result",
          "data": {
            "text/plain": [
              "(5, 6, 7)"
            ]
          },
          "metadata": {
            "tags": []
          },
          "execution_count": 83
        }
      ]
    },
    {
      "cell_type": "code",
      "metadata": {
        "colab": {
          "base_uri": "https://localhost:8080/"
        },
        "id": "AqEyxKNF0vdQ",
        "outputId": "6e35c6be-c970-42bd-81fc-7ec733aa080e"
      },
      "source": [
        "try:\n",
        "  t[0] = 100\n",
        "except Exception as e:\n",
        "  print(e)"
      ],
      "execution_count": null,
      "outputs": [
        {
          "output_type": "stream",
          "text": [
            "'tuple' object does not support item assignment\n"
          ],
          "name": "stdout"
        }
      ]
    },
    {
      "cell_type": "markdown",
      "metadata": {
        "id": "IOrrwsJLgwN0"
      },
      "source": [
        "**Unpacking**\n",
        "\n",
        "Las tuplas cumplen una función doble: pueden usarse como listas inmutables y también para almacenar información sin una etiqueta explícita. Por ejemplo, supongamos que queremos almacenar la informacion de un punto en el plano cartesiano $(x,y)$. Podríamos tener esta información en una tupla, donde se usará la posición dentro de la tupla para referenciar los puntos\n",
        "\n"
      ]
    },
    {
      "cell_type": "code",
      "metadata": {
        "id": "SZ8-vheEg1bq",
        "colab": {
          "base_uri": "https://localhost:8080/"
        },
        "outputId": "77a2e6ed-b00a-4469-8715-6291ff20c550"
      },
      "source": [
        "coordenadas = 4, 5\n",
        "\n",
        "x , y  = coordenadas\n",
        "print(x)"
      ],
      "execution_count": null,
      "outputs": [
        {
          "output_type": "stream",
          "text": [
            "4\n"
          ],
          "name": "stdout"
        }
      ]
    },
    {
      "cell_type": "code",
      "metadata": {
        "id": "66Bn0J_JpMqw",
        "colab": {
          "base_uri": "https://localhost:8080/"
        },
        "outputId": "97be9554-3680-4217-ae11-c4ebd29723b6"
      },
      "source": [
        "x = 7\n",
        "print(x , coordenadas)"
      ],
      "execution_count": null,
      "outputs": [
        {
          "output_type": "stream",
          "text": [
            "7 (4, 5)\n"
          ],
          "name": "stdout"
        }
      ]
    },
    {
      "cell_type": "code",
      "metadata": {
        "colab": {
          "base_uri": "https://localhost:8080/"
        },
        "id": "rRII9zMA1QgE",
        "outputId": "1b891acb-4d06-478b-a009-b467661a0a50"
      },
      "source": [
        "coordenadas = 7, 5\n",
        "x = 7\n",
        "print(x , coordenadas)"
      ],
      "execution_count": null,
      "outputs": [
        {
          "output_type": "stream",
          "text": [
            "7 (7, 5)\n"
          ],
          "name": "stdout"
        }
      ]
    },
    {
      "cell_type": "markdown",
      "metadata": {
        "id": "Tp-Sl0HGg3Xe"
      },
      "source": [
        "Note que en esta expresión, ordenar la tupla destruiría la información ya que el significado de cada elemento está dado por su posición en la tupla. Esto funciona particularmente bien en las tuplas debido al mecanismo de *unpacking* de estos objetos. Veámoslo con un ejemplo: \n"
      ]
    },
    {
      "cell_type": "code",
      "metadata": {
        "id": "t6GvOh5Kg35Q",
        "colab": {
          "base_uri": "https://localhost:8080/"
        },
        "outputId": "a0b3ef7e-356d-454f-e1a0-02a5be254795"
      },
      "source": [
        "print(sorted(coordenadas))\n",
        "print(coordenadas)"
      ],
      "execution_count": null,
      "outputs": [
        {
          "output_type": "stream",
          "text": [
            "[5, 7]\n",
            "(7, 5)\n"
          ],
          "name": "stdout"
        }
      ]
    },
    {
      "cell_type": "code",
      "metadata": {
        "colab": {
          "base_uri": "https://localhost:8080/"
        },
        "id": "TdAqXOaK1nih",
        "outputId": "b7eb74d4-8f86-485b-99e3-bcb0f9958ad8"
      },
      "source": [
        "nombre, edad , ciudad = (\"Carlos\", 45, \"Medellin\")\n",
        "\n",
        "print(nombre, ciudad)"
      ],
      "execution_count": null,
      "outputs": [
        {
          "output_type": "stream",
          "text": [
            "Carlos Medellin\n"
          ],
          "name": "stdout"
        }
      ]
    },
    {
      "cell_type": "markdown",
      "metadata": {
        "id": "nWxnX3pUg9TT"
      },
      "source": [
        "Note que hemos asignado `(\"Carlos\", 45, \"Medellin\")` a `nombre`, `edad` y `ciudad`, respectivamente, en una sola sentencia. A este tipo de procesos se hace referencia cuando se habla del mecanismo de *unpacking* de las tuplas. Por ejemplo, este es el mecanismo que nos permite definir múltiples variables en una sola sentencia\n",
        "\n",
        "\n",
        "   "
      ]
    },
    {
      "cell_type": "markdown",
      "metadata": {
        "id": "b52ltvRBhD4B"
      },
      "source": [
        "La forma más usada del *unpacking* es la asignación paralela, es decir, la asignación de elementos de un objeto iterable a una tupla de variables:\n"
      ]
    },
    {
      "cell_type": "code",
      "metadata": {
        "id": "nvULkJ3dhBdt",
        "colab": {
          "base_uri": "https://localhost:8080/"
        },
        "outputId": "547c4e55-a0ba-4cfa-c601-1d616965a04e"
      },
      "source": [
        "a, b = 1, 2\n",
        "\n",
        "print(f'a = {a}')\n",
        "print(f'b = {b}')\n"
      ],
      "execution_count": null,
      "outputs": [
        {
          "output_type": "stream",
          "text": [
            "a = 1\n",
            "b = 2\n"
          ],
          "name": "stdout"
        }
      ]
    },
    {
      "cell_type": "code",
      "metadata": {
        "colab": {
          "base_uri": "https://localhost:8080/"
        },
        "id": "As8cQI8s2DoW",
        "outputId": "39337a29-be33-493f-c5b6-73a4b01258e3"
      },
      "source": [
        "a = 3\n",
        "print(f'a = {a}')\n",
        "print(f'b = {b}')"
      ],
      "execution_count": null,
      "outputs": [
        {
          "output_type": "stream",
          "text": [
            "a = 3\n",
            "b = 2\n"
          ],
          "name": "stdout"
        }
      ]
    },
    {
      "cell_type": "markdown",
      "metadata": {
        "id": "HpfyzLMtGP0E"
      },
      "source": [
        "Este mecanismo también permite \"desempaquetar\" listas:"
      ]
    },
    {
      "cell_type": "code",
      "metadata": {
        "id": "_oNa6ZcEhKah",
        "colab": {
          "base_uri": "https://localhost:8080/"
        },
        "outputId": "6a89370f-e440-4b39-bdcc-ba229f0f1593"
      },
      "source": [
        "x = [1, 2, 3]\n",
        "\n",
        "x1, x2, x3 = x\n",
        "\n",
        "print(x1, x3)"
      ],
      "execution_count": null,
      "outputs": [
        {
          "output_type": "stream",
          "text": [
            "1 3\n"
          ],
          "name": "stdout"
        }
      ]
    },
    {
      "cell_type": "markdown",
      "metadata": {
        "id": "Vi3B1ajUhbP4"
      },
      "source": [
        "Si, por ejemplo, solo queremos tomar una parte de la tupla, podemos utilizar una variable como `_` de la siguiente manera: "
      ]
    },
    {
      "cell_type": "code",
      "metadata": {
        "id": "fOW-PDUuhj4y",
        "colab": {
          "base_uri": "https://localhost:8080/"
        },
        "outputId": "08c672e3-ea0e-4689-be43-9b4046c36afb"
      },
      "source": [
        "coordenadas = 42359, 21584\n",
        "\n",
        "x, _ = coordenadas\n",
        "print(x)"
      ],
      "execution_count": null,
      "outputs": [
        {
          "output_type": "stream",
          "text": [
            "42359\n"
          ],
          "name": "stdout"
        }
      ]
    },
    {
      "cell_type": "code",
      "metadata": {
        "id": "OU-pek1cqIVh",
        "colab": {
          "base_uri": "https://localhost:8080/"
        },
        "outputId": "e08a05e4-d678-48c7-d1ba-d6ff266da8fe"
      },
      "source": [
        "print(_)"
      ],
      "execution_count": null,
      "outputs": [
        {
          "output_type": "stream",
          "text": [
            "21584\n"
          ],
          "name": "stdout"
        }
      ]
    },
    {
      "cell_type": "markdown",
      "metadata": {
        "id": "XEVKs1YyePpm"
      },
      "source": [
        "Podemos bien pensar entonces en un conjunto de ordenadas de pais y código postal, si queremos obtener entonces los paises podemos iterar por ambos y extraer solo el pais"
      ]
    },
    {
      "cell_type": "code",
      "metadata": {
        "id": "dDJ-AQ7uhb4k",
        "colab": {
          "base_uri": "https://localhost:8080/"
        },
        "outputId": "9e146a11-240e-43d0-a6ac-0976b7ad5955"
      },
      "source": [
        "codigo_postal =[('USA',21315), ('COL',15648),('BRA',48915)]\n",
        "\n",
        "for pais, _ in codigo_postal:\n",
        "  print(pais)"
      ],
      "execution_count": null,
      "outputs": [
        {
          "output_type": "stream",
          "text": [
            "USA\n",
            "COL\n",
            "BRA\n"
          ],
          "name": "stdout"
        }
      ]
    },
    {
      "cell_type": "markdown",
      "metadata": {
        "id": "XZcQWl9kewmv"
      },
      "source": [
        "<p><a name=\"dic\"></a></p>\n",
        "\n",
        "# **Diccionarios**\n",
        "\n",
        "Los diccionarios son mapeos extremadamente flexibles de claves a valores, y forman la base de gran parte de la implementación interna de Python. Se pueden crear mediante una lista separada por comas de pares `clave:valor` dentro de llaves:"
      ]
    },
    {
      "cell_type": "code",
      "metadata": {
        "id": "H8UkBFZ1fQLi",
        "colab": {
          "base_uri": "https://localhost:8080/"
        },
        "outputId": "4c5aa401-0c6d-4c48-f97f-3757f2b965d9"
      },
      "source": [
        "diccio = {'uno': 1, 'dos': 2, 'tres': 3}\n",
        "diccio"
      ],
      "execution_count": null,
      "outputs": [
        {
          "output_type": "execute_result",
          "data": {
            "text/plain": [
              "{'dos': 2, 'tres': 3, 'uno': 1}"
            ]
          },
          "metadata": {
            "tags": []
          },
          "execution_count": 107
        }
      ]
    },
    {
      "cell_type": "code",
      "metadata": {
        "id": "fglc-nv4r6ME",
        "colab": {
          "base_uri": "https://localhost:8080/"
        },
        "outputId": "24d6611c-e791-4bba-a737-c9ae126c3228"
      },
      "source": [
        "type(diccio)"
      ],
      "execution_count": null,
      "outputs": [
        {
          "output_type": "execute_result",
          "data": {
            "text/plain": [
              "dict"
            ]
          },
          "metadata": {
            "tags": []
          },
          "execution_count": 101
        }
      ]
    },
    {
      "cell_type": "markdown",
      "metadata": {
        "id": "fKLMqt1QfWBn"
      },
      "source": [
        "a cada par `clave:valor` se le conoce como un *item*. \n",
        "\n",
        "Alternativamente, podemos crear un objeto tipo `dict` directamente con el constructor `dict`"
      ]
    },
    {
      "cell_type": "code",
      "metadata": {
        "id": "9rAgLNcffT3u",
        "colab": {
          "base_uri": "https://localhost:8080/"
        },
        "outputId": "19f86f4f-4772-41c4-af90-39f011a54982"
      },
      "source": [
        "diccio = dict(uno = 1, dos = 2, tres = 3)\n",
        "print(diccio)"
      ],
      "execution_count": null,
      "outputs": [
        {
          "output_type": "stream",
          "text": [
            "{'uno': 1, 'dos': 2, 'tres': 3}\n"
          ],
          "name": "stdout"
        }
      ]
    },
    {
      "cell_type": "markdown",
      "metadata": {
        "id": "NHMh-ewKGu7h"
      },
      "source": [
        "Otra forma de construir diccionarios es pasarlo como una lista de tuplas ante el constructor \n",
        "\n",
        "```dict([(x,y),...,(a,b)])```"
      ]
    },
    {
      "cell_type": "code",
      "metadata": {
        "id": "rRLeAjBafbvE",
        "colab": {
          "base_uri": "https://localhost:8080/"
        },
        "outputId": "489b9890-69e3-4a73-987e-70e50efec013"
      },
      "source": [
        "dict([('uno', 1),('dos', 2),('tres',3)])\n"
      ],
      "execution_count": null,
      "outputs": [
        {
          "output_type": "execute_result",
          "data": {
            "text/plain": [
              "{'dos': 2, 'tres': 3, 'uno': 1}"
            ]
          },
          "metadata": {
            "tags": []
          },
          "execution_count": 106
        }
      ]
    },
    {
      "cell_type": "markdown",
      "metadata": {
        "id": "LDvXt0J7hvTA"
      },
      "source": [
        "Supongamos que queremos construir un diccionario a partir de `codigo_postal`"
      ]
    },
    {
      "cell_type": "code",
      "metadata": {
        "id": "231dKN4Kfe40",
        "colab": {
          "base_uri": "https://localhost:8080/"
        },
        "outputId": "2f467ade-eeee-42ac-8170-6641a5b1d2e4"
      },
      "source": [
        "cd = dict(codigo_postal)\n",
        "print(cd)"
      ],
      "execution_count": null,
      "outputs": [
        {
          "output_type": "stream",
          "text": [
            "{'USA': 21315, 'COL': 15648, 'BRA': 48915}\n"
          ],
          "name": "stdout"
        }
      ]
    },
    {
      "cell_type": "markdown",
      "metadata": {
        "id": "p0AwArU7hz4Q"
      },
      "source": [
        "donde las claves sean el país y los valores los códigos asociados. Utilizando el constructor `dict` esto se puede realizar fácilmente:"
      ]
    },
    {
      "cell_type": "code",
      "metadata": {
        "id": "Nq-9gL7chyBc",
        "colab": {
          "base_uri": "https://localhost:8080/"
        },
        "outputId": "94c885d1-4b77-4f44-945f-6ebfe4c4aca7"
      },
      "source": [
        "codigos = [(72,'CHI'), (47,'IND'), (53,'AUS')]\n",
        "\n",
        "dict(codigos)"
      ],
      "execution_count": null,
      "outputs": [
        {
          "output_type": "execute_result",
          "data": {
            "text/plain": [
              "{47: 'IND', 53: 'AUS', 72: 'CHI'}"
            ]
          },
          "metadata": {
            "tags": []
          },
          "execution_count": 113
        }
      ]
    },
    {
      "cell_type": "markdown",
      "metadata": {
        "id": "6VcqBm2Gh737"
      },
      "source": [
        "En el caso de la variable `codigos`"
      ]
    },
    {
      "cell_type": "markdown",
      "metadata": {
        "id": "tKoMIn0Kh_Z-"
      },
      "source": [
        "esto no será posible debido a que que las posiciones de país y código están intercambiadas"
      ]
    },
    {
      "cell_type": "markdown",
      "metadata": {
        "id": "6V8jcfi7iE0u"
      },
      "source": [
        "Para construir el diccionario en la forma requerida, podemos construirlo como un \"diccionario por comprensión\" como `{i:j for i,j in expresion}`"
      ]
    },
    {
      "cell_type": "code",
      "metadata": {
        "id": "03338Ppvh3UT",
        "colab": {
          "base_uri": "https://localhost:8080/"
        },
        "outputId": "f6821d51-60b9-475f-9a6f-545654aada04"
      },
      "source": [
        "{pais: codigo for codigo, pais in codigos}"
      ],
      "execution_count": null,
      "outputs": [
        {
          "output_type": "execute_result",
          "data": {
            "text/plain": [
              "{'AUS': 53, 'CHI': 72, 'IND': 47}"
            ]
          },
          "metadata": {
            "tags": []
          },
          "execution_count": 114
        }
      ]
    },
    {
      "cell_type": "markdown",
      "metadata": {
        "id": "GVAN2brjiJSp"
      },
      "source": [
        "otro ejemplo, podemos construir las claves con cadenas f:"
      ]
    },
    {
      "cell_type": "code",
      "metadata": {
        "id": "em9jL3meiGhy",
        "colab": {
          "base_uri": "https://localhost:8080/"
        },
        "outputId": "52a9fece-b2cc-46dd-b338-a01c7298633b"
      },
      "source": [
        "experimentos = {f'experimento_{i}' : [1, 0] for i in range(5)}\n",
        "print(experimentos)"
      ],
      "execution_count": null,
      "outputs": [
        {
          "output_type": "stream",
          "text": [
            "{'experimento_0': [1, 0], 'experimento_1': [1, 0], 'experimento_2': [1, 0], 'experimento_3': [1, 0], 'experimento_4': [1, 0]}\n"
          ],
          "name": "stdout"
        }
      ]
    },
    {
      "cell_type": "markdown",
      "metadata": {
        "id": "h07lYIApiVDO"
      },
      "source": [
        "A diferencia de los elementos dentro de una lista o tupla, los items del diccionario no tienen una noción de orden o posición. \n"
      ]
    },
    {
      "cell_type": "code",
      "metadata": {
        "id": "v6N_5GIsiM7a",
        "colab": {
          "base_uri": "https://localhost:8080/",
          "height": 161
        },
        "outputId": "7dc1aa11-bf98-4f36-b524-aec04d5cac7b"
      },
      "source": [
        "experimentos[1]"
      ],
      "execution_count": null,
      "outputs": [
        {
          "output_type": "error",
          "ename": "KeyError",
          "evalue": "ignored",
          "traceback": [
            "\u001b[0;31m---------------------------------------------------------------------------\u001b[0m",
            "\u001b[0;31mKeyError\u001b[0m                                  Traceback (most recent call last)",
            "\u001b[0;32m<ipython-input-118-17e8bfc68806>\u001b[0m in \u001b[0;36m<module>\u001b[0;34m()\u001b[0m\n\u001b[0;32m----> 1\u001b[0;31m \u001b[0mexperimentos\u001b[0m\u001b[0;34m[\u001b[0m\u001b[0;36m1\u001b[0m\u001b[0;34m]\u001b[0m\u001b[0;34m\u001b[0m\u001b[0;34m\u001b[0m\u001b[0m\n\u001b[0m",
            "\u001b[0;31mKeyError\u001b[0m: 1"
          ]
        }
      ]
    },
    {
      "cell_type": "markdown",
      "metadata": {
        "id": "HFV37sBwiZSX"
      },
      "source": [
        "Podemos acceder o definir un item del diccionario mediante la sintaxis de indexación utilizada para las listas y tuplas, excepto que el índice no es numérico sino una clave válida dentro del diccionario:"
      ]
    },
    {
      "cell_type": "code",
      "metadata": {
        "id": "fGYPMiJ7iXNA",
        "colab": {
          "base_uri": "https://localhost:8080/"
        },
        "outputId": "d7c3844f-9fae-42e9-8df9-540f0ded40bb"
      },
      "source": [
        "experimentos['experimento_0']"
      ],
      "execution_count": null,
      "outputs": [
        {
          "output_type": "execute_result",
          "data": {
            "text/plain": [
              "[1, 0]"
            ]
          },
          "metadata": {
            "tags": []
          },
          "execution_count": 119
        }
      ]
    },
    {
      "cell_type": "markdown",
      "metadata": {
        "id": "wnL5KzzZkao6"
      },
      "source": [
        "Podemos incluso pasarle un nuevo `key` a nuestro diccionario, y asignarle un valo"
      ]
    },
    {
      "cell_type": "code",
      "metadata": {
        "id": "MqOwuZIYicvJ",
        "colab": {
          "base_uri": "https://localhost:8080/"
        },
        "outputId": "f6a2f9a6-28bf-4845-ede4-690bbc3b766e"
      },
      "source": [
        "experimentos['experimento_1'] = [0, 1, 2]\n",
        "experimentos"
      ],
      "execution_count": null,
      "outputs": [
        {
          "output_type": "execute_result",
          "data": {
            "text/plain": [
              "{'experimento_0': [1, 0],\n",
              " 'experimento_1': [0, 1, 2],\n",
              " 'experimento_2': [1, 0],\n",
              " 'experimento_3': [1, 0],\n",
              " 'experimento_4': [1, 0]}"
            ]
          },
          "metadata": {
            "tags": []
          },
          "execution_count": 121
        }
      ]
    },
    {
      "cell_type": "markdown",
      "metadata": {
        "id": "B5a2QmTNihAV"
      },
      "source": [
        "Al igual que con las listas y tuplas, podemos crear diccionarios vacios para luego agregarles las tuplas `(clave:valor)`"
      ]
    },
    {
      "cell_type": "code",
      "metadata": {
        "id": "HaD6fS_yieko"
      },
      "source": [
        "diccio = {}"
      ],
      "execution_count": null,
      "outputs": []
    },
    {
      "cell_type": "markdown",
      "metadata": {
        "id": "cpjb4gquio-N"
      },
      "source": [
        "Tenga en cuenta que las claves son únicas dentro de un diccionario, mientras que los valores pueden no serlo. Los valores de un diccionario pueden ser de cualquier tipo, pero las claves deben ser de un tipo de dato inmutable, como cadenas, números o tuplas. De manera que podemos construir estructuras más complejas como la siguiente:"
      ]
    },
    {
      "cell_type": "code",
      "metadata": {
        "id": "TuXxSxugilRY",
        "colab": {
          "base_uri": "https://localhost:8080/"
        },
        "outputId": "b2282d58-9a1a-4089-84f2-1345d8ba539e"
      },
      "source": [
        "diccio['elemento_0'] = 15\n",
        "diccio"
      ],
      "execution_count": null,
      "outputs": [
        {
          "output_type": "execute_result",
          "data": {
            "text/plain": [
              "{'elemento_0': 15}"
            ]
          },
          "metadata": {
            "tags": []
          },
          "execution_count": 123
        }
      ]
    },
    {
      "cell_type": "markdown",
      "metadata": {
        "id": "JZWIqK7LizKE"
      },
      "source": [
        "En este caso vamos a acceder a los diferentes elementos del diccionario individualmente o al *item* completo si así lo necesitamos. Esto se puede realizar utilizando los métodos `keys`, `values` y `items`, respectivamente. "
      ]
    },
    {
      "cell_type": "code",
      "metadata": {
        "id": "oEYSwMBfiwyA",
        "colab": {
          "base_uri": "https://localhost:8080/"
        },
        "outputId": "8517cd21-b756-4c9b-bc58-a887fc204bf2"
      },
      "source": [
        "cd.keys()"
      ],
      "execution_count": null,
      "outputs": [
        {
          "output_type": "execute_result",
          "data": {
            "text/plain": [
              "dict_keys(['USA', 'COL', 'BRA'])"
            ]
          },
          "metadata": {
            "tags": []
          },
          "execution_count": 124
        }
      ]
    },
    {
      "cell_type": "code",
      "metadata": {
        "id": "BwIwQcMki3Wi",
        "colab": {
          "base_uri": "https://localhost:8080/"
        },
        "outputId": "ee871d32-4cc5-4b57-cc2b-cb019da23d12"
      },
      "source": [
        "cd.values()"
      ],
      "execution_count": null,
      "outputs": [
        {
          "output_type": "execute_result",
          "data": {
            "text/plain": [
              "dict_values([21315, 15648, 48915])"
            ]
          },
          "metadata": {
            "tags": []
          },
          "execution_count": 125
        }
      ]
    },
    {
      "cell_type": "code",
      "metadata": {
        "id": "yp8qK0dwi4PR",
        "colab": {
          "base_uri": "https://localhost:8080/"
        },
        "outputId": "77a06d4d-0c8c-4cd3-802e-f7d33eca38af"
      },
      "source": [
        "cd.items()"
      ],
      "execution_count": null,
      "outputs": [
        {
          "output_type": "execute_result",
          "data": {
            "text/plain": [
              "dict_items([('USA', 21315), ('COL', 15648), ('BRA', 48915)])"
            ]
          },
          "metadata": {
            "tags": []
          },
          "execution_count": 126
        }
      ]
    },
    {
      "cell_type": "markdown",
      "metadata": {
        "id": "0WstQN28i8KM"
      },
      "source": [
        "Podemos utilizar estos métodos para iterar sobre alguno de los elementos"
      ]
    },
    {
      "cell_type": "code",
      "metadata": {
        "id": "jkUn-whLi5qu",
        "colab": {
          "base_uri": "https://localhost:8080/"
        },
        "outputId": "75f21e82-4dbf-4f65-96d0-22df101105af"
      },
      "source": [
        "for k in cd.keys():\n",
        "  print(k)"
      ],
      "execution_count": null,
      "outputs": [
        {
          "output_type": "stream",
          "text": [
            "USA\n",
            "COL\n",
            "BRA\n"
          ],
          "name": "stdout"
        }
      ]
    },
    {
      "cell_type": "markdown",
      "metadata": {
        "id": "-sSK_7jzHPek"
      },
      "source": [
        "Note que por defecto, si iteramos sobre el diccionario, estaremos iterando sobre las claves, por lo que en este caso no hay necesidad de utilizar el método `keys`"
      ]
    },
    {
      "cell_type": "code",
      "metadata": {
        "id": "ig8NmEKCHGun",
        "colab": {
          "base_uri": "https://localhost:8080/"
        },
        "outputId": "2e14061a-b9fd-43e7-cdf2-2c0274be4d56"
      },
      "source": [
        "for k in cd:\n",
        "  print(k)"
      ],
      "execution_count": null,
      "outputs": [
        {
          "output_type": "stream",
          "text": [
            "USA\n",
            "COL\n",
            "BRA\n"
          ],
          "name": "stdout"
        }
      ]
    },
    {
      "cell_type": "code",
      "metadata": {
        "id": "g56E7gqUi-cY",
        "colab": {
          "base_uri": "https://localhost:8080/"
        },
        "outputId": "ae9e1319-402b-40be-c9a6-0a13be4487f5"
      },
      "source": [
        "for v in cd.values():\n",
        "  print(v)"
      ],
      "execution_count": null,
      "outputs": [
        {
          "output_type": "stream",
          "text": [
            "21315\n",
            "15648\n",
            "48915\n"
          ],
          "name": "stdout"
        }
      ]
    },
    {
      "cell_type": "code",
      "metadata": {
        "id": "0nAbCtNXjFWW",
        "colab": {
          "base_uri": "https://localhost:8080/"
        },
        "outputId": "5ab49ff4-fdff-4d8b-a40c-98c9fcabde00"
      },
      "source": [
        "for k, v in cd.items():\n",
        "  print(k, v)"
      ],
      "execution_count": null,
      "outputs": [
        {
          "output_type": "stream",
          "text": [
            "USA 21315\n",
            "COL 15648\n",
            "BRA 48915\n"
          ],
          "name": "stdout"
        }
      ]
    },
    {
      "cell_type": "markdown",
      "metadata": {
        "id": "qcRnTYv2jKkw"
      },
      "source": [
        "**Ejercicio 5:** Dado el diccionario\n",
        "\n",
        "> \n",
        "    notas = {'Ana':9, 'Luis':7, 'Pedro':2, 'Marta':5, 'Nerea':4, 'Pablo':6}\n",
        "\n",
        "  1) cree una lista que contenga notas mayores o iguales a 5.\n",
        "\n",
        "  2) cree una lista que contenga los nombres de los estudiantes que contengan la letra \"a\".\n",
        "\n",
        "  3) cree una lista que contenga los nombres de los estudiantes que aprobaron (nota >= 5) "
      ]
    },
    {
      "cell_type": "code",
      "metadata": {
        "id": "e5t2HcI-jHIe",
        "colab": {
          "base_uri": "https://localhost:8080/"
        },
        "outputId": "d89adccf-0c8c-480f-bdff-54e838179252"
      },
      "source": [
        "notas = {'Ana':9, 'Luis':7, 'Pedro':2, 'Marta':5, 'Nerea':4, 'Pablo':6}\n",
        "\n",
        "l = []\n",
        "\n",
        "for v in notas.values():\n",
        "  if v >= 5:\n",
        "    l.append(v)\n",
        "\n",
        "print(l)"
      ],
      "execution_count": null,
      "outputs": [
        {
          "output_type": "stream",
          "text": [
            "[9, 7, 5, 6]\n"
          ],
          "name": "stdout"
        }
      ]
    },
    {
      "cell_type": "code",
      "metadata": {
        "colab": {
          "base_uri": "https://localhost:8080/"
        },
        "id": "Z-BD96Uc7qne",
        "outputId": "9bd7aba3-c1d6-4673-e9a7-26807ec1b8b2"
      },
      "source": [
        "l = []\n",
        "\n",
        "for k in notas.keys():\n",
        "  if 'a' in k:\n",
        "    l.append(k)\n",
        "\n",
        "print(l)"
      ],
      "execution_count": null,
      "outputs": [
        {
          "output_type": "stream",
          "text": [
            "['Ana', 'Marta', 'Nerea', 'Pablo']\n"
          ],
          "name": "stdout"
        }
      ]
    },
    {
      "cell_type": "code",
      "metadata": {
        "colab": {
          "base_uri": "https://localhost:8080/"
        },
        "id": "qOw-mNAd72bx",
        "outputId": "700d9226-bc8c-4173-909e-533224548431"
      },
      "source": [
        "l = []\n",
        "\n",
        "for k, v in notas.items():\n",
        "  if v > 5 :\n",
        "    l.append(k)\n",
        "print(notas)\n",
        "print(l)"
      ],
      "execution_count": null,
      "outputs": [
        {
          "output_type": "stream",
          "text": [
            "{'Ana': 9, 'Luis': 7, 'Pedro': 2, 'Marta': 5, 'Nerea': 4, 'Pablo': 6}\n",
            "['Ana', 'Luis', 'Pablo']\n"
          ],
          "name": "stdout"
        }
      ]
    },
    {
      "cell_type": "markdown",
      "metadata": {
        "id": "d6b1p5WfkoMj"
      },
      "source": [
        "**Ejercicio 6:** Dada la siguiente lista, itere sobre ella y cuente la aparición de cada elemento y cree un diccionario para mostrar el recuento de cada elemento\n",
        "\n",
        "> \n",
        "    Lista = [11, 45, 8, 11, 23, 45, 23, 45, 89]"
      ]
    },
    {
      "cell_type": "code",
      "metadata": {
        "id": "MGg-_4RWPYc7"
      },
      "source": [
        ""
      ],
      "execution_count": null,
      "outputs": []
    },
    {
      "cell_type": "code",
      "metadata": {
        "id": "mr6XuFx1dM52"
      },
      "source": [
        ""
      ],
      "execution_count": null,
      "outputs": []
    },
    {
      "cell_type": "markdown",
      "metadata": {
        "id": "F1GYHQm3tg51"
      },
      "source": [
        "Consultar ver variables"
      ]
    }
  ]
}